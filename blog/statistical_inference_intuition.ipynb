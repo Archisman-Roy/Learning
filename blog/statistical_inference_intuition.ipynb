{
 "cells": [
  {
   "cell_type": "markdown",
   "metadata": {},
   "source": [
    "\n",
    "\n",
    "### Objective:\n",
    "Build intuition behind statistical inference"
   ]
  },
  {
   "cell_type": "code",
   "execution_count": 17,
   "metadata": {},
   "outputs": [],
   "source": [
    "import numpy as np\n",
    "import seaborn as sns\n",
    "import pandas as pd\n",
    "import matplotlib.pyplot as plt\n",
    "sns.set(color_codes=True)\n",
    "%matplotlib inline"
   ]
  },
  {
   "cell_type": "code",
   "execution_count": 18,
   "metadata": {},
   "outputs": [],
   "source": [
    "##### Setting the Population \n",
    "control = np.random.normal(loc=3,scale = 3, size = 1000000)\n",
    "treatment = np.random.normal(loc=3.15,scale = 3, size = 1000000)"
   ]
  },
  {
   "cell_type": "code",
   "execution_count": 19,
   "metadata": {},
   "outputs": [],
   "source": [
    "#Actual Lift in metric is 0%\n",
    "observed_difference = treatment.mean() - control.mean()"
   ]
  },
  {
   "cell_type": "code",
   "execution_count": 20,
   "metadata": {},
   "outputs": [
    {
     "name": "stdout",
     "output_type": "stream",
     "text": [
      "Actual Lift in metric is: 0.1416863468204923\n"
     ]
    }
   ],
   "source": [
    "print(\"Actual Lift in metric is:\", observed_difference)"
   ]
  },
  {
   "cell_type": "markdown",
   "metadata": {},
   "source": [
    "In real world we do not have the entire population - we only have a sample of 1000 users in each cohort. \n",
    "\n",
    "Expected increase in metric is 5% i.e. metric = 3 will increase to 3.15"
   ]
  },
  {
   "cell_type": "code",
   "execution_count": 42,
   "metadata": {},
   "outputs": [
    {
     "name": "stdout",
     "output_type": "stream",
     "text": [
      "Lift in metric for our sample: 0.13193681695263137\n"
     ]
    }
   ],
   "source": [
    "sample_size = 100000\n",
    "sample_treatment = np.random.choice(treatment, size=sample_size, replace=True, p=None)\n",
    "sample_control = np.random.choice(control, size=sample_size, replace=True, p=None)\n",
    "sample_observed_difference = sample_treatment.mean() - sample_control.mean()\n",
    "print(\"Lift in metric for our sample:\", sample_observed_difference)"
   ]
  },
  {
   "cell_type": "code",
   "execution_count": 43,
   "metadata": {},
   "outputs": [],
   "source": [
    "def bootstrap_experiment(number_of_times,sample_size,A,B):\n",
    "    mean_difference = np.empty([number_of_times,1])\n",
    "    for times in np.arange(number_of_times):\n",
    "        sample_1 = np.random.choice(A, size=sample_size, replace=True, p=None)\n",
    "        sample_2 = np.random.choice(B, size=sample_size, replace=True, p=None)\n",
    "        mean_difference[times] = np.mean(sample_2) - np.mean(sample_1)\n",
    "    return mean_difference"
   ]
  },
  {
   "cell_type": "code",
   "execution_count": 44,
   "metadata": {},
   "outputs": [
    {
     "data": {
      "image/png": "[encoded data removed]",
      "text/plain": [
       "<Figure size 432x288 with 1 Axes>"
      ]
     },
     "metadata": {
      "needs_background": "light"
     },
     "output_type": "display_data"
    }
   ],
   "source": [
    "iterations = 10000\n",
    "mean_difference_AB = bootstrap_experiment(iterations,sample_size,control,treatment)\n",
    "mean_difference_AA = bootstrap_experiment(iterations,sample_size,control,control)\n",
    "\n",
    "sns.distplot(mean_difference_AA, kde=False)\n",
    "sns.distplot(mean_difference_AB, kde=False)\n",
    "\n",
    "plt.show()"
   ]
  },
  {
   "cell_type": "code",
   "execution_count": 26,
   "metadata": {},
   "outputs": [],
   "source": [
    "mean_difference_AA = np.sort(mean_difference_AA, axis=0)\n",
    "mean_difference_AB = np.sort(mean_difference_AB, axis=0)"
   ]
  },
  {
   "cell_type": "code",
   "execution_count": 27,
   "metadata": {},
   "outputs": [
    {
     "data": {
      "text/plain": [
       "array([0.04068854, 0.24753195])"
      ]
     },
     "execution_count": 27,
     "metadata": {},
     "output_type": "execute_result"
    }
   ],
   "source": [
    "np.percentile(mean_difference_AB, [2.5,97.5])"
   ]
  },
  {
   "cell_type": "code",
   "execution_count": 28,
   "metadata": {},
   "outputs": [
    {
     "data": {
      "text/plain": [
       "array([-0.10420761,  0.10724095])"
      ]
     },
     "execution_count": 28,
     "metadata": {},
     "output_type": "execute_result"
    }
   ],
   "source": [
    "np.percentile(mean_difference_AA, [2.5,97.5])"
   ]
  }
 ],
 "metadata": {
  "kernelspec": {
   "display_name": "Python 3 (General DS)",
   "language": "python",
   "name": "python3"
  },
  "language_info": {
   "codemirror_mode": {
    "name": "ipython",
    "version": 3
   },
   "file_extension": ".py",
   "mimetype": "text/x-python",
   "name": "python",
   "nbconvert_exporter": "python",
   "pygments_lexer": "ipython3",
   "version": "3.6.4"
  }
 },
 "nbformat": 4,
 "nbformat_minor": 2
}
