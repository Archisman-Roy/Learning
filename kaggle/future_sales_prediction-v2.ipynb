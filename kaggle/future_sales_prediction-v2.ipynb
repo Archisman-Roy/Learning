{
 "cells": [
  {
   "cell_type": "markdown",
   "metadata": {},
   "source": [
    "Things to Try\n",
    "\n",
    "- Avoid overfitting, use high min_child weight\n",
    "- Remove cases where sum of all lag is zero\n",
    "- Use mean item price across all stores and use that to compute price delta\n",
    "- Get lags for shop aggregates, item aggegates, category aggregates\n",
    "- reduce lags to 1,2,3,6,12"
   ]
  },
  {
   "cell_type": "markdown",
   "metadata": {
    "heading_collapsed": true
   },
   "source": [
    "### Relevant links"
   ]
  },
  {
   "cell_type": "markdown",
   "metadata": {
    "hidden": true
   },
   "source": [
    "https://www.kaggle.com/c/competitive-data-science-predict-future-sales\n",
    "\n",
    "\n",
    "Also in this notebook, I am trying to change how features are generated in the v0 version, Here I will not fix the training month to only one month but rather use all data points and take lags. Will take out of time sample as a validation dataset but training will have data from any number of months"
   ]
  },
  {
   "cell_type": "markdown",
   "metadata": {
    "heading_collapsed": true
   },
   "source": [
    "### Imports"
   ]
  },
  {
   "cell_type": "code",
   "execution_count": 12,
   "metadata": {
    "hidden": true
   },
   "outputs": [
    {
     "name": "stdout",
     "output_type": "stream",
     "text": [
      "The autotime extension is already loaded. To reload it, use:\n",
      "  %reload_ext autotime\n",
      "time: 33.3 ms\n"
     ]
    }
   ],
   "source": [
    "%reload_ext autoreload\n",
    "%autoreload 2\n",
    "%matplotlib inline \n",
    "%load_ext autotime"
   ]
  },
  {
   "cell_type": "code",
   "execution_count": 79,
   "metadata": {
    "hidden": true
   },
   "outputs": [
    {
     "name": "stdout",
     "output_type": "stream",
     "text": [
      "time: 24.2 ms\n"
     ]
    }
   ],
   "source": [
    "from toolbox import *\n",
    "from scripts.future_sales_prediction_custom import *"
   ]
  },
  {
   "cell_type": "code",
   "execution_count": 40,
   "metadata": {
    "hidden": true
   },
   "outputs": [
    {
     "name": "stdout",
     "output_type": "stream",
     "text": [
      "time: 33.4 ms\n"
     ]
    }
   ],
   "source": [
    "from scripts.imports import *\n",
    "import scripts.kaggle_data as kd"
   ]
  },
  {
   "cell_type": "code",
   "execution_count": 15,
   "metadata": {
    "hidden": true
   },
   "outputs": [
    {
     "name": "stdout",
     "output_type": "stream",
     "text": [
      "time: 29.7 ms\n"
     ]
    }
   ],
   "source": [
    "pd.options.display.max_rows = 4000\n",
    "pd.set_option('display.max_columns', 999)\n",
    "pd.options.mode.chained_assignment = None"
   ]
  },
  {
   "cell_type": "markdown",
   "metadata": {
    "heading_collapsed": true
   },
   "source": [
    "### Getting data"
   ]
  },
  {
   "cell_type": "code",
   "execution_count": null,
   "metadata": {
    "hidden": true
   },
   "outputs": [],
   "source": [
    "current_path = os.getcwd()\n",
    "data_dir_path = os.path.join(current_path,\"data\")\n",
    "\n",
    "if not os.path.exists(data_dir_path):\n",
    "    os.mkdir(data_dir_path)\n",
    "\n",
    "print(data_dir_path) #Never print"
   ]
  },
  {
   "cell_type": "code",
   "execution_count": null,
   "metadata": {
    "hidden": true
   },
   "outputs": [],
   "source": [
    "kd.download_data('competitive-data-science-predict-future-sales',current_path)"
   ]
  },
  {
   "cell_type": "code",
   "execution_count": 9,
   "metadata": {
    "hidden": true
   },
   "outputs": [
    {
     "data": {
      "text/plain": [
       "['shops',\n",
       " 'items',\n",
       " 'item_categories',\n",
       " 'sales_train',\n",
       " 'sample_submission',\n",
       " 'test']"
      ]
     },
     "execution_count": 9,
     "metadata": {},
     "output_type": "execute_result"
    },
    {
     "name": "stdout",
     "output_type": "stream",
     "text": [
      "time: 4.96 ms\n"
     ]
    }
   ],
   "source": [
    "#Listify files to download\n",
    "all_data_files = os.listdir('data/') #Getting all files in data folder in a list\n",
    "all_data_files = [x for x in all_data_files if x.endswith('.csv')] #Removing .ipynb files\n",
    "all_data_files = [remove_from_right(x,4) for x in all_data_files] #Removing .csvs\n",
    "all_data_files"
   ]
  },
  {
   "cell_type": "code",
   "execution_count": 10,
   "metadata": {
    "hidden": true
   },
   "outputs": [
    {
     "name": "stdout",
     "output_type": "stream",
     "text": [
      "shops=kd.read_data('data/','csv','shops')\n",
      "\n",
      "Shape of shops:  (60, 2)\n",
      "\n",
      "Data types in shops: \n",
      " \n",
      "  shop_name    object\n",
      "shop_id       int64\n",
      "dtype: object\n",
      "---------------------\n",
      "items=kd.read_data('data/','csv','items')\n",
      "\n",
      "Shape of items:  (22170, 3)\n",
      "\n",
      "Data types in items: \n",
      " \n",
      "  item_name           object\n",
      "item_id              int64\n",
      "item_category_id     int64\n",
      "dtype: object\n",
      "---------------------\n",
      "item_categories=kd.read_data('data/','csv','item_categories')\n",
      "\n",
      "Shape of item_categories:  (84, 2)\n",
      "\n",
      "Data types in item_categories: \n",
      " \n",
      "  item_category_name    object\n",
      "item_category_id       int64\n",
      "dtype: object\n",
      "---------------------\n",
      "sales_train=kd.read_data('data/','csv','sales_train')\n",
      "\n",
      "Shape of sales_train:  (2935849, 6)\n",
      "\n",
      "Data types in sales_train: \n",
      " \n",
      "  date               object\n",
      "date_block_num      int64\n",
      "shop_id             int64\n",
      "item_id             int64\n",
      "item_price        float64\n",
      "item_cnt_day      float64\n",
      "dtype: object\n",
      "---------------------\n",
      "sample_submission=kd.read_data('data/','csv','sample_submission')\n",
      "\n",
      "Shape of sample_submission:  (214200, 2)\n",
      "\n",
      "Data types in sample_submission: \n",
      " \n",
      "  ID                  int64\n",
      "item_cnt_month    float64\n",
      "dtype: object\n",
      "---------------------\n",
      "test=kd.read_data('data/','csv','test')\n",
      "\n",
      "Shape of test:  (214200, 3)\n",
      "\n",
      "Data types in test: \n",
      " \n",
      "  ID         int64\n",
      "shop_id    int64\n",
      "item_id    int64\n",
      "dtype: object\n",
      "---------------------\n",
      "time: 1.66 s\n"
     ]
    }
   ],
   "source": [
    "for i in all_data_files:\n",
    "    print(i + \"=\" + f\"kd.read_data('data/','csv','{i}')\")\n",
    "    print(\"\")\n",
    "    exec(i + \"=\" + f\"kd.read_data('data/','csv','{i}')\")\n",
    "    exec(f\"shape = {i}.shape\")\n",
    "    print(f\"Shape of {i}: \", shape)\n",
    "    exec(f\"data_types = {i}.dtypes\")\n",
    "    print(\"\")\n",
    "    print(f\"Data types in {i}: \\n \\n \", data_types)\n",
    "    print(\"---------------------\")"
   ]
  },
  {
   "cell_type": "code",
   "execution_count": 11,
   "metadata": {
    "hidden": true
   },
   "outputs": [
    {
     "name": "stdout",
     "output_type": "stream",
     "text": [
      "time: 932 µs\n"
     ]
    }
   ],
   "source": [
    "save_test = test"
   ]
  },
  {
   "cell_type": "markdown",
   "metadata": {
    "heading_collapsed": true
   },
   "source": [
    "### Testing data"
   ]
  },
  {
   "cell_type": "markdown",
   "metadata": {
    "heading_collapsed": true,
    "hidden": true
   },
   "source": [
    "#### Structural checks"
   ]
  },
  {
   "cell_type": "code",
   "execution_count": null,
   "metadata": {
    "hidden": true
   },
   "outputs": [],
   "source": [
    "#Unique data values\n",
    "#sales_train >> \\\n",
    "#select(X.date,X.date_block_num) >> \\\n",
    "#distinct(X.date,X.date_block_num) >> \\\n",
    "#arrange(X.date_block_num, ascending = True) \n",
    "\n",
    "#Finding\n",
    "#We have daily sales data as well"
   ]
  },
  {
   "cell_type": "code",
   "execution_count": null,
   "metadata": {
    "hidden": true
   },
   "outputs": [],
   "source": [
    "#Check for missing value in train data\n",
    "#for k in sales_train.columns:\n",
    "    #display_all(sales_train >> summarise_each([null_percent],k))"
   ]
  },
  {
   "cell_type": "markdown",
   "metadata": {
    "heading_collapsed": true,
    "hidden": true
   },
   "source": [
    "#### See headers of all data"
   ]
  },
  {
   "cell_type": "code",
   "execution_count": null,
   "metadata": {
    "hidden": true
   },
   "outputs": [],
   "source": [
    "sales_train >> head"
   ]
  },
  {
   "cell_type": "code",
   "execution_count": null,
   "metadata": {
    "hidden": true
   },
   "outputs": [],
   "source": [
    "shops >> head"
   ]
  },
  {
   "cell_type": "code",
   "execution_count": null,
   "metadata": {
    "hidden": true
   },
   "outputs": [],
   "source": [
    "items >> head"
   ]
  },
  {
   "cell_type": "code",
   "execution_count": null,
   "metadata": {
    "hidden": true
   },
   "outputs": [],
   "source": [
    "item_categories >> head"
   ]
  },
  {
   "cell_type": "code",
   "execution_count": null,
   "metadata": {
    "hidden": true
   },
   "outputs": [],
   "source": [
    "test >> head"
   ]
  },
  {
   "cell_type": "markdown",
   "metadata": {
    "heading_collapsed": true
   },
   "source": [
    "### Feature engineering"
   ]
  },
  {
   "cell_type": "markdown",
   "metadata": {
    "heading_collapsed": true,
    "hidden": true
   },
   "source": [
    "#### Create features"
   ]
  },
  {
   "cell_type": "code",
   "execution_count": 16,
   "metadata": {
    "hidden": true
   },
   "outputs": [
    {
     "name": "stdout",
     "output_type": "stream",
     "text": [
      "time: 4.55 s\n"
     ]
    }
   ],
   "source": [
    "# Add dates to training data\n",
    "sales_train = add_datepart(df = sales_train, custom_date_format = '%d.%m.%Y',field_name = 'date', drop = False)\n",
    "#Assignment is done to avoid printing the dataframe\n",
    "raw_data = sales_train"
   ]
  },
  {
   "cell_type": "code",
   "execution_count": 17,
   "metadata": {
    "hidden": true
   },
   "outputs": [
    {
     "name": "stdout",
     "output_type": "stream",
     "text": [
      "time: 10.1 s\n"
     ]
    }
   ],
   "source": [
    "#Convert item_id and shop_id as strings\n",
    "#Replace negative values of sales with 0 and add separate field for capturing returns\n",
    "raw_data = raw_data >> mutate(item_id = X.item_id.astype(str), shop_id = X.shop_id.astype(str)) >> \\\n",
    "mutate(item_cnt_day = if_else(X.item_cnt_day < 0, 0, X.item_cnt_day),\n",
    "      item_cnt_day_return = if_else(X.item_cnt_day < 0, -X.item_cnt_day,0))"
   ]
  },
  {
   "cell_type": "code",
   "execution_count": 18,
   "metadata": {
    "hidden": true
   },
   "outputs": [
    {
     "name": "stdout",
     "output_type": "stream",
     "text": [
      "time: 23.5 ms\n"
     ]
    }
   ],
   "source": [
    "#raw_data >> select(X.date_block_num,X.Month,X.Year) >> \\\n",
    "#distinct(X.date_block_num,X.Month,X.Year) >> arrange(X.date_block_num)\n",
    "#Will use date block num as a unique month idetifier from now on"
   ]
  },
  {
   "cell_type": "code",
   "execution_count": 23,
   "metadata": {
    "hidden": true
   },
   "outputs": [
    {
     "name": "stdout",
     "output_type": "stream",
     "text": [
      "time: 4.74 s\n"
     ]
    }
   ],
   "source": [
    "#Compute monthly metrics\n",
    "#Price changes \n",
    "#number of purchases\n",
    "#Translate everything daily to monthly\n",
    "#Standard deviation is a time consuming computation in dask, so not including for now\n",
    "\n",
    "metric_dictionary = {'item_cnt_day': ['sum','count'],'item_price' : ['mean']}\n",
    "\n",
    "raw_data_month = dd_summarise(raw_data,['item_id','shop_id','date_block_num'],metric_dictionary)\n",
    "raw_data_month = raw_data_month >> mutate(per_day_sales = X.item_cnt_day_sum/X.item_cnt_day_count)"
   ]
  },
  {
   "cell_type": "code",
   "execution_count": 24,
   "metadata": {
    "hidden": true
   },
   "outputs": [
    {
     "name": "stdout",
     "output_type": "stream",
     "text": [
      "time: 853 ms\n"
     ]
    }
   ],
   "source": [
    "#Cap sales value from 0 to 20\n",
    "raw_data_month = raw_data_month >> mutate(item_cnt_day_sum = if_else(X.item_cnt_day_sum > 20, 20, X.item_cnt_day_sum))"
   ]
  },
  {
   "cell_type": "code",
   "execution_count": 25,
   "metadata": {
    "hidden": true
   },
   "outputs": [
    {
     "name": "stdout",
     "output_type": "stream",
     "text": [
      "All items:  (21807, 1)\n",
      "All shops:  (60, 1)\n",
      "All months:  (34, 1)\n",
      "All item-shop combination:  (424124, 2)\n",
      "All item-shop combination from test:  (214200, 2)\n",
      "All item-shop combination from train + test:  (526920, 2)\n",
      "time: 4.31 s\n"
     ]
    }
   ],
   "source": [
    "#Unique values in each field\n",
    "all_items = raw_data >> select(X.item_id) >> distinct(X.item_id)\n",
    "print(\"All items: \", all_items.shape)\n",
    "all_shops = raw_data >> select(X.shop_id) >> distinct(X.shop_id)\n",
    "print(\"All shops: \", all_shops.shape)\n",
    "all_months = raw_data >> select(X.date_block_num) >> distinct(X.date_block_num)\n",
    "print(\"All months: \", all_months.shape)\n",
    "item_shop = raw_data >> select(X.item_id,X.shop_id) >> distinct(X.item_id,X.shop_id)\n",
    "print(\"All item-shop combination: \", item_shop.shape)\n",
    "item_shop_from_test = save_test >> \\\n",
    "mutate(item_id = X.item_id.astype(str), shop_id = X.shop_id.astype(str)) >> \\\n",
    "select(X.item_id,X.shop_id) >> distinct(X.item_id,X.shop_id)\n",
    "print(\"All item-shop combination from test: \", item_shop_from_test.shape)\n",
    "item_shop_all = item_shop >> bind_rows(item_shop_from_test) >> \\\n",
    "select(X.item_id,X.shop_id) >> distinct(X.item_id,X.shop_id)\n",
    "print(\"All item-shop combination from train + test: \", item_shop_all.shape)"
   ]
  },
  {
   "cell_type": "code",
   "execution_count": 107,
   "metadata": {
    "hidden": true
   },
   "outputs": [
    {
     "name": "stdout",
     "output_type": "stream",
     "text": [
      "Shape of sparse data:  (13173000, 7)\n",
      "Shape of test data:  (100, 3)\n",
      "time: 16.9 s\n"
     ]
    }
   ],
   "source": [
    "#Train and valid\n",
    "item_shop_all_merge = item_shop_all >> mutate(key = 1)\n",
    "all_months = all_months >> mask(X.date_block_num > 8) >> mutate(key = 1) #Keeping 2 Novembers\n",
    "sparse_raw_data_month = item_shop_all_merge >> inner_join(all_months, by = ['key']) >> drop(X.key) >> \\\n",
    "left_join(raw_data_month, by = ['item_id','shop_id','date_block_num'])\n",
    "\n",
    "sparse_raw_data_month.item_cnt_day_sum.fillna(0,inplace = True) \n",
    "sparse_raw_data_month.item_cnt_day_count.fillna(0,inplace = True)\n",
    "sparse_raw_data_month.fillna(-999,inplace = True) #For price and sales per day\n",
    "\n",
    "\n",
    "print(\"Shape of sparse data: \", sparse_raw_data_month.shape )\n",
    "\n",
    "#Test\n",
    "test = save_test >> mutate(item_id = X.item_id.astype(str), \n",
    "                           shop_id = X.shop_id.astype(str), \n",
    "                           date_block_num = 34) >> drop(X.ID) >> sample(100)\n",
    "\n",
    "print(\"Shape of test data: \", test.shape )"
   ]
  },
  {
   "cell_type": "code",
   "execution_count": 108,
   "metadata": {
    "hidden": true
   },
   "outputs": [
    {
     "name": "stdout",
     "output_type": "stream",
     "text": [
      "lag: 1 done\n",
      "lag: 2 done\n",
      "lag: 3 done\n",
      "lag: 4 done\n",
      "lag: 5 done\n",
      "lag: 6 done\n",
      "lag: 11 done\n",
      "lag: 12 done\n",
      "lag: 13 done\n",
      "Metric: item_cnt_day_sum done\n",
      "lag: 1 done\n",
      "lag: 2 done\n",
      "lag: 3 done\n",
      "lag: 4 done\n",
      "lag: 5 done\n",
      "lag: 6 done\n",
      "lag: 11 done\n",
      "lag: 12 done\n",
      "lag: 13 done\n",
      "Metric: item_price_mean done\n",
      "Shape before NaN removal:  (2500, 25)\n",
      "Shape after NaN removal:  (1200, 25)\n",
      "lag: 1 done\n",
      "lag: 2 done\n",
      "lag: 3 done\n",
      "lag: 4 done\n",
      "lag: 5 done\n",
      "lag: 6 done\n",
      "lag: 11 done\n",
      "lag: 12 done\n",
      "lag: 13 done\n",
      "Metric: item_cnt_day_sum done\n",
      "lag: 1 done\n",
      "lag: 2 done\n",
      "lag: 3 done\n",
      "lag: 4 done\n",
      "lag: 5 done\n",
      "lag: 6 done\n",
      "lag: 11 done\n",
      "lag: 12 done\n",
      "lag: 13 done\n",
      "Metric: item_price_mean done\n",
      "Shape before NaN removal:  (100, 25)\n",
      "Shape after NaN removal:  (100, 25)\n",
      "time: 6.16 s\n"
     ]
    }
   ],
   "source": [
    "#Select training and valid months\n",
    "#Training: Past November: 22   and October: 21 , take other months as well\n",
    "#Since capturing all months will isolate nature of trips in November\n",
    "#Valid: Current October: 33\n",
    "\n",
    "#Start creating lag variables for everything and then merge with test data to attach the features\n",
    "\n",
    "samples = item_shop_all >> sample(100) \n",
    "sparse_raw_data_month_sample = sparse_raw_data_month >> inner_join(samples, by = ['item_id','shop_id']) \n",
    "\n",
    "metric_list = ['item_cnt_day_sum','item_price_mean']\n",
    "sparse_raw_data_month_sample = apply_lag(sparse_raw_data_month_sample,\n",
    "                                         ['item_id','shop_id'],\n",
    "                                         'date_block_num', \n",
    "                                         metric_list,\n",
    "                                         [1,2,3,4,5,6,11,12,13])\n",
    "\n",
    "\n",
    "print('Shape before NaN removal: ',sparse_raw_data_month_sample.shape )\n",
    "sparse_raw_data_month_sample.dropna(inplace = True)\n",
    "print('Shape after NaN removal: ',sparse_raw_data_month_sample.shape )\n",
    "\n",
    "#Get the same metrics for test data\n",
    "sparse_raw_data_month_test = test >> select(X.item_id,X.shop_id) >> \\\n",
    "inner_join(sparse_raw_data_month, by = ['item_id','shop_id']) \n",
    "\n",
    "concatenated_test = pd.concat([test, sparse_raw_data_month_test], sort=True) >> arrange(X.item_id,X.shop_id,X.date_block_num)\n",
    "\n",
    "test = apply_lag(concatenated_test,\n",
    "                 ['item_id','shop_id'],\n",
    "                 'date_block_num', \n",
    "                 metric_list,\n",
    "                 [1,2,3,4,5,6,11,12,13])\n",
    "\n",
    "test = test >> mask(X.date_block_num == 34) \n",
    "\n",
    "test.item_cnt_day_sum.fillna(0,inplace = True) \n",
    "test.item_cnt_day_count.fillna(0,inplace = True) \n",
    "test.item_price_mean.fillna(-999,inplace = True) \n",
    "test.per_day_sales.fillna(-999,inplace = True) \n",
    "\n",
    "print('Shape before NaN removal: ',test.shape )\n",
    "test.dropna(inplace = True)\n",
    "print('Shape after NaN removal: ',test.shape ) #There shouldn't be any drop\n",
    "\n",
    "#Fill price -999 with NAs again so that mean computation in future steps are correct\n",
    "test.replace(-999,np.NaN,inplace = True)\n",
    "sparse_raw_data_month_sample.replace(-999,np.NaN,inplace = True)"
   ]
  },
  {
   "cell_type": "code",
   "execution_count": 110,
   "metadata": {
    "hidden": true
   },
   "outputs": [
    {
     "name": "stdout",
     "output_type": "stream",
     "text": [
      "time: 1.15 s\n"
     ]
    }
   ],
   "source": [
    "#Get date features for all date block num\n",
    "date_block_num_mapping = dd_summarise(raw_data,['date_block_num'],{'Month':['min']})\n",
    "sparse_raw_data_month_sample = sparse_raw_data_month_sample >> left_join(date_block_num_mapping, by = ['date_block_num'])\n",
    "test = test >> mutate(Month_min = 11)"
   ]
  },
  {
   "cell_type": "code",
   "execution_count": 111,
   "metadata": {
    "hidden": true
   },
   "outputs": [
    {
     "name": "stdout",
     "output_type": "stream",
     "text": [
      "time: 309 ms\n"
     ]
    }
   ],
   "source": [
    "#Item category size \n",
    "sparse_raw_data_month_sample = item_category_size(sparse_raw_data_month_sample,items)\n",
    "test = item_category_size(test,items)"
   ]
  },
  {
   "cell_type": "code",
   "execution_count": 112,
   "metadata": {
    "hidden": true
   },
   "outputs": [
    {
     "name": "stdout",
     "output_type": "stream",
     "text": [
      "time: 21.2 ms\n"
     ]
    }
   ],
   "source": [
    "#Parameters for next set of features\n",
    "custom_parameters = {\n",
    " 'sum_values': None,\n",
    " 'skewness': None,\n",
    " 'linear_trend': [{\"attr\": \"slope\"}]}\n",
    "\n",
    "metric_list_sales = ['item_cnt_day_sum_lag_1',\n",
    "                     'item_cnt_day_sum_lag_2',\n",
    "                     'item_cnt_day_sum_lag_3',\n",
    "                     'item_cnt_day_sum_lag_4',\n",
    "                     'item_cnt_day_sum_lag_5',\n",
    "                     'item_cnt_day_sum_lag_6']\n",
    "\n",
    "metric_list_sales_more = ['item_cnt_day_sum_lag_1',\n",
    "                     'item_cnt_day_sum_lag_2',\n",
    "                     'item_cnt_day_sum_lag_3',\n",
    "                     'item_cnt_day_sum_lag_4',\n",
    "                     'item_cnt_day_sum_lag_5',\n",
    "                     'item_cnt_day_sum_lag_6',\n",
    "                     'item_cnt_day_sum_lag_11',\n",
    "                     'item_cnt_day_sum_lag_12',\n",
    "                     'item_cnt_day_sum_lag_13']\n",
    "\n",
    "metric_list_price = ['item_price_mean_lag_1',\n",
    "                     'item_price_mean_lag_2',\n",
    "                     'item_price_mean_lag_3',\n",
    "                     'item_price_mean_lag_4',\n",
    "                     'item_price_mean_lag_5',\n",
    "                     'item_price_mean_lag_6']\n",
    "\n",
    "level_1 = ['item_id','shop_id','date_block_num']\n",
    "level_2 = ['item_id','date_block_num']\n",
    "level_3 = ['shop_id','date_block_num']\n",
    "level_4 = ['item_category_id','date_block_num']"
   ]
  },
  {
   "cell_type": "code",
   "execution_count": 113,
   "metadata": {
    "hidden": true
   },
   "outputs": [
    {
     "name": "stdout",
     "output_type": "stream",
     "text": [
      "time: 447 ms\n"
     ]
    }
   ],
   "source": [
    "#Add 6M item presence\n",
    "sparse_raw_data_month_sample = item_presence(sparse_raw_data_month_sample,metric_list_sales) \n",
    "test = item_presence(test,metric_list_sales) "
   ]
  },
  {
   "cell_type": "code",
   "execution_count": 114,
   "metadata": {
    "hidden": true
   },
   "outputs": [
    {
     "name": "stderr",
     "output_type": "stream",
     "text": [
      "Feature Extraction: 100%|██████████| 80/80 [00:00<00:00, 265.46it/s]\n",
      "Feature Extraction: 100%|██████████| 80/80 [00:00<00:00, 240.45it/s]\n",
      "Feature Extraction: 100%|██████████| 74/74 [00:00<00:00, 1024.57it/s]\n",
      "Feature Extraction: 100%|██████████| 65/65 [00:00<00:00, 1131.62it/s]\n"
     ]
    },
    {
     "name": "stdout",
     "output_type": "stream",
     "text": [
      "time: 17.4 s\n"
     ]
    }
   ],
   "source": [
    "#Create new features from the lag features\n",
    "\n",
    "sparse_raw_data_month_sample = apply_ts(sparse_raw_data_month_sample\n",
    "                                        ,level_1\n",
    "                                        ,metric_list_sales\n",
    "                                        ,custom_parameters\n",
    "                                        ,'sum'\n",
    "                                        ,'config'\n",
    "                                        ,'month' )\n",
    "\n",
    "sparse_raw_data_month_sample = apply_ts(sparse_raw_data_month_sample\n",
    "                                        ,level_2\n",
    "                                        ,metric_list_sales\n",
    "                                        ,custom_parameters\n",
    "                                        ,'sum'\n",
    "                                        ,'item'\n",
    "                                        ,'month')\n",
    "\n",
    "sparse_raw_data_month_sample = apply_ts(sparse_raw_data_month_sample\n",
    "                                        ,level_3\n",
    "                                        ,metric_list_sales\n",
    "                                        ,custom_parameters\n",
    "                                        ,'sum'\n",
    "                                        ,'shop'\n",
    "                                        ,'month' )\n",
    "\n",
    "sparse_raw_data_month_sample = apply_ts(sparse_raw_data_month_sample\n",
    "                                        ,level_4\n",
    "                                        ,metric_list_sales\n",
    "                                        ,custom_parameters\n",
    "                                        ,'sum'\n",
    "                                        ,'category'\n",
    "                                        ,'month' )\n",
    "\n",
    "sparse_raw_data_month_sample = apply_ts(sparse_raw_data_month_sample\n",
    "                                        ,level_2\n",
    "                                        ,metric_list_sales_more\n",
    "                                        ,None\n",
    "                                        ,'sum'\n",
    "                                        ,'item'\n",
    "                                        ,'month'\n",
    "                                        , drop_lag_fields = False)\n",
    "\n",
    "sparse_raw_data_month_sample = apply_ts(sparse_raw_data_month_sample\n",
    "                                        ,level_3\n",
    "                                        ,metric_list_sales_more\n",
    "                                        ,None\n",
    "                                        ,'sum'\n",
    "                                        ,'shop'\n",
    "                                        ,'month'\n",
    "                                        , drop_lag_fields = False)\n",
    "\n",
    "sparse_raw_data_month_sample = apply_ts(sparse_raw_data_month_sample\n",
    "                                        ,level_4\n",
    "                                        ,metric_list_sales_more\n",
    "                                        ,None\n",
    "                                        ,'sum'\n",
    "                                        ,'category'\n",
    "                                        ,'month'\n",
    "                                        , drop_lag_fields = False)\n",
    "\n",
    "sparse_raw_data_month_sample = apply_ts(sparse_raw_data_month_sample\n",
    "                                        ,level_2\n",
    "                                        , metric_list_price\n",
    "                                        , None\n",
    "                                        , 'mean'\n",
    "                                        ,'item'\n",
    "                                        ,'month'\n",
    "                                        ,drop_lag_fields = False)\n",
    "\n",
    "\n",
    "sparse_raw_data_month_sample = apply_ts(sparse_raw_data_month_sample\n",
    "                                        , level_1\n",
    "                                        , metric_list_price\n",
    "                                        , None\n",
    "                                        ,'mean'\n",
    "                                        ,'config'\n",
    "                                        ,'month'\n",
    "                                        ,drop_lag_fields = False)"
   ]
  },
  {
   "cell_type": "code",
   "execution_count": 115,
   "metadata": {
    "hidden": true
   },
   "outputs": [
    {
     "name": "stderr",
     "output_type": "stream",
     "text": [
      "Feature Extraction: 100%|██████████| 50/50 [00:00<00:00, 1961.77it/s]\n",
      "Feature Extraction: 100%|██████████| 50/50 [00:00<00:00, 15696.07it/s]\n",
      "Feature Extraction: 100%|██████████| 40/40 [00:00<00:00, 2778.37it/s]\n",
      "Feature Extraction: 100%|██████████| 29/29 [00:00<00:00, 27029.96it/s]\n"
     ]
    },
    {
     "name": "stdout",
     "output_type": "stream",
     "text": [
      "time: 15.2 s\n"
     ]
    }
   ],
   "source": [
    "#Create new features from the lag features\n",
    "\n",
    "test = apply_ts(test,level_1,metric_list_sales,custom_parameters,'sum','config','month' )\n",
    "test = apply_ts(test,level_2,metric_list_sales,custom_parameters,'sum','item','month' )\n",
    "test = apply_ts(test,level_3,metric_list_sales,custom_parameters,'sum','shop','month' )\n",
    "test = apply_ts(test,level_4,metric_list_sales,custom_parameters,'sum','category','month' )\n",
    "\n",
    "test = apply_ts(test, level_2,metric_list_sales_more,None,'sum','item','month',drop_lag_fields = False)\n",
    "test = apply_ts(test, level_3,metric_list_sales_more,None,'sum','shop','month',drop_lag_fields = False)\n",
    "test = apply_ts(test, level_4,metric_list_sales_more,None,'sum','category','month',drop_lag_fields = False)\n",
    "\n",
    "test = apply_ts(test, level_2,metric_list_price,None,'mean','item','month',drop_lag_fields = False)\n",
    "test = apply_ts(test, level_1,metric_list_price,None,'mean','config','month',drop_lag_fields = False)"
   ]
  },
  {
   "cell_type": "code",
   "execution_count": 117,
   "metadata": {
    "hidden": true
   },
   "outputs": [
    {
     "name": "stdout",
     "output_type": "stream",
     "text": [
      "time: 35.1 ms\n"
     ]
    }
   ],
   "source": [
    "#Add ratio of item_price vs item store price\n",
    "sparse_raw_data_month_sample = sparse_raw_data_month_sample >> \\\n",
    "mutate(price_ratio_lag_1 = X.item_item_price_mean_lag_1 / X.config_item_price_mean_lag_1,\n",
    "        price_ratio_lag_2 = X.item_item_price_mean_lag_2 / X.config_item_price_mean_lag_2,\n",
    "        price_ratio_lag_3 = X.item_item_price_mean_lag_3 / X.config_item_price_mean_lag_3,\n",
    "        price_ratio_lag_4 = X.item_item_price_mean_lag_4 / X.config_item_price_mean_lag_4,\n",
    "        price_ratio_lag_5 = X.item_item_price_mean_lag_5 / X.config_item_price_mean_lag_5,\n",
    "        price_ratio_lag_6 = X.item_item_price_mean_lag_6 / X.config_item_price_mean_lag_6)\n",
    "       \n",
    "test = test >> \\\n",
    "mutate(price_ratio_lag_1 = X.item_item_price_mean_lag_1 / X.config_item_price_mean_lag_1,\n",
    "        price_ratio_lag_2 = X.item_item_price_mean_lag_2 / X.config_item_price_mean_lag_2,\n",
    "        price_ratio_lag_3 = X.item_item_price_mean_lag_3 / X.config_item_price_mean_lag_3,\n",
    "        price_ratio_lag_4 = X.item_item_price_mean_lag_4 / X.config_item_price_mean_lag_4,\n",
    "        price_ratio_lag_5 = X.item_item_price_mean_lag_5 / X.config_item_price_mean_lag_5,\n",
    "        price_ratio_lag_6 = X.item_item_price_mean_lag_6 / X.config_item_price_mean_lag_6)"
   ]
  },
  {
   "cell_type": "code",
   "execution_count": 119,
   "metadata": {
    "hidden": true
   },
   "outputs": [
    {
     "name": "stdout",
     "output_type": "stream",
     "text": [
      "time: 28 ms\n"
     ]
    }
   ],
   "source": [
    "#Treat NaNs again for price fields\n",
    "sparse_raw_data_month_sample.fillna(-999,inplace = True)\n",
    "test.fillna(-999,inplace = True)"
   ]
  },
  {
   "cell_type": "code",
   "execution_count": 120,
   "metadata": {
    "hidden": true
   },
   "outputs": [
    {
     "name": "stdout",
     "output_type": "stream",
     "text": [
      "(1200, 86)\n",
      "(412, 86)\n",
      "(100, 86)\n",
      "(45, 86)\n",
      "time: 242 ms\n"
     ]
    }
   ],
   "source": [
    "#Remove instances where aggregate sales in past N months is zero for items\n",
    "\n",
    "print(sparse_raw_data_month_sample.shape)\n",
    "sparse_raw_data_month = sparse_raw_data_month_sample >> \\\n",
    "mask((X.item_item_cnt_day_sum_lag_1 + \n",
    "      X.item_item_cnt_day_sum_lag_2 + \n",
    "      X.item_item_cnt_day_sum_lag_3 + \n",
    "      X.item_item_cnt_day_sum_lag_4 + \n",
    "      X.item_item_cnt_day_sum_lag_5 + \n",
    "      X.item_item_cnt_day_sum_lag_6 + \n",
    "      X.item_item_cnt_day_sum_lag_11 + \n",
    "      X.item_item_cnt_day_sum_lag_12 + \n",
    "      X.item_item_cnt_day_sum_lag_13) > 0)\n",
    "print(sparse_raw_data_month.shape)\n",
    "\n",
    "print(test.shape)\n",
    "test = test >> \\\n",
    "mask((X.item_item_cnt_day_sum_lag_1 + \n",
    "      X.item_item_cnt_day_sum_lag_2 + \n",
    "      X.item_item_cnt_day_sum_lag_3 + \n",
    "      X.item_item_cnt_day_sum_lag_4 + \n",
    "      X.item_item_cnt_day_sum_lag_5 + \n",
    "      X.item_item_cnt_day_sum_lag_6 + \n",
    "      X.item_item_cnt_day_sum_lag_11 + \n",
    "      X.item_item_cnt_day_sum_lag_12 + \n",
    "      X.item_item_cnt_day_sum_lag_13) > 0)  \n",
    "print(test.shape)"
   ]
  },
  {
   "cell_type": "code",
   "execution_count": 121,
   "metadata": {
    "hidden": true
   },
   "outputs": [
    {
     "name": "stdout",
     "output_type": "stream",
     "text": [
      "['config_item_price_mean_lag_1', 'config_item_price_mean_lag_2', 'config_item_price_mean_lag_3', 'config_item_price_mean_lag_4', 'config_item_price_mean_lag_5', 'config_item_price_mean_lag_6']\n",
      "time: 35.2 ms\n"
     ]
    }
   ],
   "source": [
    "#Drop all price columns which has NULLs\n",
    "metric_list_price_config = ['config_' + x for x in metric_list_price]\n",
    "print(metric_list_price_config)\n",
    "sparse_raw_data_month.drop(metric_list_price, axis=1 ,inplace = True)\n",
    "sparse_raw_data_month.drop(metric_list_price_config, axis=1, inplace = True)\n",
    "test.drop(metric_list_price, axis=1 ,inplace = True)\n",
    "test.drop(metric_list_price_config, axis=1, inplace = True)"
   ]
  },
  {
   "cell_type": "code",
   "execution_count": 122,
   "metadata": {
    "hidden": true
   },
   "outputs": [
    {
     "name": "stdout",
     "output_type": "stream",
     "text": [
      "time: 38.1 ms\n"
     ]
    }
   ],
   "source": [
    "#Now generate train, valid and test DFs\n",
    "\n",
    "#test = test\n",
    "train = sparse_raw_data_month >> mask(X.date_block_num != 33)\n",
    "valid = sparse_raw_data_month >> mask(X.date_block_num == 33)"
   ]
  },
  {
   "cell_type": "code",
   "execution_count": 90,
   "metadata": {
    "hidden": true
   },
   "outputs": [
    {
     "name": "stdout",
     "output_type": "stream",
     "text": [
      "time: 1min 20s\n"
     ]
    }
   ],
   "source": [
    "#Pickle them for later use\n",
    "sparse_raw_data_month_sample.to_pickle('data/train_valid.pkl')\n",
    "test.to_pickle('data/test.pkl')"
   ]
  },
  {
   "cell_type": "markdown",
   "metadata": {
    "heading_collapsed": true
   },
   "source": [
    "### EDA"
   ]
  },
  {
   "cell_type": "markdown",
   "metadata": {
    "heading_collapsed": true,
    "hidden": true
   },
   "source": [
    "#### Check distribution"
   ]
  },
  {
   "cell_type": "code",
   "execution_count": null,
   "metadata": {
    "hidden": true
   },
   "outputs": [],
   "source": [
    "check = dd_summarise(raw_data,['date_block_num','item_id','shop_id'],'item_cnt_day','sum')"
   ]
  },
  {
   "cell_type": "code",
   "execution_count": null,
   "metadata": {
    "hidden": true
   },
   "outputs": [],
   "source": [
    "check[check.item_cnt_day > 20].shape[0]/check.shape[0]"
   ]
  },
  {
   "cell_type": "code",
   "execution_count": null,
   "metadata": {
    "hidden": true
   },
   "outputs": [],
   "source": [
    "sns.distplot(check.item_cnt_day[check.item_cnt_day>0])"
   ]
  },
  {
   "cell_type": "markdown",
   "metadata": {
    "heading_collapsed": true
   },
   "source": [
    "### Modelling"
   ]
  },
  {
   "cell_type": "markdown",
   "metadata": {
    "heading_collapsed": true,
    "hidden": true
   },
   "source": [
    "#### Xgboost"
   ]
  },
  {
   "cell_type": "code",
   "execution_count": 91,
   "metadata": {
    "hidden": true
   },
   "outputs": [
    {
     "name": "stdout",
     "output_type": "stream",
     "text": [
      "Shape of training data:  (4215360, 42)\n",
      "Shape of validation data:  (526920, 42)\n",
      "Shape of test data:  (214200, 42)\n",
      "time: 6.48 s\n"
     ]
    }
   ],
   "source": [
    "##data preparation\n",
    "ind_columns = train.columns.to_list()\n",
    "\n",
    "list_to_remove = ['shop_id','item_id','item_cnt_day_sum','date_block_num','item_price_mean','per_day_sales','item_cnt_day_count']\n",
    "ind_columns = remove_elements(ind_columns, list_to_remove )\n",
    "\n",
    "dep_coloumns = [\"item_cnt_day_sum\"]\n",
    "\n",
    "cont_vars = train.head(5).select_dtypes(include= [np.number]).columns.to_list()\n",
    "cont_vars = remove_elements(cont_vars, ['item_cnt_day_sum','date_block_num','item_price_mean','per_day_sales','item_cnt_day_count'])\n",
    "\n",
    "cat_vars = train.head(5).select_dtypes(include= [object]).columns.to_list()\n",
    "list_to_remove = ['shop_id','item_id']\n",
    "\n",
    "cat_vars = remove_elements(cat_vars, list_to_remove)\n",
    "\n",
    "\n",
    "x_train = train[ind_columns]\n",
    "y_train = train[dep_coloumns]\n",
    "\n",
    "x_test = test[ind_columns]\n",
    "\n",
    "x_valid = valid[ind_columns]\n",
    "y_valid = valid[dep_coloumns]\n",
    "\n",
    "print(\"Shape of training data: \", x_train.shape)\n",
    "print(\"Shape of validation data: \", x_valid.shape)\n",
    "print(\"Shape of test data: \", x_test.shape)\n",
    "\n",
    "xg_train = xgb.DMatrix(x_train, label = y_train)\n",
    "xg_test = xgb.DMatrix(x_test)\n",
    "xg_valid = xgb.DMatrix(x_valid, label = y_valid)"
   ]
  },
  {
   "cell_type": "code",
   "execution_count": 92,
   "metadata": {
    "hidden": true
   },
   "outputs": [
    {
     "name": "stdout",
     "output_type": "stream",
     "text": [
      "[07:47:33] WARNING: /workspace/src/learner.cc:686: Tree method is automatically selected to be 'approx' for faster speed. To use old behavior (exact greedy algorithm on single machine), set tree_method to 'exact'.\n",
      "[0]\tvalid-rmse:0.845905\n",
      "Will train until valid-rmse hasn't improved in 10 rounds.\n",
      "[1]\tvalid-rmse:0.82836\n",
      "[2]\tvalid-rmse:0.812946\n",
      "[3]\tvalid-rmse:0.798648\n",
      "[4]\tvalid-rmse:0.78599\n",
      "[5]\tvalid-rmse:0.774116\n",
      "[6]\tvalid-rmse:0.763633\n",
      "[7]\tvalid-rmse:0.753819\n",
      "[8]\tvalid-rmse:0.744997\n",
      "[9]\tvalid-rmse:0.737224\n",
      "[10]\tvalid-rmse:0.729391\n",
      "[11]\tvalid-rmse:0.72264\n",
      "[12]\tvalid-rmse:0.716399\n",
      "[13]\tvalid-rmse:0.711044\n",
      "[14]\tvalid-rmse:0.705974\n",
      "[15]\tvalid-rmse:0.701267\n",
      "[16]\tvalid-rmse:0.696802\n",
      "[17]\tvalid-rmse:0.693138\n",
      "[18]\tvalid-rmse:0.689798\n",
      "[19]\tvalid-rmse:0.686842\n",
      "[20]\tvalid-rmse:0.684203\n",
      "[21]\tvalid-rmse:0.681953\n",
      "[22]\tvalid-rmse:0.679828\n",
      "[23]\tvalid-rmse:0.678115\n",
      "[24]\tvalid-rmse:0.67664\n",
      "[25]\tvalid-rmse:0.675306\n",
      "[26]\tvalid-rmse:0.674077\n",
      "[27]\tvalid-rmse:0.673206\n",
      "[28]\tvalid-rmse:0.672307\n",
      "[29]\tvalid-rmse:0.671704\n",
      "[30]\tvalid-rmse:0.670991\n",
      "[31]\tvalid-rmse:0.670519\n",
      "[32]\tvalid-rmse:0.670061\n",
      "[33]\tvalid-rmse:0.669698\n",
      "[34]\tvalid-rmse:0.669581\n",
      "[35]\tvalid-rmse:0.669492\n",
      "[36]\tvalid-rmse:0.669131\n",
      "[37]\tvalid-rmse:0.668648\n",
      "[38]\tvalid-rmse:0.668574\n",
      "[39]\tvalid-rmse:0.668751\n",
      "[40]\tvalid-rmse:0.668739\n",
      "[41]\tvalid-rmse:0.66864\n",
      "[42]\tvalid-rmse:0.66896\n",
      "[43]\tvalid-rmse:0.669074\n",
      "[44]\tvalid-rmse:0.669343\n",
      "[45]\tvalid-rmse:0.66937\n",
      "[46]\tvalid-rmse:0.669453\n",
      "[47]\tvalid-rmse:0.669746\n",
      "[48]\tvalid-rmse:0.669807\n",
      "Stopping. Best iteration:\n",
      "[38]\tvalid-rmse:0.668574\n",
      "\n",
      "time: 8min 11s\n"
     ]
    }
   ],
   "source": [
    "#Model\n",
    "param = {'max_depth':8,\n",
    "         'eta':0.05, # learning rate\n",
    "         'gamma':2,\n",
    "         'min_child_weight':10,\n",
    "         'objective':'reg:squarederror',\n",
    "         'eval_metric': 'rmse' ,\n",
    "         'colsample_bytree': 0.6}\n",
    "\n",
    "watchlist  = [(xg_valid, 'valid')]\n",
    "num_round = 1000\n",
    "\n",
    "xgm = xgb.train(param, xg_train, num_round, evals = watchlist, early_stopping_rounds=10)"
   ]
  },
  {
   "cell_type": "code",
   "execution_count": 93,
   "metadata": {
    "hidden": true
   },
   "outputs": [
    {
     "data": {
      "text/plain": [
       "<matplotlib.axes._subplots.AxesSubplot at 0x7f1e7ff97278>"
      ]
     },
     "execution_count": 93,
     "metadata": {},
     "output_type": "execute_result"
    },
    {
     "data": {
      "image/png": "[encoded data removed]",
      "text/plain": [
       "<Figure size 1440x3600 with 1 Axes>"
      ]
     },
     "metadata": {
      "needs_background": "light"
     },
     "output_type": "display_data"
    },
    {
     "name": "stdout",
     "output_type": "stream",
     "text": [
      "time: 2.39 s\n"
     ]
    }
   ],
   "source": [
    "my_plot_importance(xgm,(20,50),importance_type='gain')"
   ]
  },
  {
   "cell_type": "code",
   "execution_count": 94,
   "metadata": {
    "hidden": true
   },
   "outputs": [
    {
     "data": {
      "text/plain": [
       "0.6698230819469949"
      ]
     },
     "execution_count": 94,
     "metadata": {},
     "output_type": "execute_result"
    },
    {
     "name": "stdout",
     "output_type": "stream",
     "text": [
      "time: 35.2 ms\n"
     ]
    }
   ],
   "source": [
    "#RMSE in validation data\n",
    "rmse(xgm.predict(xg_valid),y_valid.values.ravel())"
   ]
  },
  {
   "cell_type": "code",
   "execution_count": 95,
   "metadata": {
    "hidden": true
   },
   "outputs": [
    {
     "data": {
      "text/plain": [
       "0.5648185193252857"
      ]
     },
     "execution_count": 95,
     "metadata": {},
     "output_type": "execute_result"
    },
    {
     "name": "stdout",
     "output_type": "stream",
     "text": [
      "time: 85.8 ms\n"
     ]
    }
   ],
   "source": [
    "#RMSE in train data\n",
    "rmse(xgm.predict(xg_train),y_train.values.ravel())"
   ]
  },
  {
   "cell_type": "code",
   "execution_count": 96,
   "metadata": {
    "hidden": true
   },
   "outputs": [
    {
     "data": {
      "text/plain": [
       "<matplotlib.axes._subplots.AxesSubplot at 0x7f24d9764da0>"
      ]
     },
     "execution_count": 96,
     "metadata": {},
     "output_type": "execute_result"
    },
    {
     "data": {
      "image/png": "[encoded data removed]",
      "text/plain": [
       "<Figure size 432x288 with 1 Axes>"
      ]
     },
     "metadata": {
      "needs_background": "light"
     },
     "output_type": "display_data"
    },
    {
     "name": "stdout",
     "output_type": "stream",
     "text": [
      "time: 1.32 s\n"
     ]
    }
   ],
   "source": [
    "valid_predictions = xgm.predict(xg_valid)\n",
    "valid_predictions = valid >> mutate(item_cnt_day_predicted = valid_predictions) >> \\\n",
    "mutate(errors = (X.item_cnt_day_sum - X.item_cnt_day_predicted))\n",
    "\n",
    "vp = valid_predictions\n",
    "\n",
    "sns.distplot(vp.item_cnt_day_sum - vp.item_cnt_day_predicted)"
   ]
  },
  {
   "cell_type": "markdown",
   "metadata": {
    "heading_collapsed": true
   },
   "source": [
    "### Submission"
   ]
  },
  {
   "cell_type": "markdown",
   "metadata": {
    "heading_collapsed": true,
    "hidden": true
   },
   "source": [
    "#### XGBoost"
   ]
  },
  {
   "cell_type": "code",
   "execution_count": 97,
   "metadata": {
    "hidden": true
   },
   "outputs": [
    {
     "data": {
      "text/plain": [
       "(214200,)"
      ]
     },
     "execution_count": 97,
     "metadata": {},
     "output_type": "execute_result"
    },
    {
     "name": "stdout",
     "output_type": "stream",
     "text": [
      "time: 227 ms\n"
     ]
    }
   ],
   "source": [
    "test_predictions = xgm.predict(xg_test)\n",
    "test_predictions.shape"
   ]
  },
  {
   "cell_type": "code",
   "execution_count": 98,
   "metadata": {
    "hidden": true
   },
   "outputs": [
    {
     "name": "stdout",
     "output_type": "stream",
     "text": [
      "time: 32.9 ms\n"
     ]
    }
   ],
   "source": [
    "test_submission = save_test >> mutate(item_cnt_month = test_predictions) >> drop(X.item_id,X.shop_id)"
   ]
  },
  {
   "cell_type": "code",
   "execution_count": 99,
   "metadata": {
    "hidden": true
   },
   "outputs": [
    {
     "name": "stdout",
     "output_type": "stream",
     "text": [
      "time: 1.85 s\n"
     ]
    }
   ],
   "source": [
    "test_submission.to_csv('data/submission__xgb_v6.csv', index=False)"
   ]
  },
  {
   "cell_type": "markdown",
   "metadata": {
    "collapsed": true,
    "heading_collapsed": true
   },
   "source": [
    "### Unit tests"
   ]
  },
  {
   "cell_type": "code",
   "execution_count": null,
   "metadata": {
    "hidden": true
   },
   "outputs": [],
   "source": []
  }
 ],
 "metadata": {
  "kernelspec": {
   "display_name": "Python 3 (General DS)",
   "language": "python",
   "name": "python3"
  }
 },
 "nbformat": 4,
 "nbformat_minor": 2
}
