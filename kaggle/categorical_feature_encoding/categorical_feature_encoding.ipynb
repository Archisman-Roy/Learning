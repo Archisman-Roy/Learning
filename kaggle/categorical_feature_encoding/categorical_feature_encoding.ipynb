{
 "cells": [
  {
   "cell_type": "markdown",
   "metadata": {
    "heading_collapsed": true
   },
   "source": [
    "### Relevant links"
   ]
  },
  {
   "cell_type": "markdown",
   "metadata": {
    "hidden": true
   },
   "source": [
    "https://www.kaggle.com/c/cat-in-the-dat-ii/"
   ]
  },
  {
   "cell_type": "markdown",
   "metadata": {
    "heading_collapsed": true
   },
   "source": [
    "### Imports"
   ]
  },
  {
   "cell_type": "code",
   "execution_count": 3,
   "metadata": {
    "hidden": true
   },
   "outputs": [
    {
     "name": "stdout",
     "output_type": "stream",
     "text": [
      "The autotime extension is already loaded. To reload it, use:\n",
      "  %reload_ext autotime\n",
      "time: 147 ms\n"
     ]
    }
   ],
   "source": [
    "%reload_ext autoreload\n",
    "%autoreload 2\n",
    "%matplotlib inline \n",
    "%load_ext autotime"
   ]
  },
  {
   "cell_type": "code",
   "execution_count": 4,
   "metadata": {
    "hidden": true
   },
   "outputs": [
    {
     "name": "stdout",
     "output_type": "stream",
     "text": [
      "time: 3.67 s\n"
     ]
    }
   ],
   "source": [
    "from scripts.imports import *\n",
    "from toolbox import *"
   ]
  },
  {
   "cell_type": "code",
   "execution_count": 5,
   "metadata": {
    "hidden": true
   },
   "outputs": [
    {
     "name": "stdout",
     "output_type": "stream",
     "text": [
      "time: 28.9 ms\n"
     ]
    }
   ],
   "source": [
    "pd.options.display.max_rows = 4000\n",
    "pd.set_option('display.max_columns', 999)\n",
    "pd.options.mode.chained_assignment = None"
   ]
  },
  {
   "cell_type": "markdown",
   "metadata": {
    "heading_collapsed": true
   },
   "source": [
    "### Getting data"
   ]
  },
  {
   "cell_type": "code",
   "execution_count": null,
   "metadata": {
    "hidden": true
   },
   "outputs": [],
   "source": [
    "current_path = os.getcwd()\n",
    "data_dir_path = os.path.join(current_path,\"data\")\n",
    "\n",
    "if not os.path.exists(data_dir_path):\n",
    "    os.mkdir(data_dir_path)\n",
    "\n",
    "print(data_dir_path) #Never print"
   ]
  },
  {
   "cell_type": "code",
   "execution_count": null,
   "metadata": {
    "hidden": true
   },
   "outputs": [],
   "source": [
    "download_data('cat-in-the-dat-ii',current_path)"
   ]
  },
  {
   "cell_type": "code",
   "execution_count": 6,
   "metadata": {
    "hidden": true
   },
   "outputs": [
    {
     "data": {
      "text/plain": [
       "['train', 'sample_submission', 'test']"
      ]
     },
     "execution_count": 6,
     "metadata": {},
     "output_type": "execute_result"
    },
    {
     "name": "stdout",
     "output_type": "stream",
     "text": [
      "time: 155 ms\n"
     ]
    }
   ],
   "source": [
    "#Listify files to download\n",
    "all_data_files = os.listdir('data/') #Getting all files in data folder in a list\n",
    "all_data_files = [x for x in all_data_files if x.endswith('.csv')] #Removing .ipynb files\n",
    "all_data_files = [remove_from_right(x,4) for x in all_data_files] #Removing .csvs\n",
    "all_data_files"
   ]
  },
  {
   "cell_type": "code",
   "execution_count": 31,
   "metadata": {
    "hidden": true
   },
   "outputs": [
    {
     "name": "stdout",
     "output_type": "stream",
     "text": [
      "train=read_data('data/','csv','train')\n",
      "\n",
      "Shape of train:  (600000, 25)\n",
      "\n",
      "Data types in train: \n",
      " \n",
      "  id          int64\n",
      "bin_0     float64\n",
      "bin_1     float64\n",
      "bin_2     float64\n",
      "bin_3      object\n",
      "bin_4      object\n",
      "nom_0      object\n",
      "nom_1      object\n",
      "nom_2      object\n",
      "nom_3      object\n",
      "nom_4      object\n",
      "nom_5      object\n",
      "nom_6      object\n",
      "nom_7      object\n",
      "nom_8      object\n",
      "nom_9      object\n",
      "ord_0     float64\n",
      "ord_1      object\n",
      "ord_2      object\n",
      "ord_3      object\n",
      "ord_4      object\n",
      "ord_5      object\n",
      "day       float64\n",
      "month     float64\n",
      "target      int64\n",
      "dtype: object\n",
      "---------------------\n",
      "sample_submission=read_data('data/','csv','sample_submission')\n",
      "\n",
      "Shape of sample_submission:  (400000, 2)\n",
      "\n",
      "Data types in sample_submission: \n",
      " \n",
      "  id          int64\n",
      "target    float64\n",
      "dtype: object\n",
      "---------------------\n",
      "test=read_data('data/','csv','test')\n",
      "\n",
      "Shape of test:  (400000, 24)\n",
      "\n",
      "Data types in test: \n",
      " \n",
      "  id         int64\n",
      "bin_0    float64\n",
      "bin_1    float64\n",
      "bin_2    float64\n",
      "bin_3     object\n",
      "bin_4     object\n",
      "nom_0     object\n",
      "nom_1     object\n",
      "nom_2     object\n",
      "nom_3     object\n",
      "nom_4     object\n",
      "nom_5     object\n",
      "nom_6     object\n",
      "nom_7     object\n",
      "nom_8     object\n",
      "nom_9     object\n",
      "ord_0    float64\n",
      "ord_1     object\n",
      "ord_2     object\n",
      "ord_3     object\n",
      "ord_4     object\n",
      "ord_5     object\n",
      "day      float64\n",
      "month    float64\n",
      "dtype: object\n",
      "---------------------\n",
      "time: 3.02 s\n"
     ]
    }
   ],
   "source": [
    "for i in all_data_files:\n",
    "    print(i + \"=\" + f\"read_data('data/','csv','{i}')\")\n",
    "    print(\"\")\n",
    "    exec(i + \"=\" + f\"read_data('data/','csv','{i}')\")\n",
    "    exec(f\"shape = {i}.shape\")\n",
    "    print(f\"Shape of {i}: \", shape)\n",
    "    exec(f\"data_types = {i}.dtypes\")\n",
    "    print(\"\")\n",
    "    print(f\"Data types in {i}: \\n \\n \", data_types)\n",
    "    print(\"---------------------\")"
   ]
  },
  {
   "cell_type": "code",
   "execution_count": 32,
   "metadata": {
    "hidden": true
   },
   "outputs": [
    {
     "name": "stdout",
     "output_type": "stream",
     "text": [
      "time: 84.4 ms\n"
     ]
    }
   ],
   "source": [
    "test_for_submission = test.copy()"
   ]
  },
  {
   "cell_type": "markdown",
   "metadata": {
    "heading_collapsed": true
   },
   "source": [
    "### Testing data"
   ]
  },
  {
   "cell_type": "markdown",
   "metadata": {
    "heading_collapsed": true,
    "hidden": true
   },
   "source": [
    "#### Structural checks"
   ]
  },
  {
   "cell_type": "code",
   "execution_count": 9,
   "metadata": {
    "hidden": true
   },
   "outputs": [
    {
     "data": {
      "text/html": [
       "<div>\n",
       "<style scoped>\n",
       "    .dataframe tbody tr th:only-of-type {\n",
       "        vertical-align: middle;\n",
       "    }\n",
       "\n",
       "    .dataframe tbody tr th {\n",
       "        vertical-align: top;\n",
       "    }\n",
       "\n",
       "    .dataframe thead th {\n",
       "        text-align: right;\n",
       "    }\n",
       "</style>\n",
       "<table border=\"1\" class=\"dataframe\">\n",
       "  <thead>\n",
       "    <tr style=\"text-align: right;\">\n",
       "      <th></th>\n",
       "      <th>count</th>\n",
       "      <th>mean</th>\n",
       "      <th>std</th>\n",
       "      <th>min</th>\n",
       "      <th>25%</th>\n",
       "      <th>50%</th>\n",
       "      <th>75%</th>\n",
       "      <th>max</th>\n",
       "      <th>missing</th>\n",
       "      <th>missing%</th>\n",
       "      <th>unique</th>\n",
       "      <th>unique%</th>\n",
       "      <th>unique_values</th>\n",
       "      <th>dtype</th>\n",
       "    </tr>\n",
       "  </thead>\n",
       "  <tbody>\n",
       "    <tr>\n",
       "      <th>bin_0</th>\n",
       "      <td>582106</td>\n",
       "      <td>0.0923011</td>\n",
       "      <td>0.289451</td>\n",
       "      <td>0</td>\n",
       "      <td>0</td>\n",
       "      <td>0</td>\n",
       "      <td>0</td>\n",
       "      <td>1</td>\n",
       "      <td>17894</td>\n",
       "      <td>715.76</td>\n",
       "      <td>3</td>\n",
       "      <td>0.12</td>\n",
       "      <td>[0.0, 1.0, nan]</td>\n",
       "      <td>float64</td>\n",
       "    </tr>\n",
       "    <tr>\n",
       "      <th>bin_1</th>\n",
       "      <td>581997</td>\n",
       "      <td>0.185532</td>\n",
       "      <td>0.388729</td>\n",
       "      <td>0</td>\n",
       "      <td>0</td>\n",
       "      <td>0</td>\n",
       "      <td>0</td>\n",
       "      <td>1</td>\n",
       "      <td>18003</td>\n",
       "      <td>720.12</td>\n",
       "      <td>3</td>\n",
       "      <td>0.12</td>\n",
       "      <td>[0.0, 1.0, nan]</td>\n",
       "      <td>float64</td>\n",
       "    </tr>\n",
       "    <tr>\n",
       "      <th>bin_2</th>\n",
       "      <td>582070</td>\n",
       "      <td>0.278704</td>\n",
       "      <td>0.448362</td>\n",
       "      <td>0</td>\n",
       "      <td>0</td>\n",
       "      <td>0</td>\n",
       "      <td>1</td>\n",
       "      <td>1</td>\n",
       "      <td>17930</td>\n",
       "      <td>717.20</td>\n",
       "      <td>3</td>\n",
       "      <td>0.12</td>\n",
       "      <td>[0.0, 1.0, nan]</td>\n",
       "      <td>float64</td>\n",
       "    </tr>\n",
       "    <tr>\n",
       "      <th>bin_3</th>\n",
       "      <td>581986</td>\n",
       "      <td>NaN</td>\n",
       "      <td>NaN</td>\n",
       "      <td>NaN</td>\n",
       "      <td>NaN</td>\n",
       "      <td>NaN</td>\n",
       "      <td>NaN</td>\n",
       "      <td>NaN</td>\n",
       "      <td>18014</td>\n",
       "      <td>720.56</td>\n",
       "      <td>3</td>\n",
       "      <td>0.12</td>\n",
       "      <td>[F, T, nan]</td>\n",
       "      <td>object</td>\n",
       "    </tr>\n",
       "    <tr>\n",
       "      <th>bin_4</th>\n",
       "      <td>581953</td>\n",
       "      <td>NaN</td>\n",
       "      <td>NaN</td>\n",
       "      <td>NaN</td>\n",
       "      <td>NaN</td>\n",
       "      <td>NaN</td>\n",
       "      <td>NaN</td>\n",
       "      <td>NaN</td>\n",
       "      <td>18047</td>\n",
       "      <td>721.88</td>\n",
       "      <td>3</td>\n",
       "      <td>0.12</td>\n",
       "      <td>[N, Y, nan]</td>\n",
       "      <td>object</td>\n",
       "    </tr>\n",
       "    <tr>\n",
       "      <th>day</th>\n",
       "      <td>582048</td>\n",
       "      <td>4.11277</td>\n",
       "      <td>2.03443</td>\n",
       "      <td>1</td>\n",
       "      <td>2</td>\n",
       "      <td>5</td>\n",
       "      <td>6</td>\n",
       "      <td>7</td>\n",
       "      <td>17952</td>\n",
       "      <td>718.08</td>\n",
       "      <td>8</td>\n",
       "      <td>0.32</td>\n",
       "      <td>[6.0, 7.0, 5.0, 3.0, 1.0, 2.0, nan, 4.0]</td>\n",
       "      <td>float64</td>\n",
       "    </tr>\n",
       "    <tr>\n",
       "      <th>id</th>\n",
       "      <td>600000</td>\n",
       "      <td>300000</td>\n",
       "      <td>173205</td>\n",
       "      <td>0</td>\n",
       "      <td>150000</td>\n",
       "      <td>300000</td>\n",
       "      <td>449999</td>\n",
       "      <td>599999</td>\n",
       "      <td>0</td>\n",
       "      <td>0.00</td>\n",
       "      <td>600000</td>\n",
       "      <td>24000.00</td>\n",
       "      <td>NaN</td>\n",
       "      <td>int64</td>\n",
       "    </tr>\n",
       "    <tr>\n",
       "      <th>month</th>\n",
       "      <td>582012</td>\n",
       "      <td>6.37132</td>\n",
       "      <td>3.45896</td>\n",
       "      <td>1</td>\n",
       "      <td>3</td>\n",
       "      <td>6</td>\n",
       "      <td>8</td>\n",
       "      <td>12</td>\n",
       "      <td>17988</td>\n",
       "      <td>719.52</td>\n",
       "      <td>13</td>\n",
       "      <td>0.52</td>\n",
       "      <td>[3.0, 7.0, 9.0, 12.0, 4.0, 6.0, 1.0, 8.0, 5.0,...</td>\n",
       "      <td>float64</td>\n",
       "    </tr>\n",
       "    <tr>\n",
       "      <th>nom_0</th>\n",
       "      <td>581748</td>\n",
       "      <td>NaN</td>\n",
       "      <td>NaN</td>\n",
       "      <td>NaN</td>\n",
       "      <td>NaN</td>\n",
       "      <td>NaN</td>\n",
       "      <td>NaN</td>\n",
       "      <td>NaN</td>\n",
       "      <td>18252</td>\n",
       "      <td>730.08</td>\n",
       "      <td>4</td>\n",
       "      <td>0.16</td>\n",
       "      <td>[Red, Blue, Green, nan]</td>\n",
       "      <td>object</td>\n",
       "    </tr>\n",
       "    <tr>\n",
       "      <th>nom_1</th>\n",
       "      <td>581844</td>\n",
       "      <td>NaN</td>\n",
       "      <td>NaN</td>\n",
       "      <td>NaN</td>\n",
       "      <td>NaN</td>\n",
       "      <td>NaN</td>\n",
       "      <td>NaN</td>\n",
       "      <td>NaN</td>\n",
       "      <td>18156</td>\n",
       "      <td>726.24</td>\n",
       "      <td>7</td>\n",
       "      <td>0.28</td>\n",
       "      <td>[Trapezoid, Star, nan, Circle, Triangle, Polyg...</td>\n",
       "      <td>object</td>\n",
       "    </tr>\n",
       "    <tr>\n",
       "      <th>nom_2</th>\n",
       "      <td>581965</td>\n",
       "      <td>NaN</td>\n",
       "      <td>NaN</td>\n",
       "      <td>NaN</td>\n",
       "      <td>NaN</td>\n",
       "      <td>NaN</td>\n",
       "      <td>NaN</td>\n",
       "      <td>NaN</td>\n",
       "      <td>18035</td>\n",
       "      <td>721.40</td>\n",
       "      <td>7</td>\n",
       "      <td>0.28</td>\n",
       "      <td>[Hamster, Axolotl, Lion, Dog, Cat, Snake, nan]</td>\n",
       "      <td>object</td>\n",
       "    </tr>\n",
       "    <tr>\n",
       "      <th>nom_3</th>\n",
       "      <td>581879</td>\n",
       "      <td>NaN</td>\n",
       "      <td>NaN</td>\n",
       "      <td>NaN</td>\n",
       "      <td>NaN</td>\n",
       "      <td>NaN</td>\n",
       "      <td>NaN</td>\n",
       "      <td>NaN</td>\n",
       "      <td>18121</td>\n",
       "      <td>724.84</td>\n",
       "      <td>7</td>\n",
       "      <td>0.28</td>\n",
       "      <td>[Russia, nan, Canada, Finland, Costa Rica, Chi...</td>\n",
       "      <td>object</td>\n",
       "    </tr>\n",
       "    <tr>\n",
       "      <th>nom_4</th>\n",
       "      <td>581965</td>\n",
       "      <td>NaN</td>\n",
       "      <td>NaN</td>\n",
       "      <td>NaN</td>\n",
       "      <td>NaN</td>\n",
       "      <td>NaN</td>\n",
       "      <td>NaN</td>\n",
       "      <td>NaN</td>\n",
       "      <td>18035</td>\n",
       "      <td>721.40</td>\n",
       "      <td>5</td>\n",
       "      <td>0.20</td>\n",
       "      <td>[Bassoon, Theremin, nan, Oboe, Piano]</td>\n",
       "      <td>object</td>\n",
       "    </tr>\n",
       "    <tr>\n",
       "      <th>nom_5</th>\n",
       "      <td>582222</td>\n",
       "      <td>NaN</td>\n",
       "      <td>NaN</td>\n",
       "      <td>NaN</td>\n",
       "      <td>NaN</td>\n",
       "      <td>NaN</td>\n",
       "      <td>NaN</td>\n",
       "      <td>NaN</td>\n",
       "      <td>17778</td>\n",
       "      <td>711.12</td>\n",
       "      <td>1221</td>\n",
       "      <td>48.84</td>\n",
       "      <td>NaN</td>\n",
       "      <td>object</td>\n",
       "    </tr>\n",
       "    <tr>\n",
       "      <th>nom_6</th>\n",
       "      <td>581869</td>\n",
       "      <td>NaN</td>\n",
       "      <td>NaN</td>\n",
       "      <td>NaN</td>\n",
       "      <td>NaN</td>\n",
       "      <td>NaN</td>\n",
       "      <td>NaN</td>\n",
       "      <td>NaN</td>\n",
       "      <td>18131</td>\n",
       "      <td>725.24</td>\n",
       "      <td>1520</td>\n",
       "      <td>60.80</td>\n",
       "      <td>NaN</td>\n",
       "      <td>object</td>\n",
       "    </tr>\n",
       "    <tr>\n",
       "      <th>nom_7</th>\n",
       "      <td>581997</td>\n",
       "      <td>NaN</td>\n",
       "      <td>NaN</td>\n",
       "      <td>NaN</td>\n",
       "      <td>NaN</td>\n",
       "      <td>NaN</td>\n",
       "      <td>NaN</td>\n",
       "      <td>NaN</td>\n",
       "      <td>18003</td>\n",
       "      <td>720.12</td>\n",
       "      <td>223</td>\n",
       "      <td>8.92</td>\n",
       "      <td>NaN</td>\n",
       "      <td>object</td>\n",
       "    </tr>\n",
       "    <tr>\n",
       "      <th>nom_8</th>\n",
       "      <td>582245</td>\n",
       "      <td>NaN</td>\n",
       "      <td>NaN</td>\n",
       "      <td>NaN</td>\n",
       "      <td>NaN</td>\n",
       "      <td>NaN</td>\n",
       "      <td>NaN</td>\n",
       "      <td>NaN</td>\n",
       "      <td>17755</td>\n",
       "      <td>710.20</td>\n",
       "      <td>223</td>\n",
       "      <td>8.92</td>\n",
       "      <td>NaN</td>\n",
       "      <td>object</td>\n",
       "    </tr>\n",
       "    <tr>\n",
       "      <th>nom_9</th>\n",
       "      <td>581927</td>\n",
       "      <td>NaN</td>\n",
       "      <td>NaN</td>\n",
       "      <td>NaN</td>\n",
       "      <td>NaN</td>\n",
       "      <td>NaN</td>\n",
       "      <td>NaN</td>\n",
       "      <td>NaN</td>\n",
       "      <td>18073</td>\n",
       "      <td>722.92</td>\n",
       "      <td>2219</td>\n",
       "      <td>88.76</td>\n",
       "      <td>NaN</td>\n",
       "      <td>object</td>\n",
       "    </tr>\n",
       "    <tr>\n",
       "      <th>ord_0</th>\n",
       "      <td>581712</td>\n",
       "      <td>1.94822</td>\n",
       "      <td>0.853904</td>\n",
       "      <td>1</td>\n",
       "      <td>1</td>\n",
       "      <td>2</td>\n",
       "      <td>3</td>\n",
       "      <td>3</td>\n",
       "      <td>18288</td>\n",
       "      <td>731.52</td>\n",
       "      <td>4</td>\n",
       "      <td>0.16</td>\n",
       "      <td>[3.0, 1.0, 2.0, nan]</td>\n",
       "      <td>float64</td>\n",
       "    </tr>\n",
       "    <tr>\n",
       "      <th>ord_1</th>\n",
       "      <td>581959</td>\n",
       "      <td>NaN</td>\n",
       "      <td>NaN</td>\n",
       "      <td>NaN</td>\n",
       "      <td>NaN</td>\n",
       "      <td>NaN</td>\n",
       "      <td>NaN</td>\n",
       "      <td>NaN</td>\n",
       "      <td>18041</td>\n",
       "      <td>721.64</td>\n",
       "      <td>6</td>\n",
       "      <td>0.24</td>\n",
       "      <td>[Contributor, Grandmaster, nan, Novice, Expert...</td>\n",
       "      <td>object</td>\n",
       "    </tr>\n",
       "    <tr>\n",
       "      <th>ord_2</th>\n",
       "      <td>581925</td>\n",
       "      <td>NaN</td>\n",
       "      <td>NaN</td>\n",
       "      <td>NaN</td>\n",
       "      <td>NaN</td>\n",
       "      <td>NaN</td>\n",
       "      <td>NaN</td>\n",
       "      <td>NaN</td>\n",
       "      <td>18075</td>\n",
       "      <td>723.00</td>\n",
       "      <td>7</td>\n",
       "      <td>0.28</td>\n",
       "      <td>[Hot, Warm, Freezing, Lava Hot, Cold, Boiling ...</td>\n",
       "      <td>object</td>\n",
       "    </tr>\n",
       "    <tr>\n",
       "      <th>ord_3</th>\n",
       "      <td>582084</td>\n",
       "      <td>NaN</td>\n",
       "      <td>NaN</td>\n",
       "      <td>NaN</td>\n",
       "      <td>NaN</td>\n",
       "      <td>NaN</td>\n",
       "      <td>NaN</td>\n",
       "      <td>NaN</td>\n",
       "      <td>17916</td>\n",
       "      <td>716.64</td>\n",
       "      <td>16</td>\n",
       "      <td>0.64</td>\n",
       "      <td>[c, e, n, a, h, b, d, k, g, o, i, m, nan, f, l...</td>\n",
       "      <td>object</td>\n",
       "    </tr>\n",
       "    <tr>\n",
       "      <th>ord_4</th>\n",
       "      <td>582070</td>\n",
       "      <td>NaN</td>\n",
       "      <td>NaN</td>\n",
       "      <td>NaN</td>\n",
       "      <td>NaN</td>\n",
       "      <td>NaN</td>\n",
       "      <td>NaN</td>\n",
       "      <td>NaN</td>\n",
       "      <td>17930</td>\n",
       "      <td>717.20</td>\n",
       "      <td>27</td>\n",
       "      <td>1.08</td>\n",
       "      <td>NaN</td>\n",
       "      <td>object</td>\n",
       "    </tr>\n",
       "    <tr>\n",
       "      <th>ord_5</th>\n",
       "      <td>582287</td>\n",
       "      <td>NaN</td>\n",
       "      <td>NaN</td>\n",
       "      <td>NaN</td>\n",
       "      <td>NaN</td>\n",
       "      <td>NaN</td>\n",
       "      <td>NaN</td>\n",
       "      <td>NaN</td>\n",
       "      <td>17713</td>\n",
       "      <td>708.52</td>\n",
       "      <td>191</td>\n",
       "      <td>7.64</td>\n",
       "      <td>NaN</td>\n",
       "      <td>object</td>\n",
       "    </tr>\n",
       "    <tr>\n",
       "      <th>target</th>\n",
       "      <td>600000</td>\n",
       "      <td>0.187205</td>\n",
       "      <td>0.390076</td>\n",
       "      <td>0</td>\n",
       "      <td>0</td>\n",
       "      <td>0</td>\n",
       "      <td>0</td>\n",
       "      <td>1</td>\n",
       "      <td>0</td>\n",
       "      <td>0.00</td>\n",
       "      <td>2</td>\n",
       "      <td>0.08</td>\n",
       "      <td>[0, 1]</td>\n",
       "      <td>int64</td>\n",
       "    </tr>\n",
       "  </tbody>\n",
       "</table>\n",
       "</div>"
      ],
      "text/plain": [
       "         count       mean       std  min     25%     50%     75%     max  \\\n",
       "bin_0   582106  0.0923011  0.289451    0       0       0       0       1   \n",
       "bin_1   581997   0.185532  0.388729    0       0       0       0       1   \n",
       "bin_2   582070   0.278704  0.448362    0       0       0       1       1   \n",
       "bin_3   581986        NaN       NaN  NaN     NaN     NaN     NaN     NaN   \n",
       "bin_4   581953        NaN       NaN  NaN     NaN     NaN     NaN     NaN   \n",
       "day     582048    4.11277   2.03443    1       2       5       6       7   \n",
       "id      600000     300000    173205    0  150000  300000  449999  599999   \n",
       "month   582012    6.37132   3.45896    1       3       6       8      12   \n",
       "nom_0   581748        NaN       NaN  NaN     NaN     NaN     NaN     NaN   \n",
       "nom_1   581844        NaN       NaN  NaN     NaN     NaN     NaN     NaN   \n",
       "nom_2   581965        NaN       NaN  NaN     NaN     NaN     NaN     NaN   \n",
       "nom_3   581879        NaN       NaN  NaN     NaN     NaN     NaN     NaN   \n",
       "nom_4   581965        NaN       NaN  NaN     NaN     NaN     NaN     NaN   \n",
       "nom_5   582222        NaN       NaN  NaN     NaN     NaN     NaN     NaN   \n",
       "nom_6   581869        NaN       NaN  NaN     NaN     NaN     NaN     NaN   \n",
       "nom_7   581997        NaN       NaN  NaN     NaN     NaN     NaN     NaN   \n",
       "nom_8   582245        NaN       NaN  NaN     NaN     NaN     NaN     NaN   \n",
       "nom_9   581927        NaN       NaN  NaN     NaN     NaN     NaN     NaN   \n",
       "ord_0   581712    1.94822  0.853904    1       1       2       3       3   \n",
       "ord_1   581959        NaN       NaN  NaN     NaN     NaN     NaN     NaN   \n",
       "ord_2   581925        NaN       NaN  NaN     NaN     NaN     NaN     NaN   \n",
       "ord_3   582084        NaN       NaN  NaN     NaN     NaN     NaN     NaN   \n",
       "ord_4   582070        NaN       NaN  NaN     NaN     NaN     NaN     NaN   \n",
       "ord_5   582287        NaN       NaN  NaN     NaN     NaN     NaN     NaN   \n",
       "target  600000   0.187205  0.390076    0       0       0       0       1   \n",
       "\n",
       "        missing  missing%  unique   unique%  \\\n",
       "bin_0     17894    715.76       3      0.12   \n",
       "bin_1     18003    720.12       3      0.12   \n",
       "bin_2     17930    717.20       3      0.12   \n",
       "bin_3     18014    720.56       3      0.12   \n",
       "bin_4     18047    721.88       3      0.12   \n",
       "day       17952    718.08       8      0.32   \n",
       "id            0      0.00  600000  24000.00   \n",
       "month     17988    719.52      13      0.52   \n",
       "nom_0     18252    730.08       4      0.16   \n",
       "nom_1     18156    726.24       7      0.28   \n",
       "nom_2     18035    721.40       7      0.28   \n",
       "nom_3     18121    724.84       7      0.28   \n",
       "nom_4     18035    721.40       5      0.20   \n",
       "nom_5     17778    711.12    1221     48.84   \n",
       "nom_6     18131    725.24    1520     60.80   \n",
       "nom_7     18003    720.12     223      8.92   \n",
       "nom_8     17755    710.20     223      8.92   \n",
       "nom_9     18073    722.92    2219     88.76   \n",
       "ord_0     18288    731.52       4      0.16   \n",
       "ord_1     18041    721.64       6      0.24   \n",
       "ord_2     18075    723.00       7      0.28   \n",
       "ord_3     17916    716.64      16      0.64   \n",
       "ord_4     17930    717.20      27      1.08   \n",
       "ord_5     17713    708.52     191      7.64   \n",
       "target        0      0.00       2      0.08   \n",
       "\n",
       "                                            unique_values    dtype  \n",
       "bin_0                                     [0.0, 1.0, nan]  float64  \n",
       "bin_1                                     [0.0, 1.0, nan]  float64  \n",
       "bin_2                                     [0.0, 1.0, nan]  float64  \n",
       "bin_3                                         [F, T, nan]   object  \n",
       "bin_4                                         [N, Y, nan]   object  \n",
       "day              [6.0, 7.0, 5.0, 3.0, 1.0, 2.0, nan, 4.0]  float64  \n",
       "id                                                    NaN    int64  \n",
       "month   [3.0, 7.0, 9.0, 12.0, 4.0, 6.0, 1.0, 8.0, 5.0,...  float64  \n",
       "nom_0                             [Red, Blue, Green, nan]   object  \n",
       "nom_1   [Trapezoid, Star, nan, Circle, Triangle, Polyg...   object  \n",
       "nom_2      [Hamster, Axolotl, Lion, Dog, Cat, Snake, nan]   object  \n",
       "nom_3   [Russia, nan, Canada, Finland, Costa Rica, Chi...   object  \n",
       "nom_4               [Bassoon, Theremin, nan, Oboe, Piano]   object  \n",
       "nom_5                                                 NaN   object  \n",
       "nom_6                                                 NaN   object  \n",
       "nom_7                                                 NaN   object  \n",
       "nom_8                                                 NaN   object  \n",
       "nom_9                                                 NaN   object  \n",
       "ord_0                                [3.0, 1.0, 2.0, nan]  float64  \n",
       "ord_1   [Contributor, Grandmaster, nan, Novice, Expert...   object  \n",
       "ord_2   [Hot, Warm, Freezing, Lava Hot, Cold, Boiling ...   object  \n",
       "ord_3   [c, e, n, a, h, b, d, k, g, o, i, m, nan, f, l...   object  \n",
       "ord_4                                                 NaN   object  \n",
       "ord_5                                                 NaN   object  \n",
       "target                                             [0, 1]    int64  "
      ]
     },
     "execution_count": 9,
     "metadata": {},
     "output_type": "execute_result"
    },
    {
     "name": "stdout",
     "output_type": "stream",
     "text": [
      "time: 4.21 s\n"
     ]
    }
   ],
   "source": [
    "advanced_describe(train)"
   ]
  },
  {
   "cell_type": "markdown",
   "metadata": {
    "heading_collapsed": true,
    "hidden": true
   },
   "source": [
    "#### See headers of all data"
   ]
  },
  {
   "cell_type": "code",
   "execution_count": 10,
   "metadata": {
    "hidden": true
   },
   "outputs": [
    {
     "data": {
      "text/html": [
       "<div>\n",
       "<style scoped>\n",
       "    .dataframe tbody tr th:only-of-type {\n",
       "        vertical-align: middle;\n",
       "    }\n",
       "\n",
       "    .dataframe tbody tr th {\n",
       "        vertical-align: top;\n",
       "    }\n",
       "\n",
       "    .dataframe thead th {\n",
       "        text-align: right;\n",
       "    }\n",
       "</style>\n",
       "<table border=\"1\" class=\"dataframe\">\n",
       "  <thead>\n",
       "    <tr style=\"text-align: right;\">\n",
       "      <th></th>\n",
       "      <th>id</th>\n",
       "      <th>bin_0</th>\n",
       "      <th>bin_1</th>\n",
       "      <th>bin_2</th>\n",
       "      <th>bin_3</th>\n",
       "      <th>bin_4</th>\n",
       "      <th>nom_0</th>\n",
       "      <th>nom_1</th>\n",
       "      <th>nom_2</th>\n",
       "      <th>nom_3</th>\n",
       "      <th>nom_4</th>\n",
       "      <th>nom_5</th>\n",
       "      <th>nom_6</th>\n",
       "      <th>nom_7</th>\n",
       "      <th>nom_8</th>\n",
       "      <th>nom_9</th>\n",
       "      <th>ord_0</th>\n",
       "      <th>ord_1</th>\n",
       "      <th>ord_2</th>\n",
       "      <th>ord_3</th>\n",
       "      <th>ord_4</th>\n",
       "      <th>ord_5</th>\n",
       "      <th>day</th>\n",
       "      <th>month</th>\n",
       "      <th>target</th>\n",
       "    </tr>\n",
       "  </thead>\n",
       "  <tbody>\n",
       "    <tr>\n",
       "      <th>0</th>\n",
       "      <td>0</td>\n",
       "      <td>0.0</td>\n",
       "      <td>0.0</td>\n",
       "      <td>0.0</td>\n",
       "      <td>F</td>\n",
       "      <td>N</td>\n",
       "      <td>Red</td>\n",
       "      <td>Trapezoid</td>\n",
       "      <td>Hamster</td>\n",
       "      <td>Russia</td>\n",
       "      <td>Bassoon</td>\n",
       "      <td>de4c57ee2</td>\n",
       "      <td>a64bc7ddf</td>\n",
       "      <td>598080a91</td>\n",
       "      <td>0256c7a4b</td>\n",
       "      <td>02e7c8990</td>\n",
       "      <td>3.0</td>\n",
       "      <td>Contributor</td>\n",
       "      <td>Hot</td>\n",
       "      <td>c</td>\n",
       "      <td>U</td>\n",
       "      <td>Pw</td>\n",
       "      <td>6.0</td>\n",
       "      <td>3.0</td>\n",
       "      <td>0</td>\n",
       "    </tr>\n",
       "    <tr>\n",
       "      <th>1</th>\n",
       "      <td>1</td>\n",
       "      <td>1.0</td>\n",
       "      <td>1.0</td>\n",
       "      <td>0.0</td>\n",
       "      <td>F</td>\n",
       "      <td>Y</td>\n",
       "      <td>Red</td>\n",
       "      <td>Star</td>\n",
       "      <td>Axolotl</td>\n",
       "      <td>NaN</td>\n",
       "      <td>Theremin</td>\n",
       "      <td>2bb3c3e5c</td>\n",
       "      <td>3a3a936e8</td>\n",
       "      <td>1dddb8473</td>\n",
       "      <td>52ead350c</td>\n",
       "      <td>f37df64af</td>\n",
       "      <td>3.0</td>\n",
       "      <td>Grandmaster</td>\n",
       "      <td>Warm</td>\n",
       "      <td>e</td>\n",
       "      <td>X</td>\n",
       "      <td>pE</td>\n",
       "      <td>7.0</td>\n",
       "      <td>7.0</td>\n",
       "      <td>0</td>\n",
       "    </tr>\n",
       "    <tr>\n",
       "      <th>2</th>\n",
       "      <td>2</td>\n",
       "      <td>0.0</td>\n",
       "      <td>1.0</td>\n",
       "      <td>0.0</td>\n",
       "      <td>F</td>\n",
       "      <td>N</td>\n",
       "      <td>Red</td>\n",
       "      <td>NaN</td>\n",
       "      <td>Hamster</td>\n",
       "      <td>Canada</td>\n",
       "      <td>Bassoon</td>\n",
       "      <td>b574c9841</td>\n",
       "      <td>708248125</td>\n",
       "      <td>5ddc9a726</td>\n",
       "      <td>745b909d1</td>\n",
       "      <td>NaN</td>\n",
       "      <td>3.0</td>\n",
       "      <td>NaN</td>\n",
       "      <td>Freezing</td>\n",
       "      <td>n</td>\n",
       "      <td>P</td>\n",
       "      <td>eN</td>\n",
       "      <td>5.0</td>\n",
       "      <td>9.0</td>\n",
       "      <td>0</td>\n",
       "    </tr>\n",
       "    <tr>\n",
       "      <th>3</th>\n",
       "      <td>3</td>\n",
       "      <td>NaN</td>\n",
       "      <td>0.0</td>\n",
       "      <td>0.0</td>\n",
       "      <td>F</td>\n",
       "      <td>N</td>\n",
       "      <td>Red</td>\n",
       "      <td>Circle</td>\n",
       "      <td>Hamster</td>\n",
       "      <td>Finland</td>\n",
       "      <td>Theremin</td>\n",
       "      <td>673bdf1f6</td>\n",
       "      <td>23edb8da3</td>\n",
       "      <td>3a33ef960</td>\n",
       "      <td>bdaa56dd1</td>\n",
       "      <td>f9d456e57</td>\n",
       "      <td>1.0</td>\n",
       "      <td>Novice</td>\n",
       "      <td>Lava Hot</td>\n",
       "      <td>a</td>\n",
       "      <td>C</td>\n",
       "      <td>NaN</td>\n",
       "      <td>3.0</td>\n",
       "      <td>3.0</td>\n",
       "      <td>0</td>\n",
       "    </tr>\n",
       "    <tr>\n",
       "      <th>4</th>\n",
       "      <td>4</td>\n",
       "      <td>0.0</td>\n",
       "      <td>NaN</td>\n",
       "      <td>0.0</td>\n",
       "      <td>T</td>\n",
       "      <td>N</td>\n",
       "      <td>Red</td>\n",
       "      <td>Triangle</td>\n",
       "      <td>Hamster</td>\n",
       "      <td>Costa Rica</td>\n",
       "      <td>NaN</td>\n",
       "      <td>777d1ac2c</td>\n",
       "      <td>3a7975e46</td>\n",
       "      <td>bc9cc2a94</td>\n",
       "      <td>NaN</td>\n",
       "      <td>c5361037c</td>\n",
       "      <td>3.0</td>\n",
       "      <td>Grandmaster</td>\n",
       "      <td>Cold</td>\n",
       "      <td>h</td>\n",
       "      <td>C</td>\n",
       "      <td>OZ</td>\n",
       "      <td>5.0</td>\n",
       "      <td>12.0</td>\n",
       "      <td>0</td>\n",
       "    </tr>\n",
       "  </tbody>\n",
       "</table>\n",
       "</div>"
      ],
      "text/plain": [
       "   id  bin_0  bin_1  bin_2 bin_3 bin_4 nom_0      nom_1    nom_2       nom_3  \\\n",
       "0   0    0.0    0.0    0.0     F     N   Red  Trapezoid  Hamster      Russia   \n",
       "1   1    1.0    1.0    0.0     F     Y   Red       Star  Axolotl         NaN   \n",
       "2   2    0.0    1.0    0.0     F     N   Red        NaN  Hamster      Canada   \n",
       "3   3    NaN    0.0    0.0     F     N   Red     Circle  Hamster     Finland   \n",
       "4   4    0.0    NaN    0.0     T     N   Red   Triangle  Hamster  Costa Rica   \n",
       "\n",
       "      nom_4      nom_5      nom_6      nom_7      nom_8      nom_9  ord_0  \\\n",
       "0   Bassoon  de4c57ee2  a64bc7ddf  598080a91  0256c7a4b  02e7c8990    3.0   \n",
       "1  Theremin  2bb3c3e5c  3a3a936e8  1dddb8473  52ead350c  f37df64af    3.0   \n",
       "2   Bassoon  b574c9841  708248125  5ddc9a726  745b909d1        NaN    3.0   \n",
       "3  Theremin  673bdf1f6  23edb8da3  3a33ef960  bdaa56dd1  f9d456e57    1.0   \n",
       "4       NaN  777d1ac2c  3a7975e46  bc9cc2a94        NaN  c5361037c    3.0   \n",
       "\n",
       "         ord_1     ord_2 ord_3 ord_4 ord_5  day  month  target  \n",
       "0  Contributor       Hot     c     U    Pw  6.0    3.0       0  \n",
       "1  Grandmaster      Warm     e     X    pE  7.0    7.0       0  \n",
       "2          NaN  Freezing     n     P    eN  5.0    9.0       0  \n",
       "3       Novice  Lava Hot     a     C   NaN  3.0    3.0       0  \n",
       "4  Grandmaster      Cold     h     C    OZ  5.0   12.0       0  "
      ]
     },
     "execution_count": 10,
     "metadata": {},
     "output_type": "execute_result"
    },
    {
     "name": "stdout",
     "output_type": "stream",
     "text": [
      "time: 148 ms\n"
     ]
    }
   ],
   "source": [
    "train >> head"
   ]
  },
  {
   "cell_type": "code",
   "execution_count": 11,
   "metadata": {
    "hidden": true
   },
   "outputs": [
    {
     "data": {
      "text/html": [
       "<div>\n",
       "<style scoped>\n",
       "    .dataframe tbody tr th:only-of-type {\n",
       "        vertical-align: middle;\n",
       "    }\n",
       "\n",
       "    .dataframe tbody tr th {\n",
       "        vertical-align: top;\n",
       "    }\n",
       "\n",
       "    .dataframe thead th {\n",
       "        text-align: right;\n",
       "    }\n",
       "</style>\n",
       "<table border=\"1\" class=\"dataframe\">\n",
       "  <thead>\n",
       "    <tr style=\"text-align: right;\">\n",
       "      <th></th>\n",
       "      <th>id</th>\n",
       "      <th>bin_0</th>\n",
       "      <th>bin_1</th>\n",
       "      <th>bin_2</th>\n",
       "      <th>bin_3</th>\n",
       "      <th>bin_4</th>\n",
       "      <th>nom_0</th>\n",
       "      <th>nom_1</th>\n",
       "      <th>nom_2</th>\n",
       "      <th>nom_3</th>\n",
       "      <th>nom_4</th>\n",
       "      <th>nom_5</th>\n",
       "      <th>nom_6</th>\n",
       "      <th>nom_7</th>\n",
       "      <th>nom_8</th>\n",
       "      <th>nom_9</th>\n",
       "      <th>ord_0</th>\n",
       "      <th>ord_1</th>\n",
       "      <th>ord_2</th>\n",
       "      <th>ord_3</th>\n",
       "      <th>ord_4</th>\n",
       "      <th>ord_5</th>\n",
       "      <th>day</th>\n",
       "      <th>month</th>\n",
       "    </tr>\n",
       "  </thead>\n",
       "  <tbody>\n",
       "    <tr>\n",
       "      <th>0</th>\n",
       "      <td>600000</td>\n",
       "      <td>0.0</td>\n",
       "      <td>0.0</td>\n",
       "      <td>0.0</td>\n",
       "      <td>F</td>\n",
       "      <td>Y</td>\n",
       "      <td>Blue</td>\n",
       "      <td>Polygon</td>\n",
       "      <td>Axolotl</td>\n",
       "      <td>Finland</td>\n",
       "      <td>Piano</td>\n",
       "      <td>52f6dd16c</td>\n",
       "      <td>147d704e4</td>\n",
       "      <td>8d857a0a1</td>\n",
       "      <td>ca9ad1d4b</td>\n",
       "      <td>fced9e114</td>\n",
       "      <td>3.0</td>\n",
       "      <td>Novice</td>\n",
       "      <td>Boiling Hot</td>\n",
       "      <td>f</td>\n",
       "      <td>U</td>\n",
       "      <td>oU</td>\n",
       "      <td>3.0</td>\n",
       "      <td>9.0</td>\n",
       "    </tr>\n",
       "    <tr>\n",
       "      <th>1</th>\n",
       "      <td>600001</td>\n",
       "      <td>0.0</td>\n",
       "      <td>0.0</td>\n",
       "      <td>0.0</td>\n",
       "      <td>F</td>\n",
       "      <td>Y</td>\n",
       "      <td>Red</td>\n",
       "      <td>Circle</td>\n",
       "      <td>Lion</td>\n",
       "      <td>Russia</td>\n",
       "      <td>Bassoon</td>\n",
       "      <td>691ebeae8</td>\n",
       "      <td>8653dcc2e</td>\n",
       "      <td>67a8d4ebb</td>\n",
       "      <td>060a21580</td>\n",
       "      <td>7ca8775da</td>\n",
       "      <td>1.0</td>\n",
       "      <td>Novice</td>\n",
       "      <td>Cold</td>\n",
       "      <td>n</td>\n",
       "      <td>N</td>\n",
       "      <td>NaN</td>\n",
       "      <td>2.0</td>\n",
       "      <td>8.0</td>\n",
       "    </tr>\n",
       "    <tr>\n",
       "      <th>2</th>\n",
       "      <td>600002</td>\n",
       "      <td>0.0</td>\n",
       "      <td>0.0</td>\n",
       "      <td>0.0</td>\n",
       "      <td>F</td>\n",
       "      <td>Y</td>\n",
       "      <td>Blue</td>\n",
       "      <td>Circle</td>\n",
       "      <td>Axolotl</td>\n",
       "      <td>Russia</td>\n",
       "      <td>Theremin</td>\n",
       "      <td>81f792c16</td>\n",
       "      <td>6cdda499e</td>\n",
       "      <td>69403e18c</td>\n",
       "      <td>165e81a00</td>\n",
       "      <td>5940334c9</td>\n",
       "      <td>1.0</td>\n",
       "      <td>Expert</td>\n",
       "      <td>Warm</td>\n",
       "      <td>i</td>\n",
       "      <td>N</td>\n",
       "      <td>DN</td>\n",
       "      <td>2.0</td>\n",
       "      <td>6.0</td>\n",
       "    </tr>\n",
       "    <tr>\n",
       "      <th>3</th>\n",
       "      <td>600003</td>\n",
       "      <td>1.0</td>\n",
       "      <td>0.0</td>\n",
       "      <td>0.0</td>\n",
       "      <td>F</td>\n",
       "      <td>N</td>\n",
       "      <td>Red</td>\n",
       "      <td>Polygon</td>\n",
       "      <td>Axolotl</td>\n",
       "      <td>Costa Rica</td>\n",
       "      <td>Bassoon</td>\n",
       "      <td>c9134205b</td>\n",
       "      <td>acbca4827</td>\n",
       "      <td>cb681246b</td>\n",
       "      <td>77d41330d</td>\n",
       "      <td>6fbdeefc8</td>\n",
       "      <td>1.0</td>\n",
       "      <td>Expert</td>\n",
       "      <td>Hot</td>\n",
       "      <td>m</td>\n",
       "      <td>B</td>\n",
       "      <td>AG</td>\n",
       "      <td>1.0</td>\n",
       "      <td>6.0</td>\n",
       "    </tr>\n",
       "    <tr>\n",
       "      <th>4</th>\n",
       "      <td>600004</td>\n",
       "      <td>0.0</td>\n",
       "      <td>0.0</td>\n",
       "      <td>1.0</td>\n",
       "      <td>F</td>\n",
       "      <td>Y</td>\n",
       "      <td>Red</td>\n",
       "      <td>Circle</td>\n",
       "      <td>NaN</td>\n",
       "      <td>Finland</td>\n",
       "      <td>Theremin</td>\n",
       "      <td>f0f100f57</td>\n",
       "      <td>6f800b9af</td>\n",
       "      <td>cd9feb5c6</td>\n",
       "      <td>2218d9dfe</td>\n",
       "      <td>2a27c8fde</td>\n",
       "      <td>1.0</td>\n",
       "      <td>Contributor</td>\n",
       "      <td>Lava Hot</td>\n",
       "      <td>o</td>\n",
       "      <td>J</td>\n",
       "      <td>DT</td>\n",
       "      <td>3.0</td>\n",
       "      <td>3.0</td>\n",
       "    </tr>\n",
       "  </tbody>\n",
       "</table>\n",
       "</div>"
      ],
      "text/plain": [
       "       id  bin_0  bin_1  bin_2 bin_3 bin_4 nom_0    nom_1    nom_2  \\\n",
       "0  600000    0.0    0.0    0.0     F     Y  Blue  Polygon  Axolotl   \n",
       "1  600001    0.0    0.0    0.0     F     Y   Red   Circle     Lion   \n",
       "2  600002    0.0    0.0    0.0     F     Y  Blue   Circle  Axolotl   \n",
       "3  600003    1.0    0.0    0.0     F     N   Red  Polygon  Axolotl   \n",
       "4  600004    0.0    0.0    1.0     F     Y   Red   Circle      NaN   \n",
       "\n",
       "        nom_3     nom_4      nom_5      nom_6      nom_7      nom_8  \\\n",
       "0     Finland     Piano  52f6dd16c  147d704e4  8d857a0a1  ca9ad1d4b   \n",
       "1      Russia   Bassoon  691ebeae8  8653dcc2e  67a8d4ebb  060a21580   \n",
       "2      Russia  Theremin  81f792c16  6cdda499e  69403e18c  165e81a00   \n",
       "3  Costa Rica   Bassoon  c9134205b  acbca4827  cb681246b  77d41330d   \n",
       "4     Finland  Theremin  f0f100f57  6f800b9af  cd9feb5c6  2218d9dfe   \n",
       "\n",
       "       nom_9  ord_0        ord_1        ord_2 ord_3 ord_4 ord_5  day  month  \n",
       "0  fced9e114    3.0       Novice  Boiling Hot     f     U    oU  3.0    9.0  \n",
       "1  7ca8775da    1.0       Novice         Cold     n     N   NaN  2.0    8.0  \n",
       "2  5940334c9    1.0       Expert         Warm     i     N    DN  2.0    6.0  \n",
       "3  6fbdeefc8    1.0       Expert          Hot     m     B    AG  1.0    6.0  \n",
       "4  2a27c8fde    1.0  Contributor     Lava Hot     o     J    DT  3.0    3.0  "
      ]
     },
     "execution_count": 11,
     "metadata": {},
     "output_type": "execute_result"
    },
    {
     "name": "stdout",
     "output_type": "stream",
     "text": [
      "time: 115 ms\n"
     ]
    }
   ],
   "source": [
    "test >> head"
   ]
  },
  {
   "cell_type": "code",
   "execution_count": 12,
   "metadata": {
    "hidden": true
   },
   "outputs": [
    {
     "data": {
      "text/html": [
       "<div>\n",
       "<style scoped>\n",
       "    .dataframe tbody tr th:only-of-type {\n",
       "        vertical-align: middle;\n",
       "    }\n",
       "\n",
       "    .dataframe tbody tr th {\n",
       "        vertical-align: top;\n",
       "    }\n",
       "\n",
       "    .dataframe thead th {\n",
       "        text-align: right;\n",
       "    }\n",
       "</style>\n",
       "<table border=\"1\" class=\"dataframe\">\n",
       "  <thead>\n",
       "    <tr style=\"text-align: right;\">\n",
       "      <th></th>\n",
       "      <th>id</th>\n",
       "      <th>target</th>\n",
       "    </tr>\n",
       "  </thead>\n",
       "  <tbody>\n",
       "    <tr>\n",
       "      <th>0</th>\n",
       "      <td>600000</td>\n",
       "      <td>0.5</td>\n",
       "    </tr>\n",
       "    <tr>\n",
       "      <th>1</th>\n",
       "      <td>600001</td>\n",
       "      <td>0.5</td>\n",
       "    </tr>\n",
       "    <tr>\n",
       "      <th>2</th>\n",
       "      <td>600002</td>\n",
       "      <td>0.5</td>\n",
       "    </tr>\n",
       "    <tr>\n",
       "      <th>3</th>\n",
       "      <td>600003</td>\n",
       "      <td>0.5</td>\n",
       "    </tr>\n",
       "    <tr>\n",
       "      <th>4</th>\n",
       "      <td>600004</td>\n",
       "      <td>0.5</td>\n",
       "    </tr>\n",
       "  </tbody>\n",
       "</table>\n",
       "</div>"
      ],
      "text/plain": [
       "       id  target\n",
       "0  600000     0.5\n",
       "1  600001     0.5\n",
       "2  600002     0.5\n",
       "3  600003     0.5\n",
       "4  600004     0.5"
      ]
     },
     "execution_count": 12,
     "metadata": {},
     "output_type": "execute_result"
    },
    {
     "name": "stdout",
     "output_type": "stream",
     "text": [
      "time: 29.2 ms\n"
     ]
    }
   ],
   "source": [
    "sample_submission >> head"
   ]
  },
  {
   "cell_type": "markdown",
   "metadata": {
    "heading_collapsed": true
   },
   "source": [
    "### Feature engineering"
   ]
  },
  {
   "cell_type": "markdown",
   "metadata": {
    "heading_collapsed": true,
    "hidden": true
   },
   "source": [
    "#### Baseline"
   ]
  },
  {
   "cell_type": "code",
   "execution_count": 33,
   "metadata": {
    "hidden": true
   },
   "outputs": [
    {
     "name": "stdout",
     "output_type": "stream",
     "text": [
      "time: 26 ms\n"
     ]
    }
   ],
   "source": [
    "train.sort_index(inplace=True)"
   ]
  },
  {
   "cell_type": "code",
   "execution_count": 34,
   "metadata": {
    "hidden": true
   },
   "outputs": [
    {
     "name": "stdout",
     "output_type": "stream",
     "text": [
      "time: 24.1 ms\n"
     ]
    }
   ],
   "source": [
    "train_y = train['target']\n",
    "test_id = test['id']"
   ]
  },
  {
   "cell_type": "code",
   "execution_count": 35,
   "metadata": {
    "hidden": true
   },
   "outputs": [
    {
     "name": "stdout",
     "output_type": "stream",
     "text": [
      "time: 244 ms\n"
     ]
    }
   ],
   "source": [
    "train.drop(['target', 'id'], axis=1, inplace=True)\n",
    "test.drop('id', axis=1, inplace=True)"
   ]
  },
  {
   "cell_type": "code",
   "execution_count": 36,
   "metadata": {
    "hidden": true
   },
   "outputs": [
    {
     "name": "stdout",
     "output_type": "stream",
     "text": [
      "time: 24.6 ms\n"
     ]
    }
   ],
   "source": [
    "cat_feat_to_encode = train.columns.tolist()\n",
    "smoothing=0.20"
   ]
  },
  {
   "cell_type": "code",
   "execution_count": 37,
   "metadata": {
    "hidden": true
   },
   "outputs": [
    {
     "name": "stdout",
     "output_type": "stream",
     "text": [
      "time: 27.1 ms\n"
     ]
    }
   ],
   "source": [
    "oof = pd.DataFrame([])"
   ]
  },
  {
   "cell_type": "code",
   "execution_count": 40,
   "metadata": {
    "hidden": true
   },
   "outputs": [
    {
     "name": "stdout",
     "output_type": "stream",
     "text": [
      "Length of training:  479999\n",
      "Length of out of fold:  120001\n",
      "Length of training:  479999\n",
      "Length of out of fold:  120001\n",
      "Length of training:  480000\n",
      "Length of out of fold:  120000\n",
      "Length of training:  480001\n",
      "Length of out of fold:  119999\n",
      "Length of training:  480001\n",
      "Length of out of fold:  119999\n",
      "time: 37.5 s\n"
     ]
    }
   ],
   "source": [
    "for tr_idx, oof_idx in StratifiedKFold(n_splits=5, random_state=2020, shuffle=True).split(train, train_y):\n",
    "    \n",
    "    print(\"Length of training: \",len(tr_idx))\n",
    "    print(\"Length of out of fold: \",len(oof_idx))\n",
    "    \n",
    "    ce_target_encoder = ce.TargetEncoder(cols = cat_feat_to_encode, smoothing=smoothing)\n",
    "    ce_target_encoder.fit(train.iloc[tr_idx, :], train_y.iloc[tr_idx])\n",
    "    oof = oof.append(ce_target_encoder.transform(train.iloc[oof_idx, :]), ignore_index=False)"
   ]
  },
  {
   "cell_type": "code",
   "execution_count": 19,
   "metadata": {
    "hidden": true
   },
   "outputs": [
    {
     "data": {
      "text/plain": [
       "TargetEncoder(cols=['bin_0', 'bin_1', 'bin_2', 'bin_3', 'bin_4', 'nom_0',\n",
       "                    'nom_1', 'nom_2', 'nom_3', 'nom_4', 'nom_5', 'nom_6',\n",
       "                    'nom_7', 'nom_8', 'nom_9', 'ord_0', 'ord_1', 'ord_2',\n",
       "                    'ord_3', 'ord_4', 'ord_5', 'day', 'month'],\n",
       "              drop_invariant=False, handle_missing='value',\n",
       "              handle_unknown='value', min_samples_leaf=1, return_df=True,\n",
       "              smoothing=0.2, verbose=0)"
      ]
     },
     "execution_count": 19,
     "metadata": {},
     "output_type": "execute_result"
    },
    {
     "name": "stdout",
     "output_type": "stream",
     "text": [
      "time: 7.59 s\n"
     ]
    }
   ],
   "source": [
    "ce_target_encoder = ce.TargetEncoder(cols = cat_feat_to_encode, smoothing=smoothing)\n",
    "ce_target_encoder.fit(train, train_y)"
   ]
  },
  {
   "cell_type": "code",
   "execution_count": 20,
   "metadata": {
    "hidden": true
   },
   "outputs": [
    {
     "name": "stdout",
     "output_type": "stream",
     "text": [
      "time: 1.78 s\n"
     ]
    }
   ],
   "source": [
    "train = oof.sort_index()\n",
    "test = ce_target_encoder.transform(test)"
   ]
  },
  {
   "cell_type": "markdown",
   "metadata": {
    "heading_collapsed": true,
    "hidden": true
   },
   "source": [
    "#### Missing value treatment"
   ]
  },
  {
   "cell_type": "markdown",
   "metadata": {
    "heading_collapsed": true,
    "hidden": true
   },
   "source": [
    "#### Create features"
   ]
  },
  {
   "cell_type": "code",
   "execution_count": null,
   "metadata": {
    "hidden": true
   },
   "outputs": [],
   "source": []
  },
  {
   "cell_type": "code",
   "execution_count": null,
   "metadata": {
    "hidden": true
   },
   "outputs": [],
   "source": []
  },
  {
   "cell_type": "code",
   "execution_count": null,
   "metadata": {
    "hidden": true
   },
   "outputs": [],
   "source": []
  },
  {
   "cell_type": "markdown",
   "metadata": {
    "heading_collapsed": true
   },
   "source": [
    "### EDA"
   ]
  },
  {
   "cell_type": "code",
   "execution_count": null,
   "metadata": {
    "hidden": true
   },
   "outputs": [],
   "source": []
  },
  {
   "cell_type": "markdown",
   "metadata": {
    "heading_collapsed": true
   },
   "source": [
    "### Modelling"
   ]
  },
  {
   "cell_type": "code",
   "execution_count": 21,
   "metadata": {
    "hidden": true
   },
   "outputs": [
    {
     "data": {
      "text/plain": [
       "LogisticRegression(C=1.0, class_weight=None, dual=False, fit_intercept=True,\n",
       "                   intercept_scaling=1, l1_ratio=None, max_iter=2020,\n",
       "                   multi_class='warn', n_jobs=None, penalty='none',\n",
       "                   random_state=1, solver='lbfgs', tol=0.0001, verbose=0,\n",
       "                   warm_start=False)"
      ]
     },
     "execution_count": 21,
     "metadata": {},
     "output_type": "execute_result"
    },
    {
     "name": "stdout",
     "output_type": "stream",
     "text": [
      "time: 56.6 s\n"
     ]
    }
   ],
   "source": [
    "glm = linear_model.LogisticRegression( random_state=1, solver='lbfgs', max_iter=2020, fit_intercept=True, penalty='none', verbose=0)\n",
    "glm.fit(train, train_y)"
   ]
  },
  {
   "cell_type": "markdown",
   "metadata": {
    "heading_collapsed": true
   },
   "source": [
    "### Submission"
   ]
  },
  {
   "cell_type": "code",
   "execution_count": 22,
   "metadata": {
    "hidden": true
   },
   "outputs": [
    {
     "name": "stdout",
     "output_type": "stream",
     "text": [
      "time: 3.34 s\n"
     ]
    }
   ],
   "source": [
    "pd.DataFrame({'id': test_id, 'target': glm.predict_proba(test)[:,1]}).to_csv('submission.csv', index=False)"
   ]
  },
  {
   "cell_type": "markdown",
   "metadata": {
    "collapsed": true,
    "heading_collapsed": true
   },
   "source": [
    "### QA"
   ]
  }
 ],
 "metadata": {
  "kernelspec": {
   "display_name": "Python 3 (General DS)",
   "language": "python",
   "name": "python3"
  },
  "language_info": {
   "codemirror_mode": {
    "name": "ipython",
    "version": 3
   },
   "file_extension": ".py",
   "mimetype": "text/x-python",
   "name": "python",
   "nbconvert_exporter": "python",
   "pygments_lexer": "ipython3",
   "version": "3.6.4"
  }
 },
 "nbformat": 4,
 "nbformat_minor": 2
}
