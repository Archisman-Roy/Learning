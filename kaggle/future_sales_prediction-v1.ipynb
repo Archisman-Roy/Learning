{
 "cells": [
  {
   "cell_type": "markdown",
   "metadata": {
    "heading_collapsed": true
   },
   "source": [
    "### Relevant links"
   ]
  },
  {
   "cell_type": "markdown",
   "metadata": {
    "hidden": true
   },
   "source": [
    "https://www.kaggle.com/c/competitive-data-science-predict-future-sales\n",
    "\n",
    "\n",
    "Also in this notebook, I am trying to change how features are generated in the v0 version, Here I will not fix the training month to only one month but rather use all data points and take lags. Will take out of time sample as a validation dataset but training will have data from any number of months"
   ]
  },
  {
   "cell_type": "markdown",
   "metadata": {
    "heading_collapsed": true
   },
   "source": [
    "### Imports"
   ]
  },
  {
   "cell_type": "code",
   "execution_count": null,
   "metadata": {
    "hidden": true
   },
   "outputs": [],
   "source": [
    "%reload_ext autoreload\n",
    "%autoreload 2\n",
    "%matplotlib inline \n",
    "%load_ext autotime"
   ]
  },
  {
   "cell_type": "code",
   "execution_count": 170,
   "metadata": {
    "hidden": true
   },
   "outputs": [
    {
     "name": "stdout",
     "output_type": "stream",
     "text": [
      "time: 1.28 ms\n"
     ]
    }
   ],
   "source": [
    "from scripts.imports import *\n",
    "import scripts.kaggle_data as kd\n",
    "from scripts.utility import *\n",
    "from scripts.utility_v1 import *"
   ]
  },
  {
   "cell_type": "code",
   "execution_count": 3,
   "metadata": {
    "hidden": true
   },
   "outputs": [
    {
     "name": "stdout",
     "output_type": "stream",
     "text": [
      "time: 1.86 ms\n"
     ]
    }
   ],
   "source": [
    "pd.options.display.max_rows = 4000\n",
    "pd.set_option('display.max_columns', 999)\n",
    "pd.options.mode.chained_assignment = None"
   ]
  },
  {
   "cell_type": "markdown",
   "metadata": {
    "heading_collapsed": true
   },
   "source": [
    "### Getting data"
   ]
  },
  {
   "cell_type": "code",
   "execution_count": null,
   "metadata": {
    "hidden": true
   },
   "outputs": [],
   "source": [
    "current_path = os.getcwd()\n",
    "data_dir_path = os.path.join(current_path,\"data\")\n",
    "\n",
    "if not os.path.exists(data_dir_path):\n",
    "    os.mkdir(data_dir_path)\n",
    "\n",
    "print(data_dir_path) #Never print"
   ]
  },
  {
   "cell_type": "code",
   "execution_count": null,
   "metadata": {
    "hidden": true
   },
   "outputs": [],
   "source": [
    "kd.download_data('competitive-data-science-predict-future-sales',current_path)"
   ]
  },
  {
   "cell_type": "code",
   "execution_count": 4,
   "metadata": {
    "hidden": true
   },
   "outputs": [
    {
     "data": {
      "text/plain": [
       "['shops',\n",
       " 'submission__xgb_v0',\n",
       " 'items',\n",
       " 'submission_v1',\n",
       " 'item_categories',\n",
       " 'sales_train',\n",
       " 'submission__xgb_v2',\n",
       " 'sample_submission',\n",
       " 'test',\n",
       " 'submission__xgb_v1']"
      ]
     },
     "execution_count": 4,
     "metadata": {},
     "output_type": "execute_result"
    },
    {
     "name": "stdout",
     "output_type": "stream",
     "text": [
      "time: 129 ms\n"
     ]
    }
   ],
   "source": [
    "#Listify files to download\n",
    "all_data_files = os.listdir('data/') #Getting all files in data folder in a list\n",
    "all_data_files = [x for x in all_data_files if x.endswith('.csv')] #Removing .ipynb files\n",
    "all_data_files = [remove_from_right(x,4) for x in all_data_files] #Removing .csvs\n",
    "all_data_files"
   ]
  },
  {
   "cell_type": "code",
   "execution_count": 5,
   "metadata": {
    "hidden": true
   },
   "outputs": [
    {
     "name": "stdout",
     "output_type": "stream",
     "text": [
      "shops=kd.read_data('data/','csv','shops')\n",
      "\n",
      "Shape of shops:  (60, 2)\n",
      "\n",
      "Data types in shops: \n",
      " \n",
      "  shop_name    object\n",
      "shop_id       int64\n",
      "dtype: object\n",
      "---------------------\n",
      "submission__xgb_v0=kd.read_data('data/','csv','submission__xgb_v0')\n",
      "\n",
      "Shape of submission__xgb_v0:  (214200, 2)\n",
      "\n",
      "Data types in submission__xgb_v0: \n",
      " \n",
      "  ID                  int64\n",
      "item_cnt_month    float64\n",
      "dtype: object\n",
      "---------------------\n",
      "items=kd.read_data('data/','csv','items')\n",
      "\n",
      "Shape of items:  (22170, 3)\n",
      "\n",
      "Data types in items: \n",
      " \n",
      "  item_name           object\n",
      "item_id              int64\n",
      "item_category_id     int64\n",
      "dtype: object\n",
      "---------------------\n",
      "submission_v1=kd.read_data('data/','csv','submission_v1')\n",
      "\n",
      "Shape of submission_v1:  (214200, 2)\n",
      "\n",
      "Data types in submission_v1: \n",
      " \n",
      "  ID                  int64\n",
      "item_cnt_month    float64\n",
      "dtype: object\n",
      "---------------------\n",
      "item_categories=kd.read_data('data/','csv','item_categories')\n",
      "\n",
      "Shape of item_categories:  (84, 2)\n",
      "\n",
      "Data types in item_categories: \n",
      " \n",
      "  item_category_name    object\n",
      "item_category_id       int64\n",
      "dtype: object\n",
      "---------------------\n",
      "sales_train=kd.read_data('data/','csv','sales_train')\n",
      "\n",
      "Shape of sales_train:  (2935849, 6)\n",
      "\n",
      "Data types in sales_train: \n",
      " \n",
      "  date               object\n",
      "date_block_num      int64\n",
      "shop_id             int64\n",
      "item_id             int64\n",
      "item_price        float64\n",
      "item_cnt_day      float64\n",
      "dtype: object\n",
      "---------------------\n",
      "submission__xgb_v2=kd.read_data('data/','csv','submission__xgb_v2')\n",
      "\n",
      "Shape of submission__xgb_v2:  (214200, 2)\n",
      "\n",
      "Data types in submission__xgb_v2: \n",
      " \n",
      "  ID                  int64\n",
      "item_cnt_month    float64\n",
      "dtype: object\n",
      "---------------------\n",
      "sample_submission=kd.read_data('data/','csv','sample_submission')\n",
      "\n",
      "Shape of sample_submission:  (214200, 2)\n",
      "\n",
      "Data types in sample_submission: \n",
      " \n",
      "  ID                  int64\n",
      "item_cnt_month    float64\n",
      "dtype: object\n",
      "---------------------\n",
      "test=kd.read_data('data/','csv','test')\n",
      "\n",
      "Shape of test:  (214200, 3)\n",
      "\n",
      "Data types in test: \n",
      " \n",
      "  ID         int64\n",
      "shop_id    int64\n",
      "item_id    int64\n",
      "dtype: object\n",
      "---------------------\n",
      "submission__xgb_v1=kd.read_data('data/','csv','submission__xgb_v1')\n",
      "\n",
      "Shape of submission__xgb_v1:  (214200, 2)\n",
      "\n",
      "Data types in submission__xgb_v1: \n",
      " \n",
      "  ID                  int64\n",
      "item_cnt_month    float64\n",
      "dtype: object\n",
      "---------------------\n",
      "time: 3.04 s\n"
     ]
    }
   ],
   "source": [
    "for i in all_data_files:\n",
    "    print(i + \"=\" + f\"kd.read_data('data/','csv','{i}')\")\n",
    "    print(\"\")\n",
    "    exec(i + \"=\" + f\"kd.read_data('data/','csv','{i}')\")\n",
    "    exec(f\"shape = {i}.shape\")\n",
    "    print(f\"Shape of {i}: \", shape)\n",
    "    exec(f\"data_types = {i}.dtypes\")\n",
    "    print(\"\")\n",
    "    print(f\"Data types in {i}: \\n \\n \", data_types)\n",
    "    print(\"---------------------\")"
   ]
  },
  {
   "cell_type": "code",
   "execution_count": 6,
   "metadata": {
    "hidden": true
   },
   "outputs": [
    {
     "name": "stdout",
     "output_type": "stream",
     "text": [
      "time: 957 µs\n"
     ]
    }
   ],
   "source": [
    "save_test = test"
   ]
  },
  {
   "cell_type": "markdown",
   "metadata": {
    "heading_collapsed": true
   },
   "source": [
    "### Testing data"
   ]
  },
  {
   "cell_type": "markdown",
   "metadata": {
    "heading_collapsed": true,
    "hidden": true
   },
   "source": [
    "#### Structural checks"
   ]
  },
  {
   "cell_type": "code",
   "execution_count": null,
   "metadata": {
    "hidden": true
   },
   "outputs": [],
   "source": [
    "#Unique data values\n",
    "#sales_train >> \\\n",
    "#select(X.date,X.date_block_num) >> \\\n",
    "#distinct(X.date,X.date_block_num) >> \\\n",
    "#arrange(X.date_block_num, ascending = True) \n",
    "\n",
    "#Finding\n",
    "#We have daily sales data as well"
   ]
  },
  {
   "cell_type": "code",
   "execution_count": null,
   "metadata": {
    "hidden": true
   },
   "outputs": [],
   "source": [
    "#Check for missing value in train data\n",
    "#for k in sales_train.columns:\n",
    "    #display_all(sales_train >> summarise_each([null_percent],k))"
   ]
  },
  {
   "cell_type": "markdown",
   "metadata": {
    "heading_collapsed": true,
    "hidden": true
   },
   "source": [
    "#### See headers of all data"
   ]
  },
  {
   "cell_type": "code",
   "execution_count": null,
   "metadata": {
    "hidden": true
   },
   "outputs": [],
   "source": [
    "sales_train >> head"
   ]
  },
  {
   "cell_type": "code",
   "execution_count": null,
   "metadata": {
    "hidden": true
   },
   "outputs": [],
   "source": [
    "shops >> head"
   ]
  },
  {
   "cell_type": "code",
   "execution_count": null,
   "metadata": {
    "hidden": true
   },
   "outputs": [],
   "source": [
    "items >> head"
   ]
  },
  {
   "cell_type": "code",
   "execution_count": null,
   "metadata": {
    "hidden": true
   },
   "outputs": [],
   "source": [
    "item_categories >> head"
   ]
  },
  {
   "cell_type": "code",
   "execution_count": null,
   "metadata": {
    "hidden": true
   },
   "outputs": [],
   "source": [
    "test >> head"
   ]
  },
  {
   "cell_type": "markdown",
   "metadata": {
    "heading_collapsed": true
   },
   "source": [
    "### Feature engineering"
   ]
  },
  {
   "cell_type": "markdown",
   "metadata": {
    "heading_collapsed": true,
    "hidden": true
   },
   "source": [
    "#### Create features"
   ]
  },
  {
   "cell_type": "code",
   "execution_count": 7,
   "metadata": {
    "hidden": true
   },
   "outputs": [
    {
     "name": "stdout",
     "output_type": "stream",
     "text": [
      "time: 4.14 s\n"
     ]
    }
   ],
   "source": [
    "# Add dates to training data\n",
    "sales_train = add_datepart(df = sales_train, custom_date_format = '%d.%m.%Y',field_name = 'date', drop = False)\n",
    "#Assignment is done to avoid printing the dataframe\n",
    "raw_data = sales_train"
   ]
  },
  {
   "cell_type": "code",
   "execution_count": 8,
   "metadata": {
    "hidden": true
   },
   "outputs": [
    {
     "name": "stdout",
     "output_type": "stream",
     "text": [
      "time: 10.9 s\n"
     ]
    }
   ],
   "source": [
    "#Convert item_id and shop_id as strings\n",
    "#Replace negative values of sales with 0 and add separate field for capturing returns\n",
    "raw_data = raw_data >> mutate(item_id = X.item_id.astype(str), shop_id = X.shop_id.astype(str)) >> \\\n",
    "mutate(item_cnt_day = if_else(X.item_cnt_day < 0, 0, X.item_cnt_day),\n",
    "      item_cnt_day_return = if_else(X.item_cnt_day < 0, -X.item_cnt_day,0))"
   ]
  },
  {
   "cell_type": "code",
   "execution_count": 95,
   "metadata": {
    "hidden": true
   },
   "outputs": [
    {
     "name": "stdout",
     "output_type": "stream",
     "text": [
      "time: 1.28 ms\n"
     ]
    }
   ],
   "source": [
    "#raw_data >> select(X.date_block_num,X.Month,X.Year) >> \\\n",
    "#distinct(X.date_block_num,X.Month,X.Year) >> arrange(X.date_block_num)\n",
    "#Will use date block num as a unique month idetifier from now on"
   ]
  },
  {
   "cell_type": "code",
   "execution_count": 147,
   "metadata": {
    "hidden": true
   },
   "outputs": [
    {
     "name": "stdout",
     "output_type": "stream",
     "text": [
      "time: 4.78 s\n"
     ]
    }
   ],
   "source": [
    "#Compute monthly metrics\n",
    "#Price changes \n",
    "#number of purchases\n",
    "#Translate everything daily to monthly\n",
    "#Standard deviation is a time consuming computation in dask, so not inclusinf for now\n",
    "\n",
    "metric_dictionary = {'item_cnt_day': ['sum','count'],'item_price' : ['mean']}\n",
    "\n",
    "raw_data_month = dd_summarise_m(raw_data,['item_id','shop_id','date_block_num'],metric_dictionary)\n",
    "raw_data_month = raw_data_month >> mutate(per_day_sales = X.item_cnt_day_sum/X.item_cnt_day_count)"
   ]
  },
  {
   "cell_type": "code",
   "execution_count": 148,
   "metadata": {
    "hidden": true
   },
   "outputs": [
    {
     "name": "stdout",
     "output_type": "stream",
     "text": [
      "time: 796 ms\n"
     ]
    }
   ],
   "source": [
    "#Cap sales value from 0 to 20\n",
    "raw_data_month = raw_data_month >> mutate(item_cnt_day_sum = if_else(X.item_cnt_day_sum > 20, 20, X.item_cnt_day_sum))"
   ]
  },
  {
   "cell_type": "code",
   "execution_count": 242,
   "metadata": {
    "hidden": true
   },
   "outputs": [
    {
     "name": "stdout",
     "output_type": "stream",
     "text": [
      "All items:  (21807, 1)\n",
      "All shops:  (60, 1)\n",
      "All months:  (34, 1)\n",
      "All item-shop combination:  (424124, 2)\n",
      "All item-shop combination from test:  (214200, 2)\n",
      "All item-shop combination from train + test:  (526920, 2)\n",
      "time: 4.89 s\n"
     ]
    }
   ],
   "source": [
    "#Unique values in each field\n",
    "all_items = raw_data >> select(X.item_id) >> distinct(X.item_id)\n",
    "print(\"All items: \", all_items.shape)\n",
    "all_shops = raw_data >> select(X.shop_id) >> distinct(X.shop_id)\n",
    "print(\"All shops: \", all_shops.shape)\n",
    "all_months = raw_data >> select(X.date_block_num) >> distinct(X.date_block_num)\n",
    "print(\"All months: \", all_months.shape)\n",
    "item_shop = raw_data >> select(X.item_id,X.shop_id) >> distinct(X.item_id,X.shop_id)\n",
    "print(\"All item-shop combination: \", item_shop.shape)\n",
    "item_shop_from_test = save_test >> \\\n",
    "mutate(item_id = X.item_id.astype(str), shop_id = X.shop_id.astype(str)) >> \\\n",
    "select(X.item_id,X.shop_id) >> distinct(X.item_id,X.shop_id)\n",
    "print(\"All item-shop combination from test: \", item_shop_from_test.shape)\n",
    "item_shop_all = item_shop >> bind_rows(item_shop_from_test) >> \\\n",
    "select(X.item_id,X.shop_id) >> distinct(X.item_id,X.shop_id)\n",
    "print(\"All item-shop combination from train + test: \", item_shop_all.shape)"
   ]
  },
  {
   "cell_type": "code",
   "execution_count": 243,
   "metadata": {
    "hidden": true
   },
   "outputs": [
    {
     "name": "stdout",
     "output_type": "stream",
     "text": [
      "Shape of sparse data:  (13173000, 7)\n",
      "Shape of test data:  (214200, 3)\n",
      "time: 16.1 s\n"
     ]
    }
   ],
   "source": [
    "#Train and valid\n",
    "item_shop_all_merge = item_shop_all >> mutate(key = 1)\n",
    "all_months = all_months >> mask(X.date_block_num > 8) >> mutate(key = 1) #Keeping 2 Novembers\n",
    "sparse_raw_data_month = item_shop_all_merge >> inner_join(all_months, by = ['key']) >> drop(X.key) >> \\\n",
    "left_join(raw_data_month, by = ['item_id','shop_id','date_block_num'])\n",
    "\n",
    "sparse_raw_data_month.item_cnt_day_sum.fillna(0,inplace = True) \n",
    "sparse_raw_data_month.item_cnt_day_count.fillna(0,inplace = True)\n",
    "sparse_raw_data_month.fillna(-999,inplace = True) #For price and sales per day\n",
    "\n",
    "\n",
    "print(\"Shape of sparse data: \", sparse_raw_data_month.shape )\n",
    "\n",
    "#Test\n",
    "test = save_test >> mutate(item_id = X.item_id.astype(str), \n",
    "                           shop_id = X.shop_id.astype(str), \n",
    "                           date_block_num = 34) >> drop(X.ID)\n",
    "\n",
    "print(\"Shape of test data: \", test.shape )"
   ]
  },
  {
   "cell_type": "code",
   "execution_count": 244,
   "metadata": {
    "hidden": true
   },
   "outputs": [
    {
     "name": "stdout",
     "output_type": "stream",
     "text": [
      "lag: 1 done\n",
      "lag: 2 done\n",
      "lag: 3 done\n",
      "lag: 4 done\n",
      "lag: 5 done\n",
      "lag: 6 done\n",
      "lag: 7 done\n",
      "lag: 8 done\n",
      "lag: 9 done\n",
      "lag: 10 done\n",
      "lag: 11 done\n",
      "lag: 12 done\n",
      "lag: 13 done\n",
      "lag: 14 done\n",
      "lag: 15 done\n",
      "lag: 16 done\n",
      "Metric: item_cnt_day_sum done\n",
      "lag: 1 done\n",
      "lag: 2 done\n",
      "lag: 3 done\n",
      "lag: 4 done\n",
      "lag: 5 done\n",
      "lag: 6 done\n",
      "lag: 7 done\n",
      "lag: 8 done\n",
      "lag: 9 done\n",
      "lag: 10 done\n",
      "lag: 11 done\n",
      "lag: 12 done\n",
      "lag: 13 done\n",
      "lag: 14 done\n",
      "lag: 15 done\n",
      "lag: 16 done\n",
      "Metric: item_price_mean done\n",
      "Shape before NaN removal:  (2500000, 39)\n",
      "Shape after NaN removal:  (900000, 39)\n",
      "lag: 1 done\n",
      "lag: 2 done\n",
      "lag: 3 done\n",
      "lag: 4 done\n",
      "lag: 5 done\n",
      "lag: 6 done\n",
      "lag: 7 done\n",
      "lag: 8 done\n",
      "lag: 9 done\n",
      "lag: 10 done\n",
      "lag: 11 done\n",
      "lag: 12 done\n",
      "lag: 13 done\n",
      "lag: 14 done\n",
      "lag: 15 done\n",
      "lag: 16 done\n",
      "Metric: item_cnt_day_sum done\n",
      "lag: 1 done\n",
      "lag: 2 done\n",
      "lag: 3 done\n",
      "lag: 4 done\n",
      "lag: 5 done\n",
      "lag: 6 done\n",
      "lag: 7 done\n",
      "lag: 8 done\n",
      "lag: 9 done\n",
      "lag: 10 done\n",
      "lag: 11 done\n",
      "lag: 12 done\n",
      "lag: 13 done\n",
      "lag: 14 done\n",
      "lag: 15 done\n",
      "lag: 16 done\n",
      "Metric: item_price_mean done\n",
      "Shape before NaN removal:  (214200, 39)\n",
      "Shape after NaN removal:  (214200, 39)\n",
      "time: 1min 53s\n"
     ]
    }
   ],
   "source": [
    "#Select training and valid months\n",
    "#Training: Past November: 22   and October: 21 , take other months as well\n",
    "#Since capturing all months will isolate nature of trips in November\n",
    "#Valid: Current October: 33\n",
    "\n",
    "#Start creating lag variables for everything and then merge with test data to attach the features\n",
    "\n",
    "samples = item_shop_all >> sample(100000) \n",
    "sparse_raw_data_month_sample = sparse_raw_data_month >> inner_join(samples, by = ['item_id','shop_id']) \n",
    "\n",
    "metric_list = ['item_cnt_day_sum','item_price_mean']#,'item_cnt_day_count','per_day_sales'\n",
    "sparse_raw_data_month_sample = apply_lag_v2(sparse_raw_data_month_sample,metric_list,16)\n",
    "\n",
    "\n",
    "print('Shape before NaN removal: ',sparse_raw_data_month_sample.shape )\n",
    "sparse_raw_data_month_sample.dropna(inplace = True)\n",
    "print('Shape after NaN removal: ',sparse_raw_data_month_sample.shape )\n",
    "\n",
    "#Get the same metrics for test data\n",
    "sparse_raw_data_month_test = test >> select(X.item_id,X.shop_id) >> \\\n",
    "inner_join(sparse_raw_data_month, by = ['item_id','shop_id']) \n",
    "\n",
    "concatenated_test = test >> bind_rows(sparse_raw_data_month_test) >> arrange(X.item_id,X.shop_id,X.date_block_num)\n",
    "\n",
    "test = apply_lag_v2(concatenated_test,metric_list,16)\n",
    "test = test >> mask(X.date_block_num == 34) \n",
    "\n",
    "test.item_cnt_day_sum.fillna(0,inplace = True) \n",
    "test.item_cnt_day_count.fillna(0,inplace = True) \n",
    "test.item_price_mean.fillna(-999,inplace = True) \n",
    "test.per_day_sales.fillna(-999,inplace = True) \n",
    "\n",
    "\n",
    "print('Shape before NaN removal: ',test.shape )\n",
    "test.dropna(inplace = True)\n",
    "print('Shape after NaN removal: ',test.shape ) #There shouldn't be any drop"
   ]
  },
  {
   "cell_type": "code",
   "execution_count": 245,
   "metadata": {
    "hidden": true
   },
   "outputs": [
    {
     "name": "stdout",
     "output_type": "stream",
     "text": [
      "time: 1.64 s\n"
     ]
    }
   ],
   "source": [
    "#Get date features for all date block num\n",
    "date_block_num_mapping = dd_summarise_m(raw_data,['date_block_num'],{'Month':['min']})\n",
    "sparse_raw_data_month_sample = sparse_raw_data_month_sample >> left_join(date_block_num_mapping, by = ['date_block_num'])\n",
    "test = test >> mutate(Month_min = 11)"
   ]
  },
  {
   "cell_type": "code",
   "execution_count": 246,
   "metadata": {
    "hidden": true
   },
   "outputs": [
    {
     "name": "stdout",
     "output_type": "stream",
     "text": [
      "time: 907 µs\n"
     ]
    }
   ],
   "source": [
    "#Create new features from the lag features"
   ]
  },
  {
   "cell_type": "code",
   "execution_count": 247,
   "metadata": {
    "hidden": true
   },
   "outputs": [
    {
     "name": "stdout",
     "output_type": "stream",
     "text": [
      "time: 1.21 ms\n"
     ]
    }
   ],
   "source": [
    "#Add item presence (Think how to add lag varables for this)"
   ]
  },
  {
   "cell_type": "code",
   "execution_count": 248,
   "metadata": {
    "hidden": true
   },
   "outputs": [
    {
     "name": "stdout",
     "output_type": "stream",
     "text": [
      "time: 2.85 s\n"
     ]
    }
   ],
   "source": [
    "#Item category size \n",
    "sparse_raw_data_month_sample = item_category_size(sparse_raw_data_month_sample,items)\n",
    "test = item_category_size(test,items)"
   ]
  },
  {
   "cell_type": "code",
   "execution_count": 249,
   "metadata": {
    "hidden": true
   },
   "outputs": [
    {
     "name": "stdout",
     "output_type": "stream",
     "text": [
      "time: 739 ms\n"
     ]
    }
   ],
   "source": [
    "#Now generate train, valid and test DFs\n",
    "\n",
    "#test = test\n",
    "train = sparse_raw_data_month_sample >> mask(X.date_block_num != 33)\n",
    "valid = sparse_raw_data_month_sample >> mask(X.date_block_num == 33)"
   ]
  },
  {
   "cell_type": "markdown",
   "metadata": {
    "heading_collapsed": true
   },
   "source": [
    "### EDA"
   ]
  },
  {
   "cell_type": "markdown",
   "metadata": {
    "heading_collapsed": true,
    "hidden": true
   },
   "source": [
    "#### Check distribution"
   ]
  },
  {
   "cell_type": "code",
   "execution_count": null,
   "metadata": {
    "hidden": true
   },
   "outputs": [],
   "source": [
    "check = dd_summarise(raw_data,['date_block_num','item_id','shop_id'],'item_cnt_day','sum')"
   ]
  },
  {
   "cell_type": "code",
   "execution_count": null,
   "metadata": {
    "hidden": true
   },
   "outputs": [],
   "source": [
    "check[check.item_cnt_day > 20].shape[0]/check.shape[0]"
   ]
  },
  {
   "cell_type": "code",
   "execution_count": null,
   "metadata": {
    "hidden": true
   },
   "outputs": [],
   "source": [
    "sns.distplot(check.item_cnt_day[check.item_cnt_day>0])"
   ]
  },
  {
   "cell_type": "markdown",
   "metadata": {
    "heading_collapsed": true
   },
   "source": [
    "### Modelling"
   ]
  },
  {
   "cell_type": "markdown",
   "metadata": {
    "heading_collapsed": true,
    "hidden": true
   },
   "source": [
    "#### Xgboost"
   ]
  },
  {
   "cell_type": "code",
   "execution_count": 250,
   "metadata": {
    "hidden": true
   },
   "outputs": [
    {
     "name": "stdout",
     "output_type": "stream",
     "text": [
      "Shape of training data:  (800000, 35)\n",
      "Shape of validation data:  (100000, 35)\n",
      "Shape of test data:  (214200, 35)\n",
      "time: 1.23 s\n"
     ]
    }
   ],
   "source": [
    "##data preparation\n",
    "ind_columns = train.columns.to_list()\n",
    "\n",
    "list_to_remove = ['shop_id','item_id','item_cnt_day_sum','date_block_num','item_price_mean','per_day_sales','item_cnt_day_count']\n",
    "ind_columns = remove_elements(ind_columns, list_to_remove )\n",
    "\n",
    "dep_coloumns = [\"item_cnt_day_sum\"]\n",
    "\n",
    "cont_vars = train.head(5).select_dtypes(include= [np.number]).columns.to_list()\n",
    "cont_vars = remove_elements(cont_vars, ['item_cnt_day_sum','date_block_num','item_price_mean','per_day_sales','item_cnt_day_count'])\n",
    "\n",
    "cat_vars = train.head(5).select_dtypes(include= [object]).columns.to_list()\n",
    "list_to_remove = ['shop_id','item_id']\n",
    "\n",
    "cat_vars = remove_elements(cat_vars, list_to_remove)\n",
    "\n",
    "\n",
    "x_train = train[ind_columns]\n",
    "y_train = train[dep_coloumns]\n",
    "\n",
    "x_test = test[ind_columns]\n",
    "\n",
    "x_valid = valid[ind_columns]\n",
    "y_valid = valid[dep_coloumns]\n",
    "\n",
    "print(\"Shape of training data: \", x_train.shape)\n",
    "print(\"Shape of validation data: \", x_valid.shape)\n",
    "print(\"Shape of test data: \", x_test.shape)\n",
    "\n",
    "xg_train = xgb.DMatrix(x_train, label = y_train)\n",
    "xg_test = xgb.DMatrix(x_test)\n",
    "xg_valid = xgb.DMatrix(x_valid, label = y_valid)"
   ]
  },
  {
   "cell_type": "code",
   "execution_count": 251,
   "metadata": {
    "hidden": true
   },
   "outputs": [
    {
     "name": "stdout",
     "output_type": "stream",
     "text": [
      "[0]\tvalid-rmse:0.845134\n",
      "Will train until valid-rmse hasn't improved in 10 rounds.\n",
      "[1]\tvalid-rmse:0.827121\n",
      "[2]\tvalid-rmse:0.810586\n",
      "[3]\tvalid-rmse:0.795131\n",
      "[4]\tvalid-rmse:0.782807\n",
      "[5]\tvalid-rmse:0.769841\n",
      "[6]\tvalid-rmse:0.760314\n",
      "[7]\tvalid-rmse:0.749686\n",
      "[8]\tvalid-rmse:0.742185\n",
      "[9]\tvalid-rmse:0.734876\n",
      "[10]\tvalid-rmse:0.72629\n",
      "[11]\tvalid-rmse:0.719801\n",
      "[12]\tvalid-rmse:0.712367\n",
      "[13]\tvalid-rmse:0.705472\n",
      "[14]\tvalid-rmse:0.699442\n",
      "[15]\tvalid-rmse:0.694173\n",
      "[16]\tvalid-rmse:0.689444\n",
      "[17]\tvalid-rmse:0.684758\n",
      "[18]\tvalid-rmse:0.681156\n",
      "[19]\tvalid-rmse:0.678469\n",
      "[20]\tvalid-rmse:0.675161\n",
      "[21]\tvalid-rmse:0.67191\n",
      "[22]\tvalid-rmse:0.669826\n",
      "[23]\tvalid-rmse:0.667602\n",
      "[24]\tvalid-rmse:0.665438\n",
      "[25]\tvalid-rmse:0.664046\n",
      "[26]\tvalid-rmse:0.662449\n",
      "[27]\tvalid-rmse:0.661219\n",
      "[28]\tvalid-rmse:0.659719\n",
      "[29]\tvalid-rmse:0.658614\n",
      "[30]\tvalid-rmse:0.657602\n",
      "[31]\tvalid-rmse:0.656648\n",
      "[32]\tvalid-rmse:0.655956\n",
      "[33]\tvalid-rmse:0.655186\n",
      "[34]\tvalid-rmse:0.654531\n",
      "[35]\tvalid-rmse:0.654027\n",
      "[36]\tvalid-rmse:0.653558\n",
      "[37]\tvalid-rmse:0.653165\n",
      "[38]\tvalid-rmse:0.652505\n",
      "[39]\tvalid-rmse:0.651979\n",
      "[40]\tvalid-rmse:0.651534\n",
      "[41]\tvalid-rmse:0.6514\n",
      "[42]\tvalid-rmse:0.651236\n",
      "[43]\tvalid-rmse:0.650937\n",
      "[44]\tvalid-rmse:0.650667\n",
      "[45]\tvalid-rmse:0.650538\n",
      "[46]\tvalid-rmse:0.650321\n",
      "[47]\tvalid-rmse:0.650449\n",
      "[48]\tvalid-rmse:0.650481\n",
      "[49]\tvalid-rmse:0.650476\n",
      "[50]\tvalid-rmse:0.650546\n",
      "[51]\tvalid-rmse:0.650611\n",
      "[52]\tvalid-rmse:0.650461\n",
      "[53]\tvalid-rmse:0.650469\n",
      "[54]\tvalid-rmse:0.650627\n",
      "[55]\tvalid-rmse:0.650622\n",
      "[56]\tvalid-rmse:0.650786\n",
      "Stopping. Best iteration:\n",
      "[46]\tvalid-rmse:0.650321\n",
      "\n",
      "time: 4min 37s\n"
     ]
    }
   ],
   "source": [
    "#Model\n",
    "param = {'max_depth':12,\n",
    "         'eta':0.05, # learning rate\n",
    "         'gamma':2,\n",
    "         'min_child_weight':10,\n",
    "         'objective':'reg:squarederror',\n",
    "         'eval_metric': 'rmse' ,\n",
    "         'colsample_bytree': 0.6}\n",
    "\n",
    "watchlist  = [(xg_valid, 'valid')]\n",
    "num_round = 1000\n",
    "\n",
    "xgm = xgb.train(param, xg_train, num_round, evals = watchlist, early_stopping_rounds=10)"
   ]
  },
  {
   "cell_type": "code",
   "execution_count": 252,
   "metadata": {
    "hidden": true
   },
   "outputs": [
    {
     "data": {
      "text/plain": [
       "<matplotlib.axes._subplots.AxesSubplot at 0x7f7d5e8f7748>"
      ]
     },
     "execution_count": 252,
     "metadata": {},
     "output_type": "execute_result"
    },
    {
     "data": {
      "image/png": "[encoded data removed]",
      "text/plain": [
       "<Figure size 1440x3600 with 1 Axes>"
      ]
     },
     "metadata": {
      "needs_background": "light"
     },
     "output_type": "display_data"
    },
    {
     "name": "stdout",
     "output_type": "stream",
     "text": [
      "time: 5.45 s\n"
     ]
    }
   ],
   "source": [
    "my_plot_importance(xgm,(20,50),importance_type='gain')"
   ]
  },
  {
   "cell_type": "code",
   "execution_count": 253,
   "metadata": {
    "hidden": true
   },
   "outputs": [
    {
     "data": {
      "text/plain": [
       "0.6507867093607934"
      ]
     },
     "execution_count": 253,
     "metadata": {},
     "output_type": "execute_result"
    },
    {
     "name": "stdout",
     "output_type": "stream",
     "text": [
      "time: 13.5 ms\n"
     ]
    }
   ],
   "source": [
    "#RMSE in validation data\n",
    "rmse(xgm.predict(xg_valid),y_valid.values.ravel())"
   ]
  },
  {
   "cell_type": "code",
   "execution_count": 254,
   "metadata": {
    "hidden": true
   },
   "outputs": [
    {
     "data": {
      "text/plain": [
       "0.5321633292762353"
      ]
     },
     "execution_count": 254,
     "metadata": {},
     "output_type": "execute_result"
    },
    {
     "name": "stdout",
     "output_type": "stream",
     "text": [
      "time: 16.5 ms\n"
     ]
    }
   ],
   "source": [
    "#RMSE in train data\n",
    "rmse(xgm.predict(xg_train),y_train.values.ravel())"
   ]
  },
  {
   "cell_type": "code",
   "execution_count": 255,
   "metadata": {
    "hidden": true
   },
   "outputs": [
    {
     "data": {
      "text/plain": [
       "<matplotlib.axes._subplots.AxesSubplot at 0x7f7d45b165f8>"
      ]
     },
     "execution_count": 255,
     "metadata": {},
     "output_type": "execute_result"
    },
    {
     "data": {
      "image/png": "[encoded data removed]",
      "text/plain": [
       "<Figure size 432x288 with 1 Axes>"
      ]
     },
     "metadata": {
      "needs_background": "light"
     },
     "output_type": "display_data"
    },
    {
     "name": "stdout",
     "output_type": "stream",
     "text": [
      "time: 452 ms\n"
     ]
    }
   ],
   "source": [
    "valid_predictions = xgm.predict(xg_valid)\n",
    "valid_predictions = valid >> mutate(item_cnt_day_predicted = valid_predictions) >> \\\n",
    "mutate(errors = (X.item_cnt_day_sum - X.item_cnt_day_predicted))\n",
    "\n",
    "vp = valid_predictions\n",
    "\n",
    "sns.distplot(vp.item_cnt_day_sum - vp.item_cnt_day_predicted)"
   ]
  },
  {
   "cell_type": "markdown",
   "metadata": {
    "heading_collapsed": true
   },
   "source": [
    "### Submission"
   ]
  },
  {
   "cell_type": "markdown",
   "metadata": {
    "heading_collapsed": true,
    "hidden": true
   },
   "source": [
    "#### XGBoost"
   ]
  },
  {
   "cell_type": "code",
   "execution_count": 256,
   "metadata": {
    "hidden": true
   },
   "outputs": [
    {
     "data": {
      "text/plain": [
       "(214200,)"
      ]
     },
     "execution_count": 256,
     "metadata": {},
     "output_type": "execute_result"
    },
    {
     "name": "stdout",
     "output_type": "stream",
     "text": [
      "time: 322 ms\n"
     ]
    }
   ],
   "source": [
    "test_predictions = xgm.predict(xg_test)\n",
    "test_predictions.shape"
   ]
  },
  {
   "cell_type": "code",
   "execution_count": 257,
   "metadata": {
    "hidden": true
   },
   "outputs": [
    {
     "name": "stdout",
     "output_type": "stream",
     "text": [
      "time: 10.3 ms\n"
     ]
    }
   ],
   "source": [
    "test_submission = save_test >> mutate(item_cnt_month = test_predictions) >> drop(X.item_id,X.shop_id)"
   ]
  },
  {
   "cell_type": "code",
   "execution_count": 258,
   "metadata": {
    "hidden": true
   },
   "outputs": [
    {
     "name": "stdout",
     "output_type": "stream",
     "text": [
      "time: 1.87 s\n"
     ]
    }
   ],
   "source": [
    "test_submission.to_csv('data/submission__xgb_v5.csv', index=False)"
   ]
  },
  {
   "cell_type": "markdown",
   "metadata": {
    "collapsed": true,
    "heading_collapsed": true
   },
   "source": [
    "### Unit tests"
   ]
  },
  {
   "cell_type": "code",
   "execution_count": null,
   "metadata": {
    "hidden": true
   },
   "outputs": [],
   "source": []
  }
 ],
 "metadata": {
  "kernelspec": {
   "display_name": "Python 3 (General DS)",
   "language": "python",
   "name": "python3"
  },
  "language_info": {
   "codemirror_mode": {
    "name": "ipython",
    "version": 3
   },
   "file_extension": ".py",
   "mimetype": "text/x-python",
   "name": "python",
   "nbconvert_exporter": "python",
   "pygments_lexer": "ipython3",
   "version": "3.6.4"
  }
 },
 "nbformat": 4,
 "nbformat_minor": 2
}
