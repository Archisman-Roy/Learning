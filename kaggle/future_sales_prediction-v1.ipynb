{
 "cells": [
  {
   "cell_type": "markdown",
   "metadata": {
    "heading_collapsed": true
   },
   "source": [
    "### Relevant links"
   ]
  },
  {
   "cell_type": "markdown",
   "metadata": {
    "hidden": true
   },
   "source": [
    "https://www.kaggle.com/c/competitive-data-science-predict-future-sales\n",
    "\n",
    "\n",
    "Also in this notebook, I am trying to change how features are generated in the v0 version, Here I will not fix the training month to only one month but rather use all data points and take lags. Will take out of time sample as a validation dataset but training will have data from any number of months"
   ]
  },
  {
   "cell_type": "markdown",
   "metadata": {
    "heading_collapsed": true
   },
   "source": [
    "### Imports"
   ]
  },
  {
   "cell_type": "code",
   "execution_count": 2,
   "metadata": {
    "hidden": true
   },
   "outputs": [
    {
     "name": "stdout",
     "output_type": "stream",
     "text": [
      "The autotime extension is already loaded. To reload it, use:\n",
      "  %reload_ext autotime\n",
      "time: 147 ms\n"
     ]
    }
   ],
   "source": [
    "%reload_ext autoreload\n",
    "%autoreload 2\n",
    "%matplotlib inline \n",
    "%load_ext autotime"
   ]
  },
  {
   "cell_type": "code",
   "execution_count": 1,
   "metadata": {
    "hidden": true
   },
   "outputs": [],
   "source": [
    "from scripts.imports import *\n",
    "import scripts.kaggle_data as kd\n",
    "from scripts.utility import *\n",
    "from scripts.utility_v1 import *"
   ]
  },
  {
   "cell_type": "code",
   "execution_count": 4,
   "metadata": {
    "hidden": true
   },
   "outputs": [
    {
     "name": "stdout",
     "output_type": "stream",
     "text": [
      "time: 25 ms\n"
     ]
    }
   ],
   "source": [
    "pd.options.display.max_rows = 4000\n",
    "pd.set_option('display.max_columns', 999)\n",
    "pd.options.mode.chained_assignment = None"
   ]
  },
  {
   "cell_type": "markdown",
   "metadata": {
    "heading_collapsed": true
   },
   "source": [
    "### Getting data"
   ]
  },
  {
   "cell_type": "code",
   "execution_count": null,
   "metadata": {
    "hidden": true
   },
   "outputs": [],
   "source": [
    "current_path = os.getcwd()\n",
    "data_dir_path = os.path.join(current_path,\"data\")\n",
    "\n",
    "if not os.path.exists(data_dir_path):\n",
    "    os.mkdir(data_dir_path)\n",
    "\n",
    "print(data_dir_path) #Never print"
   ]
  },
  {
   "cell_type": "code",
   "execution_count": null,
   "metadata": {
    "hidden": true
   },
   "outputs": [],
   "source": [
    "kd.download_data('competitive-data-science-predict-future-sales',current_path)"
   ]
  },
  {
   "cell_type": "code",
   "execution_count": 5,
   "metadata": {
    "hidden": true
   },
   "outputs": [
    {
     "data": {
      "text/plain": [
       "['shops',\n",
       " 'items',\n",
       " 'submission_v1',\n",
       " 'item_categories',\n",
       " 'sales_train',\n",
       " 'sample_submission',\n",
       " 'test']"
      ]
     },
     "execution_count": 5,
     "metadata": {},
     "output_type": "execute_result"
    },
    {
     "name": "stdout",
     "output_type": "stream",
     "text": [
      "time: 154 ms\n"
     ]
    }
   ],
   "source": [
    "#Listify files to download\n",
    "all_data_files = os.listdir('data/') #Getting all files in data folder in a list\n",
    "all_data_files = [x for x in all_data_files if x.endswith('.csv')] #Removing .ipynb files\n",
    "all_data_files = [remove_from_right(x,4) for x in all_data_files] #Removing .csvs\n",
    "all_data_files"
   ]
  },
  {
   "cell_type": "code",
   "execution_count": 6,
   "metadata": {
    "hidden": true
   },
   "outputs": [
    {
     "name": "stdout",
     "output_type": "stream",
     "text": [
      "shops=kd.read_data('data/','csv','shops')\n",
      "\n",
      "Shape of shops:  (60, 2)\n",
      "\n",
      "Data types in shops: \n",
      " \n",
      "  shop_name    object\n",
      "shop_id       int64\n",
      "dtype: object\n",
      "---------------------\n",
      "items=kd.read_data('data/','csv','items')\n",
      "\n",
      "Shape of items:  (22170, 3)\n",
      "\n",
      "Data types in items: \n",
      " \n",
      "  item_name           object\n",
      "item_id              int64\n",
      "item_category_id     int64\n",
      "dtype: object\n",
      "---------------------\n",
      "submission_v1=kd.read_data('data/','csv','submission_v1')\n",
      "\n",
      "Shape of submission_v1:  (214200, 2)\n",
      "\n",
      "Data types in submission_v1: \n",
      " \n",
      "  ID                  int64\n",
      "item_cnt_month    float64\n",
      "dtype: object\n",
      "---------------------\n",
      "item_categories=kd.read_data('data/','csv','item_categories')\n",
      "\n",
      "Shape of item_categories:  (84, 2)\n",
      "\n",
      "Data types in item_categories: \n",
      " \n",
      "  item_category_name    object\n",
      "item_category_id       int64\n",
      "dtype: object\n",
      "---------------------\n",
      "sales_train=kd.read_data('data/','csv','sales_train')\n",
      "\n",
      "Shape of sales_train:  (2935849, 6)\n",
      "\n",
      "Data types in sales_train: \n",
      " \n",
      "  date               object\n",
      "date_block_num      int64\n",
      "shop_id             int64\n",
      "item_id             int64\n",
      "item_price        float64\n",
      "item_cnt_day      float64\n",
      "dtype: object\n",
      "---------------------\n",
      "sample_submission=kd.read_data('data/','csv','sample_submission')\n",
      "\n",
      "Shape of sample_submission:  (214200, 2)\n",
      "\n",
      "Data types in sample_submission: \n",
      " \n",
      "  ID                  int64\n",
      "item_cnt_month    float64\n",
      "dtype: object\n",
      "---------------------\n",
      "test=kd.read_data('data/','csv','test')\n",
      "\n",
      "Shape of test:  (214200, 3)\n",
      "\n",
      "Data types in test: \n",
      " \n",
      "  ID         int64\n",
      "shop_id    int64\n",
      "item_id    int64\n",
      "dtype: object\n",
      "---------------------\n",
      "time: 2.46 s\n"
     ]
    }
   ],
   "source": [
    "for i in all_data_files:\n",
    "    print(i + \"=\" + f\"kd.read_data('data/','csv','{i}')\")\n",
    "    print(\"\")\n",
    "    exec(i + \"=\" + f\"kd.read_data('data/','csv','{i}')\")\n",
    "    exec(f\"shape = {i}.shape\")\n",
    "    print(f\"Shape of {i}: \", shape)\n",
    "    exec(f\"data_types = {i}.dtypes\")\n",
    "    print(\"\")\n",
    "    print(f\"Data types in {i}: \\n \\n \", data_types)\n",
    "    print(\"---------------------\")"
   ]
  },
  {
   "cell_type": "code",
   "execution_count": 7,
   "metadata": {
    "hidden": true
   },
   "outputs": [
    {
     "name": "stdout",
     "output_type": "stream",
     "text": [
      "time: 18 ms\n"
     ]
    }
   ],
   "source": [
    "save_test = test"
   ]
  },
  {
   "cell_type": "markdown",
   "metadata": {
    "heading_collapsed": true
   },
   "source": [
    "### Testing data"
   ]
  },
  {
   "cell_type": "markdown",
   "metadata": {
    "heading_collapsed": true,
    "hidden": true
   },
   "source": [
    "#### Structural checks"
   ]
  },
  {
   "cell_type": "code",
   "execution_count": null,
   "metadata": {
    "hidden": true
   },
   "outputs": [],
   "source": [
    "#Unique data values\n",
    "#sales_train >> \\\n",
    "#select(X.date,X.date_block_num) >> \\\n",
    "#distinct(X.date,X.date_block_num) >> \\\n",
    "#arrange(X.date_block_num, ascending = True) \n",
    "\n",
    "#Finding\n",
    "#We have daily sales data as well"
   ]
  },
  {
   "cell_type": "code",
   "execution_count": null,
   "metadata": {
    "hidden": true
   },
   "outputs": [],
   "source": [
    "#Check for missing value in train data\n",
    "#for k in sales_train.columns:\n",
    "    #display_all(sales_train >> summarise_each([null_percent],k))"
   ]
  },
  {
   "cell_type": "markdown",
   "metadata": {
    "heading_collapsed": true,
    "hidden": true
   },
   "source": [
    "#### See headers of all data"
   ]
  },
  {
   "cell_type": "code",
   "execution_count": null,
   "metadata": {
    "hidden": true
   },
   "outputs": [],
   "source": [
    "sales_train >> head"
   ]
  },
  {
   "cell_type": "code",
   "execution_count": null,
   "metadata": {
    "hidden": true
   },
   "outputs": [],
   "source": [
    "shops >> head"
   ]
  },
  {
   "cell_type": "code",
   "execution_count": null,
   "metadata": {
    "hidden": true
   },
   "outputs": [],
   "source": [
    "items >> head"
   ]
  },
  {
   "cell_type": "code",
   "execution_count": null,
   "metadata": {
    "hidden": true
   },
   "outputs": [],
   "source": [
    "item_categories >> head"
   ]
  },
  {
   "cell_type": "code",
   "execution_count": null,
   "metadata": {
    "hidden": true
   },
   "outputs": [],
   "source": [
    "test >> head"
   ]
  },
  {
   "cell_type": "markdown",
   "metadata": {
    "heading_collapsed": true
   },
   "source": [
    "### Feature engineering"
   ]
  },
  {
   "cell_type": "markdown",
   "metadata": {
    "heading_collapsed": true,
    "hidden": true
   },
   "source": [
    "#### Create features"
   ]
  },
  {
   "cell_type": "code",
   "execution_count": 8,
   "metadata": {
    "hidden": true
   },
   "outputs": [
    {
     "name": "stdout",
     "output_type": "stream",
     "text": [
      "time: 10.3 s\n"
     ]
    }
   ],
   "source": [
    "# Add dates to training data\n",
    "sales_train = add_datepart(df = sales_train, custom_date_format = '%d.%m.%Y',field_name = 'date', drop = False)\n",
    "#Assignment is done to avoid printing the dataframe\n",
    "raw_data = sales_train"
   ]
  },
  {
   "cell_type": "code",
   "execution_count": 148,
   "metadata": {
    "hidden": true
   },
   "outputs": [
    {
     "name": "stdout",
     "output_type": "stream",
     "text": [
      "time: 4.46 s\n"
     ]
    }
   ],
   "source": [
    "raw_data = raw_data >> mutate(item_id = X.item_id.astype(str), shop_id = X.shop_id.astype(str)) >> \\\n",
    "mutate(item_cnt_day = if_else(X.item_cnt_day < 0, 0, X.item_cnt_day),\n",
    "      item_cnt_day_return = if_else(X.item_cnt_day < 0, -X.item_cnt_day,0))"
   ]
  },
  {
   "cell_type": "code",
   "execution_count": 151,
   "metadata": {
    "hidden": true
   },
   "outputs": [
    {
     "name": "stdout",
     "output_type": "stream",
     "text": [
      "time: 31.1 ms\n"
     ]
    }
   ],
   "source": [
    "#raw_data >> select(X.date_block_num,X.Month,X.Year) >> \\\n",
    "#distinct(X.date_block_num,X.Month,X.Year) >> arrange(X.date_block_num)\n",
    "#Will use date block num as a unique month idetifier from now on"
   ]
  },
  {
   "cell_type": "code",
   "execution_count": 213,
   "metadata": {
    "hidden": true
   },
   "outputs": [
    {
     "name": "stdout",
     "output_type": "stream",
     "text": [
      "time: 10.4 s\n"
     ]
    }
   ],
   "source": [
    "#Compute monthly metrics\n",
    "#Price changes \n",
    "#number of purchases\n",
    "#Translate everything daily to monthly\n",
    "\n",
    "raw_data_month = raw_data >> mask((X.date_block_num >= train_month -32) & (X.date_block_num <= train_month) ) >> \\\n",
    "mutate(date_flag = if_else(X.date_block_num == train_month,'y','x'))"
   ]
  },
  {
   "cell_type": "code",
   "execution_count": 214,
   "metadata": {
    "hidden": true
   },
   "outputs": [
    {
     "name": "stdout",
     "output_type": "stream",
     "text": [
      "(417004, 4)\n",
      "(408799, 4)\n",
      "(214200, 3)\n",
      "time: 6.78 s\n"
     ]
    }
   ],
   "source": [
    "#Start creating lag variables for everything and then merge with test data to attach the features"
   ]
  },
  {
   "cell_type": "code",
   "execution_count": 2,
   "metadata": {
    "hidden": true
   },
   "outputs": [],
   "source": [
    "#Create new features from the lag features"
   ]
  },
  {
   "cell_type": "code",
   "execution_count": 218,
   "metadata": {
    "hidden": true
   },
   "outputs": [
    {
     "name": "stdout",
     "output_type": "stream",
     "text": [
      "time: 1min 24s\n"
     ]
    }
   ],
   "source": [
    "#Add item presence (Think how to add lag varables for this)"
   ]
  },
  {
   "cell_type": "code",
   "execution_count": 3,
   "metadata": {
    "hidden": true
   },
   "outputs": [],
   "source": [
    "#Item category size at each time point"
   ]
  },
  {
   "cell_type": "code",
   "execution_count": 4,
   "metadata": {
    "hidden": true
   },
   "outputs": [],
   "source": [
    "#Now generate train, valid and test DFs"
   ]
  },
  {
   "cell_type": "markdown",
   "metadata": {
    "heading_collapsed": true
   },
   "source": [
    "### EDA"
   ]
  },
  {
   "cell_type": "markdown",
   "metadata": {
    "heading_collapsed": true,
    "hidden": true
   },
   "source": [
    "#### Check distribution"
   ]
  },
  {
   "cell_type": "code",
   "execution_count": 163,
   "metadata": {
    "hidden": true
   },
   "outputs": [
    {
     "name": "stdout",
     "output_type": "stream",
     "text": [
      "time: 3.84 s\n"
     ]
    }
   ],
   "source": [
    "check = dd_summarise(raw_data,['date_block_num','item_id','shop_id'],'item_cnt_day','sum')"
   ]
  },
  {
   "cell_type": "code",
   "execution_count": 167,
   "metadata": {
    "hidden": true
   },
   "outputs": [
    {
     "data": {
      "text/plain": [
       "0.0071312092790860124"
      ]
     },
     "execution_count": 167,
     "metadata": {},
     "output_type": "execute_result"
    },
    {
     "name": "stdout",
     "output_type": "stream",
     "text": [
      "time: 28 ms\n"
     ]
    }
   ],
   "source": [
    "check[check.item_cnt_day > 20].shape[0]/check.shape[0]"
   ]
  },
  {
   "cell_type": "code",
   "execution_count": 228,
   "metadata": {
    "hidden": true
   },
   "outputs": [
    {
     "data": {
      "text/plain": [
       "<matplotlib.axes._subplots.AxesSubplot at 0x7fb5f7764f98>"
      ]
     },
     "execution_count": 228,
     "metadata": {},
     "output_type": "execute_result"
    },
    {
     "data": {
      "image/png": "[encoded data removed]",
      "text/plain": [
       "<Figure size 432x288 with 1 Axes>"
      ]
     },
     "metadata": {
      "needs_background": "light"
     },
     "output_type": "display_data"
    },
    {
     "name": "stdout",
     "output_type": "stream",
     "text": [
      "time: 735 ms\n"
     ]
    }
   ],
   "source": [
    "sns.distplot(check.item_cnt_day[check.item_cnt_day>0])"
   ]
  },
  {
   "cell_type": "markdown",
   "metadata": {
    "heading_collapsed": true
   },
   "source": [
    "### Modelling"
   ]
  },
  {
   "cell_type": "markdown",
   "metadata": {
    "heading_collapsed": true,
    "hidden": true
   },
   "source": [
    "#### Xgboost"
   ]
  },
  {
   "cell_type": "code",
   "execution_count": 301,
   "metadata": {
    "hidden": true
   },
   "outputs": [
    {
     "name": "stdout",
     "output_type": "stream",
     "text": [
      "Shape of training data:  (417004, 91)\n",
      "Shape of validation data:  (408799, 91)\n",
      "Shape of test data:  (214200, 91)\n",
      "time: 3.14 s\n"
     ]
    }
   ],
   "source": [
    "##data preparation\n",
    "ind_columns = train.columns.to_list()\n",
    "\n",
    "list_to_remove = ['shop_id','item_id','item_cnt_day']\n",
    "ind_columns = remove_elements(ind_columns, list_to_remove )\n",
    "\n",
    "dep_coloumns = [\"item_cnt_day\"]\n",
    "\n",
    "cont_vars = train.head(5).select_dtypes(include= [np.number]).columns.to_list()\n",
    "cont_vars = remove_elements(cont_vars, ['item_cnt_day'])\n",
    "\n",
    "cat_vars = train.head(5).select_dtypes(include= [object]).columns.to_list()\n",
    "list_to_remove = ['shop_id','item_id']\n",
    "\n",
    "cat_vars = remove_elements(cat_vars, list_to_remove)\n",
    "\n",
    "train_sampled = train #>> sample(50000)\n",
    "\n",
    "x_train = train_sampled[ind_columns]\n",
    "y_train = train_sampled[dep_coloumns]\n",
    "\n",
    "x_test = test[ind_columns]\n",
    "\n",
    "x_valid = valid[ind_columns]\n",
    "y_valid = valid[dep_coloumns]\n",
    "\n",
    "print(\"Shape of training data: \", x_train.shape)\n",
    "print(\"Shape of validation data: \", x_valid.shape)\n",
    "print(\"Shape of test data: \", x_test.shape)\n",
    "\n",
    "xg_train = xgb.DMatrix(x_train, label = y_train)\n",
    "xg_test = xgb.DMatrix(x_test)\n",
    "xg_valid = xgb.DMatrix(x_valid, label = y_valid)"
   ]
  },
  {
   "cell_type": "code",
   "execution_count": 5,
   "metadata": {
    "hidden": true
   },
   "outputs": [],
   "source": [
    "# #Model\n",
    "# param = {'max_depth':8,\n",
    "#          'eta':0.05, # learning rate\n",
    "#          'gamma':2,\n",
    "#          'min_child_weight':10,\n",
    "#          'objective':'reg:squarederror',\n",
    "#          'eval_metric': 'rmse' ,\n",
    "#          'colsample_bytree': 0.6}\n",
    "\n",
    "# watchlist  = [(xg_valid, 'valid')]\n",
    "# num_round = 1000\n",
    "\n",
    "# xgm = xgb.train(param, xg_train, num_round, evals = watchlist, early_stopping_rounds=10)"
   ]
  },
  {
   "cell_type": "code",
   "execution_count": 6,
   "metadata": {
    "hidden": true
   },
   "outputs": [],
   "source": [
    "#my_plot_importance(xgm,(20,50),importance_type='gain')"
   ]
  },
  {
   "cell_type": "code",
   "execution_count": 7,
   "metadata": {
    "hidden": true
   },
   "outputs": [],
   "source": [
    "#RMSE in validation data\n",
    "#rmse(xgm.predict(xg_valid),y_valid.values.ravel())"
   ]
  },
  {
   "cell_type": "code",
   "execution_count": 8,
   "metadata": {
    "hidden": true
   },
   "outputs": [],
   "source": [
    "#RMSE in train data\n",
    "#rmse(xgm.predict(xg_train),y_train.values.ravel())"
   ]
  },
  {
   "cell_type": "code",
   "execution_count": 9,
   "metadata": {
    "hidden": true
   },
   "outputs": [],
   "source": [
    "# valid_predictions = xgm.predict(xg_valid)\n",
    "# valid_predictions = valid >> mutate(item_cnt_day_predicted = valid_predictions) >> \\\n",
    "# mutate(errors = (X.item_cnt_day - X.item_cnt_day_predicted))\n",
    "\n",
    "# vp = valid_predictions\n",
    "\n",
    "# sns.distplot(vp.item_cnt_day - vp.item_cnt_day_predicted)"
   ]
  },
  {
   "cell_type": "markdown",
   "metadata": {
    "heading_collapsed": true
   },
   "source": [
    "### Submission"
   ]
  },
  {
   "cell_type": "markdown",
   "metadata": {
    "heading_collapsed": true,
    "hidden": true
   },
   "source": [
    "#### XGBoost"
   ]
  },
  {
   "cell_type": "code",
   "execution_count": 306,
   "metadata": {
    "hidden": true
   },
   "outputs": [
    {
     "data": {
      "text/plain": [
       "(214200,)"
      ]
     },
     "execution_count": 306,
     "metadata": {},
     "output_type": "execute_result"
    },
    {
     "name": "stdout",
     "output_type": "stream",
     "text": [
      "time: 214 ms\n"
     ]
    }
   ],
   "source": [
    "test_predictions = xgm.predict(xg_test)\n",
    "test_predictions.shape"
   ]
  },
  {
   "cell_type": "code",
   "execution_count": 307,
   "metadata": {
    "hidden": true
   },
   "outputs": [
    {
     "name": "stdout",
     "output_type": "stream",
     "text": [
      "time: 45.1 ms\n"
     ]
    }
   ],
   "source": [
    "test_submission = save_test >> mutate(item_cnt_day = test_predictions)\n",
    "test_submission = test_submission >> rename(item_cnt_month = X.item_cnt_day) >> drop(X.item_id,X.shop_id)"
   ]
  },
  {
   "cell_type": "code",
   "execution_count": 10,
   "metadata": {
    "hidden": true
   },
   "outputs": [],
   "source": [
    "#test_submission.to_csv('data/submission__xgb_vx.csv', index=False)"
   ]
  },
  {
   "cell_type": "markdown",
   "metadata": {
    "collapsed": true,
    "heading_collapsed": true
   },
   "source": [
    "### Unit tests"
   ]
  },
  {
   "cell_type": "code",
   "execution_count": null,
   "metadata": {
    "hidden": true
   },
   "outputs": [],
   "source": []
  }
 ],
 "metadata": {
  "kernelspec": {
   "display_name": "Python 3 (General DS)",
   "language": "python",
   "name": "python3"
  },
  "language_info": {
   "codemirror_mode": {
    "name": "ipython",
    "version": 3
   },
   "file_extension": ".py",
   "mimetype": "text/x-python",
   "name": "python",
   "nbconvert_exporter": "python",
   "pygments_lexer": "ipython3",
   "version": "3.6.4"
  }
 },
 "nbformat": 4,
 "nbformat_minor": 2
}
