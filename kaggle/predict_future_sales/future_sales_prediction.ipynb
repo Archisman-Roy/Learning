{
 "cells": [
  {
   "cell_type": "markdown",
   "metadata": {
    "heading_collapsed": true
   },
   "source": [
    "### Relevant links"
   ]
  },
  {
   "cell_type": "markdown",
   "metadata": {
    "hidden": true
   },
   "source": [
    "https://www.kaggle.com/c/competitive-data-science-predict-future-sales"
   ]
  },
  {
   "cell_type": "markdown",
   "metadata": {
    "heading_collapsed": true
   },
   "source": [
    "### Imports"
   ]
  },
  {
   "cell_type": "code",
   "execution_count": 1,
   "metadata": {
    "hidden": true
   },
   "outputs": [],
   "source": [
    "%reload_ext autoreload\n",
    "%autoreload 2\n",
    "%matplotlib inline \n",
    "%load_ext autotime"
   ]
  },
  {
   "cell_type": "code",
   "execution_count": 2,
   "metadata": {
    "hidden": true
   },
   "outputs": [
    {
     "name": "stdout",
     "output_type": "stream",
     "text": [
      "time: 4.36 s\n"
     ]
    }
   ],
   "source": [
    "from scripts.imports import * #XGboost should be loaded in the beginning to avoid errors\n",
    "import scripts.kaggle_data as kd\n",
    "\n",
    "from toolbox import *\n",
    "from scripts.future_sales_prediction_custom import *"
   ]
  },
  {
   "cell_type": "code",
   "execution_count": 3,
   "metadata": {
    "hidden": true
   },
   "outputs": [
    {
     "name": "stdout",
     "output_type": "stream",
     "text": [
      "time: 1.57 ms\n"
     ]
    }
   ],
   "source": [
    "pd.options.display.max_rows = 4000\n",
    "pd.set_option('display.max_columns', 999)\n",
    "pd.options.mode.chained_assignment = None"
   ]
  },
  {
   "cell_type": "markdown",
   "metadata": {
    "heading_collapsed": true
   },
   "source": [
    "### Getting data"
   ]
  },
  {
   "cell_type": "code",
   "execution_count": null,
   "metadata": {
    "hidden": true
   },
   "outputs": [],
   "source": [
    "current_path = os.getcwd()\n",
    "data_dir_path = os.path.join(current_path,\"data\")\n",
    "\n",
    "if not os.path.exists(data_dir_path):\n",
    "    os.mkdir(data_dir_path)\n",
    "\n",
    "print(data_dir_path) #Never print"
   ]
  },
  {
   "cell_type": "code",
   "execution_count": null,
   "metadata": {
    "hidden": true
   },
   "outputs": [],
   "source": [
    "kd.download_data('competitive-data-science-predict-future-sales',current_path)"
   ]
  },
  {
   "cell_type": "code",
   "execution_count": 4,
   "metadata": {
    "hidden": true
   },
   "outputs": [
    {
     "data": {
      "text/plain": [
       "['shops',\n",
       " 'items',\n",
       " 'item_categories',\n",
       " 'sales_train',\n",
       " 'sample_submission',\n",
       " 'test']"
      ]
     },
     "execution_count": 4,
     "metadata": {},
     "output_type": "execute_result"
    },
    {
     "name": "stdout",
     "output_type": "stream",
     "text": [
      "time: 134 ms\n"
     ]
    }
   ],
   "source": [
    "#Listify files to download\n",
    "all_data_files = os.listdir('data/') #Getting all files in data folder in a list\n",
    "all_data_files = [x for x in all_data_files if x.endswith('.csv')] #Removing .ipynb files\n",
    "all_data_files = [remove_from_right(x,4) for x in all_data_files] #Removing .csvs\n",
    "all_data_files"
   ]
  },
  {
   "cell_type": "code",
   "execution_count": 122,
   "metadata": {
    "hidden": true
   },
   "outputs": [
    {
     "name": "stdout",
     "output_type": "stream",
     "text": [
      "shops=kd.read_data('data/','csv','shops')\n",
      "\n",
      "Shape of shops:  (60, 2)\n",
      "\n",
      "Data types in shops: \n",
      " \n",
      "  shop_name    object\n",
      "shop_id       int64\n",
      "dtype: object\n",
      "---------------------\n",
      "items=kd.read_data('data/','csv','items')\n",
      "\n",
      "Shape of items:  (22170, 3)\n",
      "\n",
      "Data types in items: \n",
      " \n",
      "  item_name           object\n",
      "item_id              int64\n",
      "item_category_id     int64\n",
      "dtype: object\n",
      "---------------------\n",
      "item_categories=kd.read_data('data/','csv','item_categories')\n",
      "\n",
      "Shape of item_categories:  (84, 2)\n",
      "\n",
      "Data types in item_categories: \n",
      " \n",
      "  item_category_name    object\n",
      "item_category_id       int64\n",
      "dtype: object\n",
      "---------------------\n",
      "sales_train=kd.read_data('data/','csv','sales_train')\n",
      "\n",
      "Shape of sales_train:  (2935849, 6)\n",
      "\n",
      "Data types in sales_train: \n",
      " \n",
      "  date               object\n",
      "date_block_num      int64\n",
      "shop_id             int64\n",
      "item_id             int64\n",
      "item_price        float64\n",
      "item_cnt_day      float64\n",
      "dtype: object\n",
      "---------------------\n",
      "sample_submission=kd.read_data('data/','csv','sample_submission')\n",
      "\n",
      "Shape of sample_submission:  (214200, 2)\n",
      "\n",
      "Data types in sample_submission: \n",
      " \n",
      "  ID                  int64\n",
      "item_cnt_month    float64\n",
      "dtype: object\n",
      "---------------------\n",
      "test=kd.read_data('data/','csv','test')\n",
      "\n",
      "Shape of test:  (214200, 3)\n",
      "\n",
      "Data types in test: \n",
      " \n",
      "  ID         int64\n",
      "shop_id    int64\n",
      "item_id    int64\n",
      "dtype: object\n",
      "---------------------\n",
      "time: 2.42 s\n"
     ]
    }
   ],
   "source": [
    "for i in all_data_files:\n",
    "    print(i + \"=\" + f\"kd.read_data('data/','csv','{i}')\")\n",
    "    print(\"\")\n",
    "    exec(i + \"=\" + f\"kd.read_data('data/','csv','{i}')\")\n",
    "    exec(f\"shape = {i}.shape\")\n",
    "    print(f\"Shape of {i}: \", shape)\n",
    "    exec(f\"data_types = {i}.dtypes\")\n",
    "    print(\"\")\n",
    "    print(f\"Data types in {i}: \\n \\n \", data_types)\n",
    "    print(\"---------------------\")"
   ]
  },
  {
   "cell_type": "code",
   "execution_count": 123,
   "metadata": {
    "hidden": true
   },
   "outputs": [
    {
     "name": "stdout",
     "output_type": "stream",
     "text": [
      "time: 2.14 ms\n"
     ]
    }
   ],
   "source": [
    "test_for_submission = test.copy()"
   ]
  },
  {
   "cell_type": "markdown",
   "metadata": {
    "heading_collapsed": true
   },
   "source": [
    "### Testing data"
   ]
  },
  {
   "cell_type": "markdown",
   "metadata": {
    "heading_collapsed": true,
    "hidden": true
   },
   "source": [
    "#### Structural checks"
   ]
  },
  {
   "cell_type": "code",
   "execution_count": null,
   "metadata": {
    "hidden": true
   },
   "outputs": [],
   "source": [
    "#Unique data values\n",
    "#sales_train >> \\\n",
    "#select(X.date,X.date_block_num) >> \\\n",
    "#distinct(X.date,X.date_block_num) >> \\\n",
    "#arrange(X.date_block_num, ascending = True) \n",
    "\n",
    "#Finding\n",
    "#We have daily sales data as well"
   ]
  },
  {
   "cell_type": "code",
   "execution_count": null,
   "metadata": {
    "hidden": true
   },
   "outputs": [],
   "source": [
    "#Check for missing value in train data\n",
    "#for k in sales_train.columns:\n",
    "    #display_all(sales_train >> summarise_each([null_percent],k))"
   ]
  },
  {
   "cell_type": "markdown",
   "metadata": {
    "heading_collapsed": true,
    "hidden": true
   },
   "source": [
    "#### See headers of all data"
   ]
  },
  {
   "cell_type": "code",
   "execution_count": null,
   "metadata": {
    "hidden": true
   },
   "outputs": [],
   "source": [
    "sales_train >> head"
   ]
  },
  {
   "cell_type": "code",
   "execution_count": null,
   "metadata": {
    "hidden": true
   },
   "outputs": [],
   "source": [
    "shops >> head"
   ]
  },
  {
   "cell_type": "code",
   "execution_count": null,
   "metadata": {
    "hidden": true
   },
   "outputs": [],
   "source": [
    "items >> head"
   ]
  },
  {
   "cell_type": "code",
   "execution_count": null,
   "metadata": {
    "hidden": true
   },
   "outputs": [],
   "source": [
    "item_categories >> head"
   ]
  },
  {
   "cell_type": "code",
   "execution_count": null,
   "metadata": {
    "hidden": true
   },
   "outputs": [],
   "source": [
    "test >> head"
   ]
  },
  {
   "cell_type": "markdown",
   "metadata": {
    "heading_collapsed": true
   },
   "source": [
    "### Feature engineering"
   ]
  },
  {
   "cell_type": "markdown",
   "metadata": {
    "heading_collapsed": true,
    "hidden": true
   },
   "source": [
    "#### Create features"
   ]
  },
  {
   "cell_type": "code",
   "execution_count": 124,
   "metadata": {
    "hidden": true
   },
   "outputs": [
    {
     "name": "stdout",
     "output_type": "stream",
     "text": [
      "time: 4.21 s\n"
     ]
    }
   ],
   "source": [
    "# Add dates to training data\n",
    "raw_data = add_datepart(inp_df = sales_train, custom_date_format = '%d.%m.%Y',field_name = 'date', drop = False)"
   ]
  },
  {
   "cell_type": "code",
   "execution_count": 125,
   "metadata": {
    "hidden": true
   },
   "outputs": [
    {
     "data": {
      "text/html": [
       "<div>\n",
       "<style scoped>\n",
       "    .dataframe tbody tr th:only-of-type {\n",
       "        vertical-align: middle;\n",
       "    }\n",
       "\n",
       "    .dataframe tbody tr th {\n",
       "        vertical-align: top;\n",
       "    }\n",
       "\n",
       "    .dataframe thead th {\n",
       "        text-align: right;\n",
       "    }\n",
       "</style>\n",
       "<table border=\"1\" class=\"dataframe\">\n",
       "  <thead>\n",
       "    <tr style=\"text-align: right;\">\n",
       "      <th></th>\n",
       "      <th>date</th>\n",
       "      <th>date_block_num</th>\n",
       "      <th>shop_id</th>\n",
       "      <th>item_id</th>\n",
       "      <th>item_price</th>\n",
       "      <th>item_cnt_day</th>\n",
       "      <th>date_original</th>\n",
       "      <th>Year</th>\n",
       "      <th>Month</th>\n",
       "      <th>Week</th>\n",
       "      <th>Day</th>\n",
       "      <th>Dayofweek</th>\n",
       "      <th>Dayofyear</th>\n",
       "      <th>Is_month_end</th>\n",
       "      <th>Is_month_start</th>\n",
       "      <th>Is_quarter_end</th>\n",
       "      <th>Is_quarter_start</th>\n",
       "      <th>Is_year_end</th>\n",
       "      <th>Is_year_start</th>\n",
       "      <th>Elapsed</th>\n",
       "    </tr>\n",
       "  </thead>\n",
       "  <tbody>\n",
       "    <tr>\n",
       "      <th>484683</th>\n",
       "      <td>2013-05-15</td>\n",
       "      <td>4</td>\n",
       "      <td>32</td>\n",
       "      <td>2973</td>\n",
       "      <td>-1.0</td>\n",
       "      <td>1.0</td>\n",
       "      <td>15.05.2013</td>\n",
       "      <td>2013</td>\n",
       "      <td>5</td>\n",
       "      <td>20</td>\n",
       "      <td>15</td>\n",
       "      <td>2</td>\n",
       "      <td>135</td>\n",
       "      <td>False</td>\n",
       "      <td>False</td>\n",
       "      <td>False</td>\n",
       "      <td>False</td>\n",
       "      <td>False</td>\n",
       "      <td>False</td>\n",
       "      <td>1368576000</td>\n",
       "    </tr>\n",
       "  </tbody>\n",
       "</table>\n",
       "</div>"
      ],
      "text/plain": [
       "             date  date_block_num  shop_id  item_id  item_price  item_cnt_day  \\\n",
       "484683 2013-05-15               4       32     2973        -1.0           1.0   \n",
       "\n",
       "       date_original  Year  Month  Week  Day  Dayofweek  Dayofyear  \\\n",
       "484683    15.05.2013  2013      5    20   15          2        135   \n",
       "\n",
       "        Is_month_end  Is_month_start  Is_quarter_end  Is_quarter_start  \\\n",
       "484683         False           False           False             False   \n",
       "\n",
       "        Is_year_end  Is_year_start     Elapsed  \n",
       "484683        False          False  1368576000  "
      ]
     },
     "execution_count": 125,
     "metadata": {},
     "output_type": "execute_result"
    },
    {
     "name": "stdout",
     "output_type": "stream",
     "text": [
      "time: 350 ms\n"
     ]
    }
   ],
   "source": [
    "#Negative price\n",
    "raw_data.loc[raw_data.item_price<0]"
   ]
  },
  {
   "cell_type": "code",
   "execution_count": 126,
   "metadata": {
    "hidden": true
   },
   "outputs": [
    {
     "name": "stdout",
     "output_type": "stream",
     "text": [
      "The median is:  1874.0\n",
      "time: 230 ms\n"
     ]
    }
   ],
   "source": [
    "#Replace with median\n",
    "median = raw_data[(raw_data.shop_id==32)&(raw_data.item_id==2973)&(raw_data.date_block_num==4)&(raw_data.item_price>0)].item_price.median()\n",
    "raw_data.loc[raw_data.item_price<0, 'item_price'] = median\n",
    "print(\"The median is: \", median)"
   ]
  },
  {
   "cell_type": "code",
   "execution_count": 127,
   "metadata": {
    "hidden": true
   },
   "outputs": [
    {
     "name": "stdout",
     "output_type": "stream",
     "text": [
      "time: 689 ms\n"
     ]
    }
   ],
   "source": [
    "#Outliers\n",
    "raw_data = raw_data[raw_data.item_price<100000]\n",
    "raw_data = raw_data[raw_data.item_cnt_day<1001]"
   ]
  },
  {
   "cell_type": "code",
   "execution_count": 128,
   "metadata": {
    "hidden": true
   },
   "outputs": [
    {
     "name": "stdout",
     "output_type": "stream",
     "text": [
      "time: 409 ms\n"
     ]
    }
   ],
   "source": [
    "#Several shops are duplicates of each other (according to its name). Fix train and test set.\n",
    "\n",
    "# Якутск Орджоникидзе, 56\n",
    "raw_data.loc[raw_data.shop_id == 0, 'shop_id'] = 57\n",
    "test.loc[test.shop_id == 0, 'shop_id'] = 57\n",
    "test_for_submission.loc[test_for_submission.shop_id == 0, 'shop_id'] = 57\n",
    "# Якутск ТЦ \"Центральный\"\n",
    "raw_data.loc[raw_data.shop_id == 1, 'shop_id'] = 58\n",
    "test.loc[test.shop_id == 1, 'shop_id'] = 58\n",
    "test_for_submission.loc[test_for_submission.shop_id == 1, 'shop_id'] = 58\n",
    "# Жуковский ул. Чкалова 39м²\n",
    "raw_data.loc[raw_data.shop_id == 10, 'shop_id'] = 11\n",
    "test.loc[test.shop_id == 10, 'shop_id'] = 11\n",
    "test_for_submission.loc[test_for_submission.shop_id == 10, 'shop_id'] = 11"
   ]
  },
  {
   "cell_type": "code",
   "execution_count": 11,
   "metadata": {
    "hidden": true
   },
   "outputs": [
    {
     "name": "stdout",
     "output_type": "stream",
     "text": [
      "time: 19.1 ms\n"
     ]
    }
   ],
   "source": [
    "#Modifying dimension tables\n",
    "shops.loc[shops.shop_name == 'Сергиев Посад ТЦ \"7Я\"', 'shop_name'] = 'СергиевПосад ТЦ \"7Я\"'\n",
    "shops['city'] = shops['shop_name'].str.split(' ').map(lambda x: x[0])\n",
    "shops.loc[shops.city == '!Якутск', 'city'] = 'Якутск'\n",
    "shops['city_code'] = LabelEncoder().fit_transform(shops['city'])\n",
    "shops = shops[['shop_id','city_code']]\n",
    "\n",
    "item_categories['split'] = item_categories['item_category_name'].str.split('-')\n",
    "item_categories['type'] = item_categories['split'].map(lambda x: x[0].strip())\n",
    "item_categories['type_code'] = LabelEncoder().fit_transform(item_categories['type'])\n",
    "# if subtype is nan then type\n",
    "item_categories['subtype'] = item_categories['split'].map(lambda x: x[1].strip() if len(x) > 1 else x[0].strip())\n",
    "item_categories['subtype_code'] = LabelEncoder().fit_transform(item_categories['subtype'])\n",
    "item_categories = item_categories[['item_category_id','type_code', 'subtype_code']]\n",
    "\n",
    "items.drop(['item_name'], axis=1, inplace=True)"
   ]
  },
  {
   "cell_type": "code",
   "execution_count": 12,
   "metadata": {
    "hidden": true
   },
   "outputs": [
    {
     "name": "stdout",
     "output_type": "stream",
     "text": [
      "time: 5.7 s\n"
     ]
    }
   ],
   "source": [
    "#Convert item_id and shop_id as strings\n",
    "#Do not replace negative values of sales with 0 \n",
    "#Since we want to compute total sales in a month\n",
    "raw_data = raw_data >> mutate(item_id = X.item_id.astype(str), shop_id = X.shop_id.astype(str))"
   ]
  },
  {
   "cell_type": "code",
   "execution_count": 13,
   "metadata": {
    "hidden": true
   },
   "outputs": [
    {
     "name": "stdout",
     "output_type": "stream",
     "text": [
      "time: 4.44 s\n"
     ]
    }
   ],
   "source": [
    "#Compute monthly metrics\n",
    "#number of purchases\n",
    "#Translate everything daily to monthly\n",
    "\n",
    "metric_dictionary = {'item_cnt_day': ['sum']}\n",
    "\n",
    "raw_data_month = dd_summarise(raw_data,['item_id','shop_id','date_block_num'],metric_dictionary)"
   ]
  },
  {
   "cell_type": "code",
   "execution_count": 14,
   "metadata": {
    "hidden": true
   },
   "outputs": [
    {
     "name": "stdout",
     "output_type": "stream",
     "text": [
      "time: 1.6 s\n"
     ]
    }
   ],
   "source": [
    "#Cap sales value from 0 to 20\n",
    "raw_data_month = raw_data_month >> \\\n",
    "mutate(item_cnt_day_sum = if_else(X.item_cnt_day_sum > 20, 20, X.item_cnt_day_sum)) >> \\\n",
    "mutate(item_cnt_day_sum = if_else(X.item_cnt_day_sum < 0, 0, X.item_cnt_day_sum))"
   ]
  },
  {
   "cell_type": "code",
   "execution_count": 15,
   "metadata": {
    "hidden": true
   },
   "outputs": [
    {
     "data": {
      "text/plain": [
       "<matplotlib.axes._subplots.AxesSubplot at 0x7f5ac0604940>"
      ]
     },
     "execution_count": 15,
     "metadata": {},
     "output_type": "execute_result"
    },
    {
     "data": {
      "image/png": "[encoded data removed]",
      "text/plain": [
       "<Figure size 432x288 with 1 Axes>"
      ]
     },
     "metadata": {
      "needs_background": "light"
     },
     "output_type": "display_data"
    },
    {
     "name": "stdout",
     "output_type": "stream",
     "text": [
      "time: 277 ms\n"
     ]
    }
   ],
   "source": [
    "raw_data_month.item_cnt_day_sum.hist()"
   ]
  },
  {
   "cell_type": "code",
   "execution_count": 16,
   "metadata": {
    "hidden": true
   },
   "outputs": [
    {
     "name": "stdout",
     "output_type": "stream",
     "text": [
      "time: 480 ms\n"
     ]
    }
   ],
   "source": [
    "#Test\n",
    "test = test >> mutate(item_id = X.item_id.astype(str), \n",
    "                           shop_id = X.shop_id.astype(str), \n",
    "                           date_block_num = 34) >> drop(X.ID)"
   ]
  },
  {
   "cell_type": "code",
   "execution_count": 40,
   "metadata": {
    "hidden": true
   },
   "outputs": [
    {
     "name": "stdout",
     "output_type": "stream",
     "text": [
      "Shape of sparse data:  (11128004, 4)\n",
      "time: 21.7 s\n"
     ]
    }
   ],
   "source": [
    "#Train and valid\n",
    "date_block_item = raw_data >> select(X.date_block_num, X.item_id) >> distinct(X.date_block_num, X.item_id)\n",
    "date_block_shop = raw_data >> select(X.date_block_num, X.shop_id) >> distinct(X.date_block_num, X.shop_id)\n",
    "\n",
    "sparse = date_block_item >> inner_join(date_block_shop, by = ['date_block_num']) \n",
    "\n",
    "sparse = pd.concat([sparse, test], sort=True) >> arrange(X.item_id,X.shop_id,X.date_block_num)\n",
    "\n",
    "sparse = sparse >> left_join(raw_data_month, by = ['item_id','shop_id','date_block_num'])\n",
    "\n",
    "sparse.item_cnt_day_sum.fillna(0,inplace = True)\n",
    "\n",
    "print(\"Shape of sparse data: \", sparse.shape )"
   ]
  },
  {
   "cell_type": "code",
   "execution_count": 41,
   "metadata": {
    "hidden": true
   },
   "outputs": [
    {
     "name": "stdout",
     "output_type": "stream",
     "text": [
      "lag: 1 done\n",
      "lag: 2 done\n",
      "lag: 3 done\n",
      "lag: 6 done\n",
      "lag: 12 done\n",
      "Metric: item_cnt_day_sum done\n",
      "Shape before NaN removal:  (6639294, 9)\n",
      "time: 23.7 s\n"
     ]
    }
   ],
   "source": [
    "#Lag variables for train\n",
    "metric_list = ['item_cnt_day_sum']\n",
    "sparse = apply_lag(sparse,['item_id','shop_id'],'date_block_num', metric_list,[1,2,3,6,12])\n",
    "sparse.fillna(0,inplace = True)\n",
    "sparse = sparse[sparse.date_block_num > 11]\n",
    "print('Shape before NaN removal: ',sparse.shape )"
   ]
  },
  {
   "cell_type": "code",
   "execution_count": 42,
   "metadata": {
    "hidden": true
   },
   "outputs": [
    {
     "name": "stdout",
     "output_type": "stream",
     "text": [
      "time: 123 ms\n"
     ]
    }
   ],
   "source": [
    "#Get date features for all date block num\n",
    "sparse['month'] = sparse['date_block_num'] % 12"
   ]
  },
  {
   "cell_type": "code",
   "execution_count": 43,
   "metadata": {
    "hidden": true
   },
   "outputs": [
    {
     "name": "stdout",
     "output_type": "stream",
     "text": [
      "time: 331 ms\n"
     ]
    }
   ],
   "source": [
    "#Add number of days in a month\n",
    "days = pd.Series([31,28,31,30,31,30,31,31,30,31,30,31])\n",
    "sparse['days'] = sparse['month'].map(days).astype(np.int8)"
   ]
  },
  {
   "cell_type": "code",
   "execution_count": 44,
   "metadata": {
    "hidden": true
   },
   "outputs": [
    {
     "name": "stdout",
     "output_type": "stream",
     "text": [
      "time: 9.97 s\n"
     ]
    }
   ],
   "source": [
    "#Item category size \n",
    "sparse = item_category_size(sparse,items)"
   ]
  },
  {
   "cell_type": "code",
   "execution_count": 45,
   "metadata": {
    "hidden": true
   },
   "outputs": [
    {
     "name": "stdout",
     "output_type": "stream",
     "text": [
      "time: 4.28 s\n"
     ]
    }
   ],
   "source": [
    "#Add other item shop cartegory level data\n",
    "shops = shops >> mutate(shop_id = X.shop_id.astype(str))\n",
    "\n",
    "sparse = pd.merge(sparse, shops, on=['shop_id'], how='left')\n",
    "\n",
    "sparse = pd.merge(sparse, item_categories, on=['item_category_id'], how='left')\n",
    "\n",
    "\n",
    "sparse['item_category_id'] = sparse['item_category_id'].astype(np.int8)\n",
    "sparse['city_code'] = sparse['city_code'].astype(np.int8)\n",
    "sparse['type_code'] = sparse['type_code'].astype(np.int8)\n",
    "sparse['subtype_code'] = sparse['subtype_code'].astype(np.int8)"
   ]
  },
  {
   "cell_type": "code",
   "execution_count": 46,
   "metadata": {
    "hidden": true
   },
   "outputs": [
    {
     "name": "stdout",
     "output_type": "stream",
     "text": [
      "time: 1.66 ms\n"
     ]
    }
   ],
   "source": [
    "#Parameters for next set of features\n",
    "\n",
    "metric_list_sales_5 = ['item_cnt_day_sum_lag_1',\n",
    "                     'item_cnt_day_sum_lag_2',\n",
    "                     'item_cnt_day_sum_lag_3',\n",
    "                     'item_cnt_day_sum_lag_6',\n",
    "                     'item_cnt_day_sum_lag_12']\n",
    "\n",
    "metric_list_sales_1 = ['item_cnt_day_sum_lag_1']\n",
    "\n",
    "\n",
    "\n",
    "date = ['date_block_num']\n",
    "item_date = ['item_id','date_block_num']\n",
    "shop_date = ['shop_id','date_block_num']\n",
    "cat_date = ['item_category_id','date_block_num']\n",
    "cat_shop_date = ['item_category_id','shop_id','date_block_num']\n",
    "date_city = ['city_code','date_block_num']\n",
    "date_item_city = ['city_code','item_id','date_block_num']"
   ]
  },
  {
   "cell_type": "code",
   "execution_count": 48,
   "metadata": {
    "hidden": true
   },
   "outputs": [
    {
     "name": "stdout",
     "output_type": "stream",
     "text": [
      "time: 1min 15s\n"
     ]
    }
   ],
   "source": [
    "#Create new features from the lag features\n",
    "sparse = apply_ts(sparse,item_date,metric_list_sales_5,None,'mean','item_date','m', False )\n",
    "sparse = apply_ts(sparse,shop_date,metric_list_sales_5,None,'mean','shop_date','m', False )\n",
    "\n",
    "sparse = apply_ts(sparse,date,metric_list_sales_1,None,'mean','date','m' , False)\n",
    "sparse = apply_ts(sparse,cat_date,metric_list_sales_1,None,'mean','cat_date','m', False )\n",
    "sparse = apply_ts(sparse,cat_shop_date,metric_list_sales_1,None,'mean','cat_shop_date','m' , False)\n",
    "sparse = apply_ts(sparse,date_city,metric_list_sales_1,None,'mean','date_city','m', False )\n",
    "sparse = apply_ts(sparse,date_item_city,metric_list_sales_1,None,'mean','date_item_city','m', False )"
   ]
  },
  {
   "cell_type": "code",
   "execution_count": 49,
   "metadata": {
    "hidden": true
   },
   "outputs": [
    {
     "name": "stdout",
     "output_type": "stream",
     "text": [
      "time: 1.67 s\n"
     ]
    }
   ],
   "source": [
    "#Convert item_id and shop_id back to numeric format\n",
    "sparse['shop_id'] = sparse['shop_id'].astype(np.int32)\n",
    "sparse['item_id'] = sparse['item_id'].astype(np.int32)"
   ]
  },
  {
   "cell_type": "code",
   "execution_count": 50,
   "metadata": {
    "hidden": true
   },
   "outputs": [
    {
     "name": "stdout",
     "output_type": "stream",
     "text": [
      "time: 1min 4s\n"
     ]
    }
   ],
   "source": [
    "#Now generate train, valid and test DFs\n",
    "train = sparse >> mask(X.date_block_num < 33)\n",
    "valid = sparse >> mask(X.date_block_num == 33)\n",
    "test_w_features = sparse >> mask(X.date_block_num == 34)\n",
    "\n",
    "sparse.to_pickle('data/sparse.pkl')\n",
    "\n",
    "del sparse"
   ]
  },
  {
   "cell_type": "code",
   "execution_count": 102,
   "metadata": {
    "hidden": true
   },
   "outputs": [
    {
     "name": "stdout",
     "output_type": "stream",
     "text": [
      "time: 29.9 s\n"
     ]
    }
   ],
   "source": [
    "# sparse = pd.read_pickle('data/sparse.pkl')"
   ]
  },
  {
   "cell_type": "markdown",
   "metadata": {
    "heading_collapsed": true
   },
   "source": [
    "### EDA"
   ]
  },
  {
   "cell_type": "markdown",
   "metadata": {
    "heading_collapsed": true,
    "hidden": true
   },
   "source": [
    "#### Check distribution"
   ]
  },
  {
   "cell_type": "code",
   "execution_count": null,
   "metadata": {
    "hidden": true
   },
   "outputs": [],
   "source": [
    "check = dd_summarise(raw_data,['date_block_num','item_id','shop_id'],'item_cnt_day','sum')"
   ]
  },
  {
   "cell_type": "code",
   "execution_count": null,
   "metadata": {
    "hidden": true
   },
   "outputs": [],
   "source": [
    "check[check.item_cnt_day > 20].shape[0]/check.shape[0]"
   ]
  },
  {
   "cell_type": "code",
   "execution_count": null,
   "metadata": {
    "hidden": true
   },
   "outputs": [],
   "source": [
    "sns.distplot(check.item_cnt_day[check.item_cnt_day>0])"
   ]
  },
  {
   "cell_type": "markdown",
   "metadata": {
    "heading_collapsed": true
   },
   "source": [
    "### Modelling"
   ]
  },
  {
   "cell_type": "markdown",
   "metadata": {
    "heading_collapsed": true,
    "hidden": true
   },
   "source": [
    "#### Xgboost"
   ]
  },
  {
   "cell_type": "code",
   "execution_count": 52,
   "metadata": {
    "hidden": true
   },
   "outputs": [
    {
     "name": "stdout",
     "output_type": "stream",
     "text": [
      "Shape of training data:  (6186922, 30)\n",
      "Shape of validation data:  (238172, 30)\n",
      "Shape of test data:  (214200, 30)\n",
      "time: 6.2 s\n"
     ]
    }
   ],
   "source": [
    "##data preparation\n",
    "ind_columns = train.columns.to_list()\n",
    "\n",
    "dep_coloumns = [\"item_cnt_day_sum\"]\n",
    "\n",
    "ind_columns = remove_elements(ind_columns, dep_coloumns)\n",
    "\n",
    "x_train = train[ind_columns]\n",
    "y_train = train[dep_coloumns]\n",
    "\n",
    "x_test = test_w_features[ind_columns]\n",
    "\n",
    "x_valid = valid[ind_columns]\n",
    "y_valid = valid[dep_coloumns]\n",
    "\n",
    "print(\"Shape of training data: \", x_train.shape)\n",
    "print(\"Shape of validation data: \", x_valid.shape)\n",
    "print(\"Shape of test data: \", x_test.shape)\n",
    "\n",
    "xg_train = xgb.DMatrix(x_train, label = y_train)\n",
    "xg_test = xgb.DMatrix(x_test)\n",
    "xg_valid = xgb.DMatrix(x_valid, label = y_valid)"
   ]
  },
  {
   "cell_type": "code",
   "execution_count": 53,
   "metadata": {
    "hidden": true
   },
   "outputs": [
    {
     "name": "stdout",
     "output_type": "stream",
     "text": [
      "[10:32:02] WARNING: /workspace/src/learner.cc:686: Tree method is automatically selected to be 'approx' for faster speed. To use old behavior (exact greedy algorithm on single machine), set tree_method to 'exact'.\n",
      "[0]\tvalid-rmse:1.0388\n",
      "Will train until valid-rmse hasn't improved in 10 rounds.\n",
      "[1]\tvalid-rmse:0.97618\n",
      "[2]\tvalid-rmse:0.941285\n",
      "[3]\tvalid-rmse:0.921186\n",
      "[4]\tvalid-rmse:0.912441\n",
      "[5]\tvalid-rmse:0.908933\n",
      "[6]\tvalid-rmse:0.905377\n",
      "[7]\tvalid-rmse:0.907718\n",
      "[8]\tvalid-rmse:0.908385\n",
      "[9]\tvalid-rmse:0.911445\n",
      "[10]\tvalid-rmse:0.908354\n",
      "[11]\tvalid-rmse:0.909843\n",
      "[12]\tvalid-rmse:0.909754\n",
      "[13]\tvalid-rmse:0.911952\n",
      "[14]\tvalid-rmse:0.910835\n",
      "[15]\tvalid-rmse:0.914413\n",
      "[16]\tvalid-rmse:0.91692\n",
      "Stopping. Best iteration:\n",
      "[6]\tvalid-rmse:0.905377\n",
      "\n",
      "time: 5min 43s\n"
     ]
    }
   ],
   "source": [
    "#Model\n",
    "param = {'max_depth':8,\n",
    "         'min_child_weight':300,\n",
    "         'objective':'reg:squarederror',\n",
    "         'eval_metric': 'rmse' ,\n",
    "         'colsample_bytree': 0.8,\n",
    "         'subsample':0.8, \n",
    "         'eta':0.3}\n",
    "\n",
    "watchlist  = [(xg_valid, 'valid')]\n",
    "num_round = 1000\n",
    "\n",
    "xgm = xgb.train(param, xg_train, num_round, evals = watchlist, early_stopping_rounds=10)"
   ]
  },
  {
   "cell_type": "code",
   "execution_count": 54,
   "metadata": {
    "hidden": true
   },
   "outputs": [
    {
     "data": {
      "text/plain": [
       "<matplotlib.axes._subplots.AxesSubplot at 0x7f598953ea58>"
      ]
     },
     "execution_count": 54,
     "metadata": {},
     "output_type": "execute_result"
    },
    {
     "data": {
      "image/png": "[encoded data removed]",
      "text/plain": [
       "<Figure size 1440x3600 with 1 Axes>"
      ]
     },
     "metadata": {
      "needs_background": "light"
     },
     "output_type": "display_data"
    },
    {
     "name": "stdout",
     "output_type": "stream",
     "text": [
      "time: 2.11 s\n"
     ]
    }
   ],
   "source": [
    "my_plot_importance(xgm,(20,50),importance_type='gain')"
   ]
  },
  {
   "cell_type": "code",
   "execution_count": 55,
   "metadata": {
    "hidden": true
   },
   "outputs": [
    {
     "data": {
      "text/plain": [
       "0.9169221600848658"
      ]
     },
     "execution_count": 55,
     "metadata": {},
     "output_type": "execute_result"
    },
    {
     "name": "stdout",
     "output_type": "stream",
     "text": [
      "time: 12.5 ms\n"
     ]
    }
   ],
   "source": [
    "#RMSE in validation data\n",
    "rmse(xgm.predict(xg_valid),y_valid.values.ravel())"
   ]
  },
  {
   "cell_type": "code",
   "execution_count": 56,
   "metadata": {
    "hidden": true
   },
   "outputs": [
    {
     "data": {
      "text/plain": [
       "0.8159209935614227"
      ]
     },
     "execution_count": 56,
     "metadata": {},
     "output_type": "execute_result"
    },
    {
     "name": "stdout",
     "output_type": "stream",
     "text": [
      "time: 132 ms\n"
     ]
    }
   ],
   "source": [
    "#RMSE in train data\n",
    "rmse(xgm.predict(xg_train),y_train.values.ravel())"
   ]
  },
  {
   "cell_type": "code",
   "execution_count": 57,
   "metadata": {
    "hidden": true
   },
   "outputs": [
    {
     "data": {
      "text/plain": [
       "<matplotlib.axes._subplots.AxesSubplot at 0x7f5989831908>"
      ]
     },
     "execution_count": 57,
     "metadata": {},
     "output_type": "execute_result"
    },
    {
     "data": {
      "image/png": "[encoded data removed]",
      "text/plain": [
       "<Figure size 432x288 with 1 Axes>"
      ]
     },
     "metadata": {
      "needs_background": "light"
     },
     "output_type": "display_data"
    },
    {
     "name": "stdout",
     "output_type": "stream",
     "text": [
      "time: 641 ms\n"
     ]
    }
   ],
   "source": [
    "valid_predictions = xgm.predict(xg_valid)\n",
    "valid_predictions = valid >> mutate(item_cnt_day_predicted = valid_predictions) >> \\\n",
    "mutate(errors = (X.item_cnt_day_sum - X.item_cnt_day_predicted))\n",
    "\n",
    "vp = valid_predictions\n",
    "\n",
    "sns.distplot(vp.item_cnt_day_sum - vp.item_cnt_day_predicted)"
   ]
  },
  {
   "cell_type": "code",
   "execution_count": 58,
   "metadata": {
    "hidden": true
   },
   "outputs": [
    {
     "data": {
      "text/plain": [
       "<matplotlib.axes._subplots.AxesSubplot at 0x7f5989687588>"
      ]
     },
     "execution_count": 58,
     "metadata": {},
     "output_type": "execute_result"
    },
    {
     "data": {
      "image/png": "[encoded data removed]",
      "text/plain": [
       "<Figure size 432x288 with 1 Axes>"
      ]
     },
     "metadata": {
      "needs_background": "light"
     },
     "output_type": "display_data"
    },
    {
     "name": "stdout",
     "output_type": "stream",
     "text": [
      "time: 470 ms\n"
     ]
    }
   ],
   "source": [
    "#Need to clip predictions\n",
    "sns.distplot(vp.item_cnt_day_predicted)"
   ]
  },
  {
   "cell_type": "markdown",
   "metadata": {
    "heading_collapsed": true
   },
   "source": [
    "### Submission"
   ]
  },
  {
   "cell_type": "code",
   "execution_count": 109,
   "metadata": {
    "hidden": true
   },
   "outputs": [
    {
     "data": {
      "text/plain": [
       "(214200,)"
      ]
     },
     "execution_count": 109,
     "metadata": {},
     "output_type": "execute_result"
    },
    {
     "name": "stdout",
     "output_type": "stream",
     "text": [
      "time: 67.9 ms\n"
     ]
    }
   ],
   "source": [
    "test_predictions = xgm.predict(xg_test)\n",
    "test_predictions.shape"
   ]
  },
  {
   "cell_type": "code",
   "execution_count": 110,
   "metadata": {
    "hidden": true
   },
   "outputs": [
    {
     "data": {
      "text/plain": [
       "<matplotlib.axes._subplots.AxesSubplot at 0x7f59ab7475c0>"
      ]
     },
     "execution_count": 110,
     "metadata": {},
     "output_type": "execute_result"
    },
    {
     "data": {
      "image/png": "[encoded data removed]",
      "text/plain": [
       "<Figure size 432x288 with 1 Axes>"
      ]
     },
     "metadata": {
      "needs_background": "light"
     },
     "output_type": "display_data"
    },
    {
     "name": "stdout",
     "output_type": "stream",
     "text": [
      "time: 484 ms\n"
     ]
    }
   ],
   "source": [
    "test_submission = test_w_features >> mutate(item_cnt_month = test_predictions) >> \\\n",
    "select(X.item_id,X.shop_id,X.date_block_num,X.item_cnt_month)\n",
    "sns.distplot(test_submission.item_cnt_month)"
   ]
  },
  {
   "cell_type": "code",
   "execution_count": 111,
   "metadata": {
    "hidden": true
   },
   "outputs": [
    {
     "data": {
      "text/plain": [
       "<matplotlib.axes._subplots.AxesSubplot at 0x7f59ab37e7b8>"
      ]
     },
     "execution_count": 111,
     "metadata": {},
     "output_type": "execute_result"
    },
    {
     "data": {
      "image/png": "[encoded data removed]",
      "text/plain": [
       "<Figure size 432x288 with 1 Axes>"
      ]
     },
     "metadata": {
      "needs_background": "light"
     },
     "output_type": "display_data"
    },
    {
     "name": "stdout",
     "output_type": "stream",
     "text": [
      "time: 570 ms\n"
     ]
    }
   ],
   "source": [
    "test_submission = test_submission >> \\\n",
    "mutate(item_cnt_month = if_else(X.item_cnt_month > 20, 20, X.item_cnt_month)) >> \\\n",
    "mutate(item_cnt_month = if_else(X.item_cnt_month < 0, 0, X.item_cnt_month))\n",
    "sns.distplot(test_submission.item_cnt_month)"
   ]
  },
  {
   "cell_type": "code",
   "execution_count": 131,
   "metadata": {
    "hidden": true
   },
   "outputs": [
    {
     "name": "stdout",
     "output_type": "stream",
     "text": [
      "time: 82.9 ms\n"
     ]
    }
   ],
   "source": [
    "test_for_submission_m = test_for_submission >> left_join(test_submission, by = ['item_id','shop_id']) >> \\\n",
    "select(X.ID,X.item_cnt_month)"
   ]
  },
  {
   "cell_type": "code",
   "execution_count": 133,
   "metadata": {
    "hidden": true
   },
   "outputs": [
    {
     "name": "stdout",
     "output_type": "stream",
     "text": [
      "time: 2.04 s\n"
     ]
    }
   ],
   "source": [
    "test_for_submission_m.to_csv('submission__xgb_v10.csv', index=False)"
   ]
  },
  {
   "cell_type": "markdown",
   "metadata": {
    "collapsed": true,
    "heading_collapsed": true
   },
   "source": [
    "### QA"
   ]
  },
  {
   "cell_type": "code",
   "execution_count": null,
   "metadata": {
    "hidden": true
   },
   "outputs": [],
   "source": [
    "#just check few rows to select a particular instance for testing\n",
    "sparse_raw_data_month >> mask(X.item_cnt_day_count > 0) >> sample(2)"
   ]
  }
 ],
 "metadata": {
  "kernelspec": {
   "display_name": "Python 3 (General DS)",
   "language": "python",
   "name": "python3"
  },
  "language_info": {
   "codemirror_mode": {
    "name": "ipython",
    "version": 3
   },
   "file_extension": ".py",
   "mimetype": "text/x-python",
   "name": "python",
   "nbconvert_exporter": "python",
   "pygments_lexer": "ipython3",
   "version": "3.6.4"
  }
 },
 "nbformat": 4,
 "nbformat_minor": 2
}
