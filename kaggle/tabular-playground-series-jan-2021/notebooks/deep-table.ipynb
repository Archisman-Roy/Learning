{
 "cells": [
  {
   "cell_type": "code",
   "execution_count": 3,
   "metadata": {},
   "outputs": [],
   "source": [
    "# imports\n",
    "from deeptables.models.deeptable import DeepTable, ModelConfig\n",
    "from deeptables.datasets import dsutils\n",
    "from sklearn.model_selection import train_test_split\n",
    "import pandas as pd\n",
    "import joblib"
   ]
  },
  {
   "cell_type": "code",
   "execution_count": 16,
   "metadata": {},
   "outputs": [],
   "source": [
    "# read and split into train and valid data\n",
    "data = pd.read_csv(\"../inputs/train_folds.csv\")"
   ]
  },
  {
   "cell_type": "code",
   "execution_count": 17,
   "metadata": {},
   "outputs": [],
   "source": [
    "# train and valid inputs\n",
    "y = data.pop('target')\n",
    "X = data.drop(['id','kfold'],axis=1)\n",
    "\n",
    "X_train, X_test, y_train, y_test = train_test_split(X, y, test_size=0.2, random_state=42)"
   ]
  },
  {
   "cell_type": "code",
   "execution_count": 22,
   "metadata": {},
   "outputs": [],
   "source": [
    "# model config\n",
    "conf = ModelConfig(\n",
    "    metrics=['RootMeanSquaredError'], \n",
    "    nets=['dnn_nets','dcn_nets'],\n",
    "    dnn_params={\n",
    "        'hidden_units': ((512, 0.3, True), (512, 0.3, True)),\n",
    "        'dnn_activation': 'relu',\n",
    "    },\n",
    "    earlystopping_patience=5,\n",
    ")"
   ]
  },
  {
   "cell_type": "code",
   "execution_count": 23,
   "metadata": {},
   "outputs": [],
   "source": [
    "# set config\n",
    "dt = DeepTable(config=conf)"
   ]
  },
  {
   "cell_type": "code",
   "execution_count": null,
   "metadata": {},
   "outputs": [
    {
     "name": "stdout",
     "output_type": "stream",
     "text": [
      "Target column type is float, so inferred as a [regression] task.\n",
      "Preparing features taken 0.31218504905700684s\n",
      "Imputation taken 0.10039639472961426s\n",
      "Categorical encoding taken 1.33514404296875e-05s\n",
      "Injected a callback [EarlyStopping]. monitor:val_rootmeansquarederror, patience:5, mode:min\n",
      ">>>>>>>>>>>>>>>>>>>>>> Model Desc <<<<<<<<<<<<<<<<<<<<<<< \n",
      "---------------------------------------------------------\n",
      "inputs:\n",
      "---------------------------------------------------------\n",
      "['input_continuous_all: (14)']\n",
      "---------------------------------------------------------\n",
      "embeddings:\n",
      "---------------------------------------------------------\n",
      "None\n",
      "---------------------------------------------------------\n",
      "dense: dropout: 0\n",
      "batch_normalization: False\n",
      "---------------------------------------------------------\n",
      "concat_embed_dense: shape: (None, 14)\n",
      "---------------------------------------------------------\n",
      "nets: ['dcn_nets', 'dnn_nets']\n",
      "---------------------------------------------------------\n",
      "dcn-widecross: input_shape (None, 14), output_shape (None, 14)\n",
      "dcn-dnn2: input_shape (None, 14), output_shape (None, 512)\n",
      "dcn: input_shape (None, 14), output_shape (None, 526)\n",
      "dnn: input_shape (None, 14), output_shape (None, 512)\n",
      "---------------------------------------------------------\n",
      "stacking_op: add\n",
      "---------------------------------------------------------\n",
      "output: activation: None, output_shape: (None, 1), use_bias: True\n",
      "loss: mse\n",
      "optimizer: Adam\n",
      "---------------------------------------------------------\n",
      "\n",
      "Epoch 1/100\n",
      "1499/1500 [============================>.] - ETA: 0s - loss: 1.9977 - root_mean_squared_error: 1.4134WARNING:tensorflow:Early stopping conditioned on metric `val_rootmeansquarederror` which is not available. Available metrics are: loss,root_mean_squared_error,val_loss,val_root_mean_squared_error\n",
      "1500/1500 [==============================] - 32s 21ms/step - loss: 1.9969 - root_mean_squared_error: 1.4131 - val_loss: 1.2186 - val_root_mean_squared_error: 1.1039\n",
      "Epoch 2/100\n",
      "1499/1500 [============================>.] - ETA: 0s - loss: 0.6911 - root_mean_squared_error: 0.8313WARNING:tensorflow:Early stopping conditioned on metric `val_rootmeansquarederror` which is not available. Available metrics are: loss,root_mean_squared_error,val_loss,val_root_mean_squared_error\n",
      "1500/1500 [==============================] - 33s 22ms/step - loss: 0.6911 - root_mean_squared_error: 0.8313 - val_loss: 0.9665 - val_root_mean_squared_error: 0.9831\n",
      "Epoch 3/100\n",
      "1498/1500 [============================>.] - ETA: 0s - loss: 0.6617 - root_mean_squared_error: 0.8135WARNING:tensorflow:Early stopping conditioned on metric `val_rootmeansquarederror` which is not available. Available metrics are: loss,root_mean_squared_error,val_loss,val_root_mean_squared_error\n",
      "1500/1500 [==============================] - 31s 21ms/step - loss: 0.6619 - root_mean_squared_error: 0.8136 - val_loss: 0.6878 - val_root_mean_squared_error: 0.8293\n",
      "Epoch 4/100\n",
      "1500/1500 [==============================] - ETA: 0s - loss: 0.6456 - root_mean_squared_error: 0.8035WARNING:tensorflow:Early stopping conditioned on metric `val_rootmeansquarederror` which is not available. Available metrics are: loss,root_mean_squared_error,val_loss,val_root_mean_squared_error\n",
      "1500/1500 [==============================] - 32s 21ms/step - loss: 0.6456 - root_mean_squared_error: 0.8035 - val_loss: 0.6496 - val_root_mean_squared_error: 0.8060\n",
      "Epoch 5/100\n",
      "1500/1500 [==============================] - ETA: 0s - loss: 0.6290 - root_mean_squared_error: 0.7931WARNING:tensorflow:Early stopping conditioned on metric `val_rootmeansquarederror` which is not available. Available metrics are: loss,root_mean_squared_error,val_loss,val_root_mean_squared_error\n",
      "1500/1500 [==============================] - 32s 21ms/step - loss: 0.6290 - root_mean_squared_error: 0.7931 - val_loss: 0.5823 - val_root_mean_squared_error: 0.7631\n",
      "Epoch 6/100\n",
      "1500/1500 [==============================] - ETA: 0s - loss: 0.5931 - root_mean_squared_error: 0.7701WARNING:tensorflow:Early stopping conditioned on metric `val_rootmeansquarederror` which is not available. Available metrics are: loss,root_mean_squared_error,val_loss,val_root_mean_squared_error\n",
      "1500/1500 [==============================] - 31s 21ms/step - loss: 0.5931 - root_mean_squared_error: 0.7701 - val_loss: 0.5349 - val_root_mean_squared_error: 0.7314\n",
      "Epoch 7/100\n",
      "1500/1500 [==============================] - ETA: 0s - loss: 0.5555 - root_mean_squared_error: 0.7453WARNING:tensorflow:Early stopping conditioned on metric `val_rootmeansquarederror` which is not available. Available metrics are: loss,root_mean_squared_error,val_loss,val_root_mean_squared_error\n",
      "1500/1500 [==============================] - 30s 20ms/step - loss: 0.5555 - root_mean_squared_error: 0.7453 - val_loss: 0.5205 - val_root_mean_squared_error: 0.7215\n",
      "Epoch 8/100\n",
      "1500/1500 [==============================] - ETA: 0s - loss: 0.5378 - root_mean_squared_error: 0.7333WARNING:tensorflow:Early stopping conditioned on metric `val_rootmeansquarederror` which is not available. Available metrics are: loss,root_mean_squared_error,val_loss,val_root_mean_squared_error\n",
      "1500/1500 [==============================] - 32s 21ms/step - loss: 0.5378 - root_mean_squared_error: 0.7333 - val_loss: 0.5383 - val_root_mean_squared_error: 0.7337\n",
      "Epoch 9/100\n",
      "1500/1500 [==============================] - ETA: 0s - loss: 0.5322 - root_mean_squared_error: 0.7295WARNING:tensorflow:Early stopping conditioned on metric `val_rootmeansquarederror` which is not available. Available metrics are: loss,root_mean_squared_error,val_loss,val_root_mean_squared_error\n",
      "1500/1500 [==============================] - 31s 21ms/step - loss: 0.5322 - root_mean_squared_error: 0.7295 - val_loss: 0.5226 - val_root_mean_squared_error: 0.7229\n",
      "Epoch 10/100\n",
      "1500/1500 [==============================] - ETA: 0s - loss: 0.5271 - root_mean_squared_error: 0.7260WARNING:tensorflow:Early stopping conditioned on metric `val_rootmeansquarederror` which is not available. Available metrics are: loss,root_mean_squared_error,val_loss,val_root_mean_squared_error\n",
      "1500/1500 [==============================] - 31s 21ms/step - loss: 0.5271 - root_mean_squared_error: 0.7260 - val_loss: 0.5223 - val_root_mean_squared_error: 0.7227\n",
      "Epoch 11/100\n",
      "1499/1500 [============================>.] - ETA: 0s - loss: 0.5238 - root_mean_squared_error: 0.7238WARNING:tensorflow:Early stopping conditioned on metric `val_rootmeansquarederror` which is not available. Available metrics are: loss,root_mean_squared_error,val_loss,val_root_mean_squared_error\n",
      "1500/1500 [==============================] - 31s 21ms/step - loss: 0.5239 - root_mean_squared_error: 0.7238 - val_loss: 0.5321 - val_root_mean_squared_error: 0.7294\n",
      "Epoch 12/100\n",
      "1500/1500 [==============================] - ETA: 0s - loss: 0.5203 - root_mean_squared_error: 0.7214WARNING:tensorflow:Early stopping conditioned on metric `val_rootmeansquarederror` which is not available. Available metrics are: loss,root_mean_squared_error,val_loss,val_root_mean_squared_error\n",
      "1500/1500 [==============================] - 30s 20ms/step - loss: 0.5203 - root_mean_squared_error: 0.7214 - val_loss: 0.5138 - val_root_mean_squared_error: 0.7168\n",
      "Epoch 13/100\n",
      "1498/1500 [============================>.] - ETA: 0s - loss: 0.5185 - root_mean_squared_error: 0.7201WARNING:tensorflow:Early stopping conditioned on metric `val_rootmeansquarederror` which is not available. Available metrics are: loss,root_mean_squared_error,val_loss,val_root_mean_squared_error\n",
      "1500/1500 [==============================] - 31s 21ms/step - loss: 0.5185 - root_mean_squared_error: 0.7200 - val_loss: 0.5182 - val_root_mean_squared_error: 0.7198\n",
      "Epoch 14/100\n",
      "1498/1500 [============================>.] - ETA: 0s - loss: 0.5164 - root_mean_squared_error: 0.7186WARNING:tensorflow:Early stopping conditioned on metric `val_rootmeansquarederror` which is not available. Available metrics are: loss,root_mean_squared_error,val_loss,val_root_mean_squared_error\n",
      "1500/1500 [==============================] - 32s 21ms/step - loss: 0.5164 - root_mean_squared_error: 0.7186 - val_loss: 0.5169 - val_root_mean_squared_error: 0.7190\n",
      "Epoch 15/100\n",
      "1499/1500 [============================>.] - ETA: 0s - loss: 0.5146 - root_mean_squared_error: 0.7174WARNING:tensorflow:Early stopping conditioned on metric `val_rootmeansquarederror` which is not available. Available metrics are: loss,root_mean_squared_error,val_loss,val_root_mean_squared_error\n",
      "1500/1500 [==============================] - 30s 20ms/step - loss: 0.5146 - root_mean_squared_error: 0.7174 - val_loss: 0.5131 - val_root_mean_squared_error: 0.7163\n",
      "Epoch 16/100\n",
      "1500/1500 [==============================] - ETA: 0s - loss: 0.5131 - root_mean_squared_error: 0.7163WARNING:tensorflow:Early stopping conditioned on metric `val_rootmeansquarederror` which is not available. Available metrics are: loss,root_mean_squared_error,val_loss,val_root_mean_squared_error\n",
      "1500/1500 [==============================] - 31s 21ms/step - loss: 0.5131 - root_mean_squared_error: 0.7163 - val_loss: 0.5112 - val_root_mean_squared_error: 0.7150\n",
      "Epoch 17/100\n",
      "1500/1500 [==============================] - ETA: 0s - loss: 0.5128 - root_mean_squared_error: 0.7161WARNING:tensorflow:Early stopping conditioned on metric `val_rootmeansquarederror` which is not available. Available metrics are: loss,root_mean_squared_error,val_loss,val_root_mean_squared_error\n",
      "1500/1500 [==============================] - 31s 21ms/step - loss: 0.5128 - root_mean_squared_error: 0.7161 - val_loss: 0.5095 - val_root_mean_squared_error: 0.7138\n",
      "Epoch 18/100\n",
      "1499/1500 [============================>.] - ETA: 0s - loss: 0.5116 - root_mean_squared_error: 0.7152WARNING:tensorflow:Early stopping conditioned on metric `val_rootmeansquarederror` which is not available. Available metrics are: loss,root_mean_squared_error,val_loss,val_root_mean_squared_error\n",
      "1500/1500 [==============================] - 30s 20ms/step - loss: 0.5116 - root_mean_squared_error: 0.7152 - val_loss: 0.5101 - val_root_mean_squared_error: 0.7142\n",
      "Epoch 19/100\n",
      "1500/1500 [==============================] - ETA: 0s - loss: 0.5107 - root_mean_squared_error: 0.7147WARNING:tensorflow:Early stopping conditioned on metric `val_rootmeansquarederror` which is not available. Available metrics are: loss,root_mean_squared_error,val_loss,val_root_mean_squared_error\n",
      "1500/1500 [==============================] - 31s 21ms/step - loss: 0.5107 - root_mean_squared_error: 0.7147 - val_loss: 0.5134 - val_root_mean_squared_error: 0.7165\n",
      "Epoch 20/100\n",
      "1500/1500 [==============================] - ETA: 0s - loss: 0.5104 - root_mean_squared_error: 0.7144WARNING:tensorflow:Early stopping conditioned on metric `val_rootmeansquarederror` which is not available. Available metrics are: loss,root_mean_squared_error,val_loss,val_root_mean_squared_error\n",
      "1500/1500 [==============================] - 31s 21ms/step - loss: 0.5104 - root_mean_squared_error: 0.7144 - val_loss: 0.5105 - val_root_mean_squared_error: 0.7145\n",
      "Epoch 21/100\n",
      "1500/1500 [==============================] - ETA: 0s - loss: 0.5095 - root_mean_squared_error: 0.7138WARNING:tensorflow:Early stopping conditioned on metric `val_rootmeansquarederror` which is not available. Available metrics are: loss,root_mean_squared_error,val_loss,val_root_mean_squared_error\n",
      "1500/1500 [==============================] - 30s 20ms/step - loss: 0.5095 - root_mean_squared_error: 0.7138 - val_loss: 0.5090 - val_root_mean_squared_error: 0.7134\n",
      "Epoch 22/100\n",
      "1498/1500 [============================>.] - ETA: 0s - loss: 0.5088 - root_mean_squared_error: 0.7133WARNING:tensorflow:Early stopping conditioned on metric `val_rootmeansquarederror` which is not available. Available metrics are: loss,root_mean_squared_error,val_loss,val_root_mean_squared_error\n",
      "1500/1500 [==============================] - 32s 21ms/step - loss: 0.5088 - root_mean_squared_error: 0.7133 - val_loss: 0.5107 - val_root_mean_squared_error: 0.7146\n",
      "Epoch 23/100\n",
      "1499/1500 [============================>.] - ETA: 0s - loss: 0.5085 - root_mean_squared_error: 0.7131WARNING:tensorflow:Early stopping conditioned on metric `val_rootmeansquarederror` which is not available. Available metrics are: loss,root_mean_squared_error,val_loss,val_root_mean_squared_error\n",
      "1500/1500 [==============================] - 34s 23ms/step - loss: 0.5085 - root_mean_squared_error: 0.7131 - val_loss: 0.5088 - val_root_mean_squared_error: 0.7133\n",
      "Epoch 24/100\n",
      "1498/1500 [============================>.] - ETA: 0s - loss: 0.5075 - root_mean_squared_error: 0.7124WARNING:tensorflow:Early stopping conditioned on metric `val_rootmeansquarederror` which is not available. Available metrics are: loss,root_mean_squared_error,val_loss,val_root_mean_squared_error\n",
      "1500/1500 [==============================] - 31s 21ms/step - loss: 0.5074 - root_mean_squared_error: 0.7123 - val_loss: 0.5074 - val_root_mean_squared_error: 0.7123\n",
      "Epoch 25/100\n",
      "1500/1500 [==============================] - ETA: 0s - loss: 0.5071 - root_mean_squared_error: 0.7121WARNING:tensorflow:Early stopping conditioned on metric `val_rootmeansquarederror` which is not available. Available metrics are: loss,root_mean_squared_error,val_loss,val_root_mean_squared_error\n",
      "1500/1500 [==============================] - 32s 21ms/step - loss: 0.5071 - root_mean_squared_error: 0.7121 - val_loss: 0.5104 - val_root_mean_squared_error: 0.7144\n",
      "Epoch 26/100\n",
      "1497/1500 [============================>.] - ETA: 0s - loss: 0.5071 - root_mean_squared_error: 0.7121WARNING:tensorflow:Early stopping conditioned on metric `val_rootmeansquarederror` which is not available. Available metrics are: loss,root_mean_squared_error,val_loss,val_root_mean_squared_error\n",
      "1500/1500 [==============================] - 32s 21ms/step - loss: 0.5071 - root_mean_squared_error: 0.7121 - val_loss: 0.5071 - val_root_mean_squared_error: 0.7121\n",
      "Epoch 27/100\n",
      "1499/1500 [============================>.] - ETA: 0s - loss: 0.5062 - root_mean_squared_error: 0.7115WARNING:tensorflow:Early stopping conditioned on metric `val_rootmeansquarederror` which is not available. Available metrics are: loss,root_mean_squared_error,val_loss,val_root_mean_squared_error\n",
      "1500/1500 [==============================] - 31s 21ms/step - loss: 0.5062 - root_mean_squared_error: 0.7114 - val_loss: 0.5080 - val_root_mean_squared_error: 0.7127\n",
      "Epoch 28/100\n",
      "1500/1500 [==============================] - ETA: 0s - loss: 0.5058 - root_mean_squared_error: 0.7112WARNING:tensorflow:Early stopping conditioned on metric `val_rootmeansquarederror` which is not available. Available metrics are: loss,root_mean_squared_error,val_loss,val_root_mean_squared_error\n",
      "1500/1500 [==============================] - 31s 21ms/step - loss: 0.5058 - root_mean_squared_error: 0.7112 - val_loss: 0.5080 - val_root_mean_squared_error: 0.7128\n",
      "Epoch 29/100\n",
      "1499/1500 [============================>.] - ETA: 0s - loss: 0.5051 - root_mean_squared_error: 0.7107WARNING:tensorflow:Early stopping conditioned on metric `val_rootmeansquarederror` which is not available. Available metrics are: loss,root_mean_squared_error,val_loss,val_root_mean_squared_error\n",
      "1500/1500 [==============================] - 31s 20ms/step - loss: 0.5051 - root_mean_squared_error: 0.7107 - val_loss: 0.5058 - val_root_mean_squared_error: 0.7112\n",
      "Epoch 30/100\n",
      "1499/1500 [============================>.] - ETA: 0s - loss: 0.5056 - root_mean_squared_error: 0.7111WARNING:tensorflow:Early stopping conditioned on metric `val_rootmeansquarederror` which is not available. Available metrics are: loss,root_mean_squared_error,val_loss,val_root_mean_squared_error\n",
      "1500/1500 [==============================] - 31s 21ms/step - loss: 0.5057 - root_mean_squared_error: 0.7111 - val_loss: 0.5132 - val_root_mean_squared_error: 0.7164\n",
      "Epoch 31/100\n",
      "1499/1500 [============================>.] - ETA: 0s - loss: 0.5052 - root_mean_squared_error: 0.7108WARNING:tensorflow:Early stopping conditioned on metric `val_rootmeansquarederror` which is not available. Available metrics are: loss,root_mean_squared_error,val_loss,val_root_mean_squared_error\n",
      "1500/1500 [==============================] - 31s 21ms/step - loss: 0.5052 - root_mean_squared_error: 0.7108 - val_loss: 0.5076 - val_root_mean_squared_error: 0.7125\n",
      "Epoch 32/100\n",
      "1498/1500 [============================>.] - ETA: 0s - loss: 0.5048 - root_mean_squared_error: 0.7105WARNING:tensorflow:Early stopping conditioned on metric `val_rootmeansquarederror` which is not available. Available metrics are: loss,root_mean_squared_error,val_loss,val_root_mean_squared_error\n",
      "1500/1500 [==============================] - 31s 20ms/step - loss: 0.5048 - root_mean_squared_error: 0.7105 - val_loss: 0.5055 - val_root_mean_squared_error: 0.7110\n",
      "Epoch 33/100\n",
      "1499/1500 [============================>.] - ETA: 0s - loss: 0.5041 - root_mean_squared_error: 0.7100WARNING:tensorflow:Early stopping conditioned on metric `val_rootmeansquarederror` which is not available. Available metrics are: loss,root_mean_squared_error,val_loss,val_root_mean_squared_error\n",
      "1500/1500 [==============================] - 32s 21ms/step - loss: 0.5042 - root_mean_squared_error: 0.7100 - val_loss: 0.5064 - val_root_mean_squared_error: 0.7116\n",
      "Epoch 34/100\n",
      "1497/1500 [============================>.] - ETA: 0s - loss: 0.5033 - root_mean_squared_error: 0.7094WARNING:tensorflow:Early stopping conditioned on metric `val_rootmeansquarederror` which is not available. Available metrics are: loss,root_mean_squared_error,val_loss,val_root_mean_squared_error\n",
      "1500/1500 [==============================] - 32s 21ms/step - loss: 0.5032 - root_mean_squared_error: 0.7094 - val_loss: 0.5086 - val_root_mean_squared_error: 0.7132\n",
      "Epoch 35/100\n",
      "1499/1500 [============================>.] - ETA: 0s - loss: 0.5037 - root_mean_squared_error: 0.7097WARNING:tensorflow:Early stopping conditioned on metric `val_rootmeansquarederror` which is not available. Available metrics are: loss,root_mean_squared_error,val_loss,val_root_mean_squared_error\n",
      "1500/1500 [==============================] - 31s 20ms/step - loss: 0.5036 - root_mean_squared_error: 0.7097 - val_loss: 0.5066 - val_root_mean_squared_error: 0.7118\n",
      "Epoch 36/100\n",
      "1498/1500 [============================>.] - ETA: 0s - loss: 0.5031 - root_mean_squared_error: 0.7093WARNING:tensorflow:Early stopping conditioned on metric `val_rootmeansquarederror` which is not available. Available metrics are: loss,root_mean_squared_error,val_loss,val_root_mean_squared_error\n",
      "1500/1500 [==============================] - 32s 21ms/step - loss: 0.5031 - root_mean_squared_error: 0.7093 - val_loss: 0.5056 - val_root_mean_squared_error: 0.7110\n",
      "Epoch 37/100\n",
      "1498/1500 [============================>.] - ETA: 0s - loss: 0.5028 - root_mean_squared_error: 0.7091WARNING:tensorflow:Early stopping conditioned on metric `val_rootmeansquarederror` which is not available. Available metrics are: loss,root_mean_squared_error,val_loss,val_root_mean_squared_error\n",
      "1500/1500 [==============================] - 31s 21ms/step - loss: 0.5028 - root_mean_squared_error: 0.7091 - val_loss: 0.5058 - val_root_mean_squared_error: 0.7112\n",
      "Epoch 38/100\n",
      "1499/1500 [============================>.] - ETA: 0s - loss: 0.5018 - root_mean_squared_error: 0.7084WARNING:tensorflow:Early stopping conditioned on metric `val_rootmeansquarederror` which is not available. Available metrics are: loss,root_mean_squared_error,val_loss,val_root_mean_squared_error\n",
      "1500/1500 [==============================] - 32s 21ms/step - loss: 0.5017 - root_mean_squared_error: 0.7083 - val_loss: 0.5057 - val_root_mean_squared_error: 0.7111\n",
      "Epoch 39/100\n",
      "1500/1500 [==============================] - ETA: 0s - loss: 0.5020 - root_mean_squared_error: 0.7085WARNING:tensorflow:Early stopping conditioned on metric `val_rootmeansquarederror` which is not available. Available metrics are: loss,root_mean_squared_error,val_loss,val_root_mean_squared_error\n",
      "1500/1500 [==============================] - 32s 21ms/step - loss: 0.5020 - root_mean_squared_error: 0.7085 - val_loss: 0.5077 - val_root_mean_squared_error: 0.7125\n",
      "Epoch 40/100\n",
      " 589/1500 [==========>...................] - ETA: 18s - loss: 0.5029 - root_mean_squared_error: 0.7092"
     ]
    }
   ],
   "source": [
    "# train\n",
    "model, history = dt.fit(X_train, y_train, epochs=100)"
   ]
  },
  {
   "cell_type": "code",
   "execution_count": 5,
   "metadata": {},
   "outputs": [
    {
     "data": {
      "text/plain": [
       "{'loss': 0.5103922486305237, 'root_mean_squared_error': 0.7144173979759216}"
      ]
     },
     "execution_count": 5,
     "metadata": {},
     "output_type": "execute_result"
    }
   ],
   "source": [
    "# evaluate\n",
    "# score = dt.evaluate(X_test, y_test)\n",
    "score = joblib.load(\"../models/dt_score.pkl\")\n",
    "score"
   ]
  }
 ],
 "metadata": {
  "environment": {
   "name": "tf2-gpu.2-3.m61",
   "type": "gcloud",
   "uri": "gcr.io/deeplearning-platform-release/tf2-gpu.2-3:m61"
  },
  "kernelspec": {
   "display_name": "Python 3",
   "language": "python",
   "name": "python3"
  },
  "language_info": {
   "codemirror_mode": {
    "name": "ipython",
    "version": 3
   },
   "file_extension": ".py",
   "mimetype": "text/x-python",
   "name": "python",
   "nbconvert_exporter": "python",
   "pygments_lexer": "ipython3",
   "version": "3.7.9"
  }
 },
 "nbformat": 4,
 "nbformat_minor": 4
}
