{
 "cells": [
  {
   "cell_type": "code",
   "execution_count": 16,
   "metadata": {},
   "outputs": [],
   "source": [
    "# imports\n",
    "import pandas as pd"
   ]
  },
  {
   "cell_type": "code",
   "execution_count": 2,
   "metadata": {},
   "outputs": [],
   "source": [
    "# read data\n",
    "train = pd.read_csv(\"../inputs/train_folds.csv\")"
   ]
  },
  {
   "cell_type": "code",
   "execution_count": 3,
   "metadata": {},
   "outputs": [
    {
     "data": {
      "text/html": [
       "<div>\n",
       "<style scoped>\n",
       "    .dataframe tbody tr th:only-of-type {\n",
       "        vertical-align: middle;\n",
       "    }\n",
       "\n",
       "    .dataframe tbody tr th {\n",
       "        vertical-align: top;\n",
       "    }\n",
       "\n",
       "    .dataframe thead th {\n",
       "        text-align: right;\n",
       "    }\n",
       "</style>\n",
       "<table border=\"1\" class=\"dataframe\">\n",
       "  <thead>\n",
       "    <tr style=\"text-align: right;\">\n",
       "      <th></th>\n",
       "      <th>id</th>\n",
       "      <th>cont1</th>\n",
       "      <th>cont2</th>\n",
       "      <th>cont3</th>\n",
       "      <th>cont4</th>\n",
       "      <th>cont5</th>\n",
       "      <th>cont6</th>\n",
       "      <th>cont7</th>\n",
       "      <th>cont8</th>\n",
       "      <th>cont9</th>\n",
       "      <th>cont10</th>\n",
       "      <th>cont11</th>\n",
       "      <th>cont12</th>\n",
       "      <th>cont13</th>\n",
       "      <th>cont14</th>\n",
       "      <th>target</th>\n",
       "      <th>kfold</th>\n",
       "    </tr>\n",
       "  </thead>\n",
       "  <tbody>\n",
       "    <tr>\n",
       "      <th>0</th>\n",
       "      <td>57348</td>\n",
       "      <td>0.48304</td>\n",
       "      <td>0.420289</td>\n",
       "      <td>0.418021</td>\n",
       "      <td>0.443441</td>\n",
       "      <td>0.281142</td>\n",
       "      <td>0.355079</td>\n",
       "      <td>0.526795</td>\n",
       "      <td>0.539485</td>\n",
       "      <td>0.491896</td>\n",
       "      <td>0.379660</td>\n",
       "      <td>0.276498</td>\n",
       "      <td>0.311546</td>\n",
       "      <td>0.289783</td>\n",
       "      <td>0.347652</td>\n",
       "      <td>8.687497</td>\n",
       "      <td>0</td>\n",
       "    </tr>\n",
       "    <tr>\n",
       "      <th>1</th>\n",
       "      <td>321045</td>\n",
       "      <td>0.44957</td>\n",
       "      <td>0.289416</td>\n",
       "      <td>0.288387</td>\n",
       "      <td>0.273547</td>\n",
       "      <td>0.282645</td>\n",
       "      <td>0.434354</td>\n",
       "      <td>0.292902</td>\n",
       "      <td>0.282978</td>\n",
       "      <td>0.185660</td>\n",
       "      <td>0.495884</td>\n",
       "      <td>0.486860</td>\n",
       "      <td>0.191516</td>\n",
       "      <td>0.321713</td>\n",
       "      <td>0.829566</td>\n",
       "      <td>7.150092</td>\n",
       "      <td>0</td>\n",
       "    </tr>\n",
       "  </tbody>\n",
       "</table>\n",
       "</div>"
      ],
      "text/plain": [
       "       id    cont1     cont2     cont3     cont4     cont5     cont6  \\\n",
       "0   57348  0.48304  0.420289  0.418021  0.443441  0.281142  0.355079   \n",
       "1  321045  0.44957  0.289416  0.288387  0.273547  0.282645  0.434354   \n",
       "\n",
       "      cont7     cont8     cont9    cont10    cont11    cont12    cont13  \\\n",
       "0  0.526795  0.539485  0.491896  0.379660  0.276498  0.311546  0.289783   \n",
       "1  0.292902  0.282978  0.185660  0.495884  0.486860  0.191516  0.321713   \n",
       "\n",
       "     cont14    target  kfold  \n",
       "0  0.347652  8.687497      0  \n",
       "1  0.829566  7.150092      0  "
      ]
     },
     "execution_count": 3,
     "metadata": {},
     "output_type": "execute_result"
    }
   ],
   "source": [
    "# view data\n",
    "train.head(2)"
   ]
  },
  {
   "cell_type": "code",
   "execution_count": 5,
   "metadata": {},
   "outputs": [],
   "source": [
    "# add a dummy cat variable\n",
    "train['dummy'] = 'dummy'"
   ]
  },
  {
   "cell_type": "code",
   "execution_count": 6,
   "metadata": {},
   "outputs": [
    {
     "data": {
      "text/plain": [
       "id          int64\n",
       "cont1     float64\n",
       "cont2     float64\n",
       "cont3     float64\n",
       "cont4     float64\n",
       "cont5     float64\n",
       "cont6     float64\n",
       "cont7     float64\n",
       "cont8     float64\n",
       "cont9     float64\n",
       "cont10    float64\n",
       "cont11    float64\n",
       "cont12    float64\n",
       "cont13    float64\n",
       "cont14    float64\n",
       "target    float64\n",
       "kfold       int64\n",
       "dummy      object\n",
       "dtype: object"
      ]
     },
     "execution_count": 6,
     "metadata": {},
     "output_type": "execute_result"
    }
   ],
   "source": [
    "# see data types of columns\n",
    "train.dtypes"
   ]
  },
  {
   "cell_type": "code",
   "execution_count": 12,
   "metadata": {},
   "outputs": [
    {
     "data": {
      "text/plain": [
       "['id',\n",
       " 'cont1',\n",
       " 'cont2',\n",
       " 'cont3',\n",
       " 'cont4',\n",
       " 'cont5',\n",
       " 'cont6',\n",
       " 'cont7',\n",
       " 'cont8',\n",
       " 'cont9',\n",
       " 'cont10',\n",
       " 'cont11',\n",
       " 'cont12',\n",
       " 'cont13',\n",
       " 'cont14',\n",
       " 'target',\n",
       " 'kfold']"
      ]
     },
     "execution_count": 12,
     "metadata": {},
     "output_type": "execute_result"
    }
   ],
   "source": [
    "# get numeric fields\n",
    "train.select_dtypes(include = 'number').columns.tolist()"
   ]
  },
  {
   "cell_type": "code",
   "execution_count": 13,
   "metadata": {},
   "outputs": [
    {
     "data": {
      "text/plain": [
       "['dummy']"
      ]
     },
     "execution_count": 13,
     "metadata": {},
     "output_type": "execute_result"
    }
   ],
   "source": [
    "# get categorical fields\n",
    "train.select_dtypes(exclude = 'number').columns.tolist()"
   ]
  },
  {
   "cell_type": "code",
   "execution_count": 21,
   "metadata": {},
   "outputs": [
    {
     "data": {
      "text/plain": [
       "id          int64\n",
       "target    float64\n",
       "dtype: object"
      ]
     },
     "execution_count": 21,
     "metadata": {},
     "output_type": "execute_result"
    }
   ],
   "source": [
    "# check sample submission field datatype\n",
    "ss = pd.read_csv('../inputs/sample_submission.csv')\n",
    "ss.dtypes"
   ]
  }
 ],
 "metadata": {
  "environment": {
   "name": "common-cpu.mnightly-2021-01-05-debian-10-test",
   "type": "gcloud",
   "uri": "gcr.io/deeplearning-platform-release/base-cpu:mnightly-2021-01-05-debian-10-test"
  },
  "kernelspec": {
   "display_name": "Python 3",
   "language": "python",
   "name": "python3"
  },
  "language_info": {
   "codemirror_mode": {
    "name": "ipython",
    "version": 3
   },
   "file_extension": ".py",
   "mimetype": "text/x-python",
   "name": "python",
   "nbconvert_exporter": "python",
   "pygments_lexer": "ipython3",
   "version": "3.7.9"
  }
 },
 "nbformat": 4,
 "nbformat_minor": 4
}
