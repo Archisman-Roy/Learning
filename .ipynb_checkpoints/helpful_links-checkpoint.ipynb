{
 "cells": [
  {
   "cell_type": "markdown",
   "metadata": {},
   "source": [
    "#### Changing .bash_profile and Environment variables"
   ]
  },
  {
   "cell_type": "markdown",
   "metadata": {},
   "source": [
    "[Helpful github thread but this one did not worrk](https://github.com/jupyter/help/issues/136)\n",
    "\n",
    "\n",
    "[Blog which worked](https://www.architectryan.com/2012/10/02/add-to-the-path-on-mac-os-x-mountain-lion/#.WJtwQxIrKHp)\n",
    "\n",
    "\n",
    "[Blog with excellent write up on env variables](https://medium.com/@youngstone89/setting-up-environment-variables-in-mac-os-28e5941c771c)"
   ]
  }
 ],
 "metadata": {
  "kernelspec": {
   "display_name": "Python 3",
   "language": "python",
   "name": "python3"
  },
  "language_info": {
   "codemirror_mode": {
    "name": "ipython",
    "version": 3
   },
   "file_extension": ".py",
   "mimetype": "text/x-python",
   "name": "python",
   "nbconvert_exporter": "python",
   "pygments_lexer": "ipython3",
   "version": "3.7.4"
  }
 },
 "nbformat": 4,
 "nbformat_minor": 2
}
