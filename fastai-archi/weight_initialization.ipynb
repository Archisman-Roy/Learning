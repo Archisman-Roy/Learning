{
 "cells": [
  {
   "cell_type": "markdown",
   "metadata": {},
   "source": [
    "### Experiment 1"
   ]
  },
  {
   "cell_type": "code",
   "execution_count": 1,
   "metadata": {},
   "outputs": [],
   "source": [
    "from torch import nn\n",
    "import numpy as np\n",
    "from matplotlib import pyplot as plt\n",
    "import math"
   ]
  },
  {
   "cell_type": "code",
   "execution_count": 2,
   "metadata": {},
   "outputs": [],
   "source": [
    "number_of_dimensions,number_of_activations = 500,100"
   ]
  },
  {
   "cell_type": "code",
   "execution_count": 3,
   "metadata": {},
   "outputs": [],
   "source": [
    "class Net1(nn.Module):\n",
    "  # default weight initialization\n",
    "  def __init__(self):\n",
    "    super(Net1, self).__init__()\n",
    "    self.fc1 = nn.Linear(number_of_dimensions,number_of_activations) "
   ]
  },
  {
   "cell_type": "code",
   "execution_count": 4,
   "metadata": {},
   "outputs": [],
   "source": [
    "class Net2(nn.Module):\n",
    "  # explicit nn.init\n",
    "  def __init__(self):\n",
    "    super(Net2, self).__init__()\n",
    "    self.fc1 = nn.Linear(number_of_dimensions,number_of_activations) \n",
    "    x = 0.2  # 1. / sqrt(4)\n",
    "    nn.init.uniform_(self.fc1.weight, -x, x)\n",
    "    nn.init.uniform_(self.fc1.bias, -x, x)"
   ]
  },
  {
   "cell_type": "code",
   "execution_count": 5,
   "metadata": {},
   "outputs": [],
   "source": [
    "net1 = Net1()\n",
    "net2 = Net2()"
   ]
  },
  {
   "cell_type": "code",
   "execution_count": 6,
   "metadata": {},
   "outputs": [
    {
     "name": "stdout",
     "output_type": "stream",
     "text": [
      "Default init weights: \n",
      "Parameter containing:\n",
      "tensor([[ 0.0385, -0.0265, -0.0367,  ...,  0.0442,  0.0266,  0.0286],\n",
      "        [ 0.0068,  0.0219,  0.0188,  ...,  0.0344, -0.0014,  0.0153],\n",
      "        [ 0.0204, -0.0221,  0.0195,  ..., -0.0366, -0.0242,  0.0346],\n",
      "        ...,\n",
      "        [-0.0145, -0.0111, -0.0146,  ...,  0.0356,  0.0184, -0.0066],\n",
      "        [ 0.0062,  0.0372, -0.0386,  ...,  0.0277, -0.0427,  0.0271],\n",
      "        [-0.0098, -0.0172,  0.0178,  ...,  0.0291, -0.0170, -0.0246]],\n",
      "       requires_grad=True)\n",
      "\n",
      "\n",
      "Explicit nn.init.uniform_ weights: \n",
      "Parameter containing:\n",
      "tensor([[-0.1232,  0.1910,  0.0260,  ...,  0.1831, -0.0554,  0.1540],\n",
      "        [ 0.1513, -0.0194,  0.1941,  ..., -0.0770,  0.1285, -0.0029],\n",
      "        [ 0.0040, -0.1023,  0.1441,  ..., -0.0664,  0.1795, -0.1040],\n",
      "        ...,\n",
      "        [ 0.1063,  0.1575, -0.1438,  ...,  0.0740, -0.0718,  0.1033],\n",
      "        [-0.1864, -0.0622,  0.0117,  ...,  0.1777,  0.0026,  0.0536],\n",
      "        [ 0.0329, -0.0766,  0.0742,  ...,  0.0392, -0.0995, -0.0212]],\n",
      "       requires_grad=True)\n"
     ]
    }
   ],
   "source": [
    "print(\"Default init weights: \")\n",
    "print(net1.fc1.weight)\n",
    "\n",
    "print(\"\\n\\nExplicit nn.init.uniform_ weights: \")\n",
    "print(net2.fc1.weight)"
   ]
  },
  {
   "cell_type": "code",
   "execution_count": 7,
   "metadata": {},
   "outputs": [
    {
     "name": "stdout",
     "output_type": "stream",
     "text": [
      "Default init weights: \n",
      "[[ 0.0385165  -0.02646448 -0.03667587 ...  0.04422266  0.02657046\n",
      "   0.02864505]\n",
      " [ 0.00678397  0.0218991   0.0188037  ...  0.03438147 -0.00142012\n",
      "   0.01528051]\n",
      " [ 0.02037961 -0.02207854  0.01953059 ... -0.0365597  -0.0242158\n",
      "   0.03464742]\n",
      " ...\n",
      " [-0.01445154 -0.01106464 -0.01463124 ...  0.03556912  0.01836796\n",
      "  -0.00661514]\n",
      " [ 0.00618476  0.03723408 -0.03863303 ...  0.02772732 -0.04271461\n",
      "   0.02714888]\n",
      " [-0.0098145  -0.0171518   0.01777223 ...  0.02911189 -0.01695923\n",
      "  -0.02461182]]\n",
      "\n",
      "\n",
      "Explicit nn.init.uniform_ weights: \n",
      "[[-0.12317755  0.19095792  0.02597351 ...  0.18313639 -0.0554053\n",
      "   0.15399401]\n",
      " [ 0.15133332 -0.01941785  0.1941384  ... -0.07696505  0.1285197\n",
      "  -0.00294733]\n",
      " [ 0.00402407 -0.10229915  0.14414419 ... -0.06636409  0.17954816\n",
      "  -0.10397341]\n",
      " ...\n",
      " [ 0.10629483  0.1575131  -0.14382263 ...  0.07398947 -0.0718441\n",
      "   0.10331447]\n",
      " [-0.18641749 -0.06217746  0.01171342 ...  0.17771767  0.00258262\n",
      "   0.05359446]\n",
      " [ 0.03286819 -0.07660766  0.07424249 ...  0.0392489  -0.09952245\n",
      "  -0.02117009]]\n"
     ]
    }
   ],
   "source": [
    "#Numpy variant\n",
    "print(\"Default init weights: \")\n",
    "print(net1.fc1.weight.detach().numpy())\n",
    "\n",
    "print(\"\\n\\nExplicit nn.init.uniform_ weights: \")\n",
    "print(net2.fc1.weight.detach().numpy())"
   ]
  },
  {
   "cell_type": "code",
   "execution_count": 8,
   "metadata": {},
   "outputs": [
    {
     "data": {
      "text/plain": [
       "(array([45., 59., 41., 43., 47., 58., 48., 53., 54., 52.]),\n",
       " array([-0.04463869, -0.03573334, -0.02682799, -0.01792264, -0.00901729,\n",
       "        -0.00011194,  0.00879341,  0.01769875,  0.0266041 ,  0.03550945,\n",
       "         0.0444148 ], dtype=float32),\n",
       " <a list of 10 Patch objects>)"
      ]
     },
     "execution_count": 8,
     "metadata": {},
     "output_type": "execute_result"
    },
    {
     "data": {
      "image/png": "[encoded data removed]",
      "text/plain": [
       "<Figure size 432x288 with 1 Axes>"
      ]
     },
     "metadata": {
      "needs_background": "light"
     },
     "output_type": "display_data"
    }
   ],
   "source": [
    "#Histogram of default weights\n",
    "plt.hist(net1.fc1.weight.detach().numpy()[0])"
   ]
  },
  {
   "cell_type": "code",
   "execution_count": 9,
   "metadata": {},
   "outputs": [
    {
     "name": "stdout",
     "output_type": "stream",
     "text": [
      "stdv is:  0.044721359549995794\n"
     ]
    }
   ],
   "source": [
    "# the above chart is actually created from\n",
    "# self.weight.data.uniform_(-stdv, stdv)\n",
    "# where stdv is estimated from \n",
    "# stdv = 1. / math.sqrt(self.weight.size(1))\n",
    "\n",
    "# validate\n",
    "print(\"stdv is: \", 1. / math.sqrt(number_of_dimensions)) "
   ]
  },
  {
   "cell_type": "code",
   "execution_count": 10,
   "metadata": {},
   "outputs": [
    {
     "data": {
      "text/plain": [
       "(array([54., 54., 50., 49., 38., 54., 52., 53., 64., 32.]),\n",
       " array([-0.19993122, -0.16001047, -0.12008974, -0.08016899, -0.04024825,\n",
       "        -0.00032751,  0.03959323,  0.07951397,  0.11943471,  0.15935545,\n",
       "         0.1992762 ], dtype=float32),\n",
       " <a list of 10 Patch objects>)"
      ]
     },
     "execution_count": 10,
     "metadata": {},
     "output_type": "execute_result"
    },
    {
     "data": {
      "image/png": "[encoded data removed]",
      "text/plain": [
       "<Figure size 432x288 with 1 Axes>"
      ]
     },
     "metadata": {
      "needs_background": "light"
     },
     "output_type": "display_data"
    }
   ],
   "source": [
    "#Histogram of custom weights\n",
    "plt.hist(net2.fc1.weight.detach().numpy()[0])"
   ]
  },
  {
   "cell_type": "markdown",
   "metadata": {},
   "source": [
    "### Experiment 2"
   ]
  }
 ],
 "metadata": {
  "kernelspec": {
   "display_name": "Python 3",
   "language": "python",
   "name": "python3"
  },
  "language_info": {
   "codemirror_mode": {
    "name": "ipython",
    "version": 3
   },
   "file_extension": ".py",
   "mimetype": "text/x-python",
   "name": "python",
   "nbconvert_exporter": "python",
   "pygments_lexer": "ipython3",
   "version": "3.7.4"
  }
 },
 "nbformat": 4,
 "nbformat_minor": 2
}
